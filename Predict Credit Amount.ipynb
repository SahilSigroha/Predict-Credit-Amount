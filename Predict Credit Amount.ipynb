{
 "cells": [
  {
   "cell_type": "markdown",
   "id": "daa5e5fd",
   "metadata": {},
   "source": [
    "### Objective of the problem: \n",
    "The objective of the problem is to predict the values of credit_amount variable as per serial number variable. Please view the sample submissions file for better understanding. The solution must be presented in the form of a csv with predicted values of the response variable credit_amount along with it’s corresponding serial number."
   ]
  },
  {
   "cell_type": "markdown",
   "id": "4a8ac82a",
   "metadata": {},
   "source": [
    "### Features:\n",
    "The data given is of credit records of individuals with certain attributes. Please go through following to understand the variables involved: \n",
    "1. serial number : unique identification key \n",
    "\n",
    "2. account_info : Categorized details of existing accounts of the individuals. The balance of money in account provided is stated by this variable \n",
    "\n",
    "3. purpose: This variable signifies why the loan was taken \n",
    "A40 signifies that the loan is taken to buy a new car \n",
    "A46 signifies that the loan is taken for education \n",
    "A47 signifies that the loan is taken for vacation \n",
    "A48 signifies that the loan is taken for re skilling \n",
    "A49 signifies that the loan is taken for business and establishment \n",
    "A410 signifies other purposes \n",
    "\n",
    "4. savings_account: This variable signifies details of the amount present in savings account of the individual: \n",
    "A61 signifies that less than 100 units (excluding 100) of currency is present \n",
    "A62 signifies that greater than 100 units (including 100) and less than 500 (excluding 500) units of currency is present \n",
    "A63 signifies that greater than 500 (including 500) and less than 1000 (excluding 1000) units of currency is present. \n",
    "A64 signifies that greater than 1000 (including 1000) units of currency is present. \n",
    "A65 signifies that no savings account details is present on record \n",
    "\n",
    "5. **employment_st: Catergorical variable that signifies the employment status of everyone who has been alloted loans \n",
    "A71 signifies that the individual is unemployed \n",
    "A72 signifies that the individual has been employed for less than a year \n",
    "A73 signifies that the individual has been employed for more than a year but less than four years \n",
    "A74 signifies that the individual has been employed more than four years but less than seven years \n",
    "A75 signifies that the individual has been employed for more than seven years \n",
    "\n",
    "6. gurantors: Categorical variable which signifies if any other individual is involved with an individual loan case \n",
    "A101 signifies that only a single individual is involved in the loan application \n",
    "A102 signifies that one or more co-applicant is present in the loan application \n",
    "A103 signifies that guarantor are present. \n",
    "\n",
    "7. resident_since: Numerical variable that signifies for how many years the applicant has been a resident. \n",
    "\n",
    "8. property_type: This qualitative variable defines the property holding information of the individual \n",
    "A121 signifies that the individual holds real estate property \n",
    "A122 signifies that the individual holds a building society savings agreement or life insurance \n",
    "A123 signifies that the individual holds cars or other properties \n",
    "A124 signifies that property information is not available \n",
    "\n",
    "9. age: Numerical variable that signifies age in number of years \n",
    "\n",
    "10. installment_type: This variable signifies other installment types taken \n",
    "A141 signifies installment to bank \n",
    "A142 signifies installment to outlets or stores \n",
    "A143 signifies that no information is present \n",
    "\n",
    "11. housing_type: This is a categorical variable that signifies which type of housing does a applicant have. \n",
    "A151 signifies that the housing is on rent \n",
    "A152 signifies that the housing is owned by the applicant \n",
    "A153 signifies that no loan amount is present on the housing and there is no expense for the housing) \n",
    "\n",
    "12. credits_no: Numerical variable for number of credits taken by the person \n",
    "\n",
    "13. job_type: Signifies the employment status of the person \n",
    "A171 signifies that the individual is unemployed or unskilled and is a non-resident \n",
    "A172 signifies that the individual is unskilled but is a resident \n",
    "A173 signifies that the individual is a skilled employee or official \n",
    "A174 signifies that the individual is involved in management or is self-employed or a \n",
    "highly qualified employee or officer \n",
    "\n",
    "14. liables: Signifies number of persons dependent on the applicant \n",
    "\n",
    "15. telephone: Signifies if the individual has a telephone or not \n",
    "A191 signifies that no telephonic records are present \n",
    "A192 signifies that a telephone is registered with the customer’s name \n",
    "\n",
    "16.foreigner: Signifies if the individual is a foreigner or not (considering the country of residence of the bank) \n",
    "A201 signifies that the individual is a foreigner \n",
    "A202 signifies that the individual is a resident "
   ]
  },
  {
   "cell_type": "markdown",
   "id": "ad4fa876",
   "metadata": {},
   "source": [
    "### Importing Libraries"
   ]
  },
  {
   "cell_type": "code",
   "execution_count": 1,
   "id": "b95a5d68",
   "metadata": {},
   "outputs": [],
   "source": [
    "import pandas as pd\n",
    "import numpy as np\n",
    "import matplotlib.pyplot as plt\n",
    "import seaborn as sns\n",
    "from warnings import filterwarnings\n",
    "filterwarnings('ignore')"
   ]
  },
  {
   "cell_type": "markdown",
   "id": "de1d21cf",
   "metadata": {},
   "source": [
    "### Reading the dataset"
   ]
  },
  {
   "cell_type": "code",
   "execution_count": 2,
   "id": "f3c199b0",
   "metadata": {},
   "outputs": [
    {
     "data": {
      "text/html": [
       "<div>\n",
       "<style scoped>\n",
       "    .dataframe tbody tr th:only-of-type {\n",
       "        vertical-align: middle;\n",
       "    }\n",
       "\n",
       "    .dataframe tbody tr th {\n",
       "        vertical-align: top;\n",
       "    }\n",
       "\n",
       "    .dataframe thead th {\n",
       "        text-align: right;\n",
       "    }\n",
       "</style>\n",
       "<table border=\"1\" class=\"dataframe\">\n",
       "  <thead>\n",
       "    <tr style=\"text-align: right;\">\n",
       "      <th></th>\n",
       "      <th>serial number</th>\n",
       "      <th>account_info</th>\n",
       "      <th>duration_month</th>\n",
       "      <th>Loan</th>\n",
       "      <th>Regularity</th>\n",
       "      <th>Purpose</th>\n",
       "      <th>credit_amount</th>\n",
       "      <th>savings_account</th>\n",
       "      <th>Saving Account</th>\n",
       "      <th>employment_st</th>\n",
       "      <th>...</th>\n",
       "      <th>resident_since</th>\n",
       "      <th>property_type</th>\n",
       "      <th>age</th>\n",
       "      <th>installment_type</th>\n",
       "      <th>housing_type</th>\n",
       "      <th>credits_no</th>\n",
       "      <th>job_type</th>\n",
       "      <th>liables</th>\n",
       "      <th>telephone</th>\n",
       "      <th>foreigner</th>\n",
       "    </tr>\n",
       "  </thead>\n",
       "  <tbody>\n",
       "    <tr>\n",
       "      <th>0</th>\n",
       "      <td>1</td>\n",
       "      <td>BRONZE</td>\n",
       "      <td>6</td>\n",
       "      <td>YES</td>\n",
       "      <td>NO</td>\n",
       "      <td>A40</td>\n",
       "      <td>1169</td>\n",
       "      <td>A65</td>\n",
       "      <td>NaN</td>\n",
       "      <td>A75</td>\n",
       "      <td>...</td>\n",
       "      <td>4</td>\n",
       "      <td>A121</td>\n",
       "      <td>67</td>\n",
       "      <td>A143</td>\n",
       "      <td>A152</td>\n",
       "      <td>2</td>\n",
       "      <td>A173</td>\n",
       "      <td>1</td>\n",
       "      <td>A192</td>\n",
       "      <td>A201</td>\n",
       "    </tr>\n",
       "    <tr>\n",
       "      <th>1</th>\n",
       "      <td>2</td>\n",
       "      <td>SILVER</td>\n",
       "      <td>48</td>\n",
       "      <td>YES</td>\n",
       "      <td>YES</td>\n",
       "      <td>A40</td>\n",
       "      <td>5951</td>\n",
       "      <td>A61</td>\n",
       "      <td>72.0</td>\n",
       "      <td>A73</td>\n",
       "      <td>...</td>\n",
       "      <td>2</td>\n",
       "      <td>A121</td>\n",
       "      <td>22</td>\n",
       "      <td>A143</td>\n",
       "      <td>A152</td>\n",
       "      <td>1</td>\n",
       "      <td>A173</td>\n",
       "      <td>1</td>\n",
       "      <td>A191</td>\n",
       "      <td>A201</td>\n",
       "    </tr>\n",
       "    <tr>\n",
       "      <th>2</th>\n",
       "      <td>3</td>\n",
       "      <td>NaN</td>\n",
       "      <td>12</td>\n",
       "      <td>YES</td>\n",
       "      <td>NO</td>\n",
       "      <td>A46</td>\n",
       "      <td>2096</td>\n",
       "      <td>A61</td>\n",
       "      <td>68.0</td>\n",
       "      <td>A74</td>\n",
       "      <td>...</td>\n",
       "      <td>3</td>\n",
       "      <td>A121</td>\n",
       "      <td>49</td>\n",
       "      <td>A143</td>\n",
       "      <td>A152</td>\n",
       "      <td>1</td>\n",
       "      <td>A172</td>\n",
       "      <td>2</td>\n",
       "      <td>A191</td>\n",
       "      <td>A201</td>\n",
       "    </tr>\n",
       "    <tr>\n",
       "      <th>3</th>\n",
       "      <td>4</td>\n",
       "      <td>BRONZE</td>\n",
       "      <td>42</td>\n",
       "      <td>YES</td>\n",
       "      <td>YES</td>\n",
       "      <td>A40</td>\n",
       "      <td>7882</td>\n",
       "      <td>A61</td>\n",
       "      <td>73.0</td>\n",
       "      <td>A74</td>\n",
       "      <td>...</td>\n",
       "      <td>4</td>\n",
       "      <td>A122</td>\n",
       "      <td>45</td>\n",
       "      <td>A143</td>\n",
       "      <td>A153</td>\n",
       "      <td>1</td>\n",
       "      <td>A173</td>\n",
       "      <td>2</td>\n",
       "      <td>A191</td>\n",
       "      <td>A201</td>\n",
       "    </tr>\n",
       "    <tr>\n",
       "      <th>4</th>\n",
       "      <td>5</td>\n",
       "      <td>BRONZE</td>\n",
       "      <td>24</td>\n",
       "      <td>YES</td>\n",
       "      <td>NO</td>\n",
       "      <td>A40</td>\n",
       "      <td>4870</td>\n",
       "      <td>A61</td>\n",
       "      <td>52.0</td>\n",
       "      <td>A73</td>\n",
       "      <td>...</td>\n",
       "      <td>4</td>\n",
       "      <td>A124</td>\n",
       "      <td>53</td>\n",
       "      <td>A143</td>\n",
       "      <td>A153</td>\n",
       "      <td>2</td>\n",
       "      <td>A173</td>\n",
       "      <td>2</td>\n",
       "      <td>A191</td>\n",
       "      <td>A201</td>\n",
       "    </tr>\n",
       "  </tbody>\n",
       "</table>\n",
       "<p>5 rows × 25 columns</p>\n",
       "</div>"
      ],
      "text/plain": [
       "   serial number account_info  duration_month Loan Regularity Purpose  \\\n",
       "0              1       BRONZE               6  YES         NO     A40   \n",
       "1              2       SILVER              48  YES        YES     A40   \n",
       "2              3          NaN              12  YES         NO     A46   \n",
       "3              4       BRONZE              42  YES        YES     A40   \n",
       "4              5       BRONZE              24  YES         NO     A40   \n",
       "\n",
       "   credit_amount savings_account  Saving Account employment_st  ...  \\\n",
       "0           1169             A65             NaN           A75  ...   \n",
       "1           5951             A61            72.0           A73  ...   \n",
       "2           2096             A61            68.0           A74  ...   \n",
       "3           7882             A61            73.0           A74  ...   \n",
       "4           4870             A61            52.0           A73  ...   \n",
       "\n",
       "   resident_since  property_type age installment_type housing_type  \\\n",
       "0               4           A121  67             A143         A152   \n",
       "1               2           A121  22             A143         A152   \n",
       "2               3           A121  49             A143         A152   \n",
       "3               4           A122  45             A143         A153   \n",
       "4               4           A124  53             A143         A153   \n",
       "\n",
       "   credits_no job_type  liables telephone foreigner  \n",
       "0           2     A173        1      A192      A201  \n",
       "1           1     A173        1      A191      A201  \n",
       "2           1     A172        2      A191      A201  \n",
       "3           1     A173        2      A191      A201  \n",
       "4           2     A173        2      A191      A201  \n",
       "\n",
       "[5 rows x 25 columns]"
      ]
     },
     "execution_count": 2,
     "metadata": {},
     "output_type": "execute_result"
    }
   ],
   "source": [
    "df=pd.read_csv('train.csv')\n",
    "df.head()"
   ]
  },
  {
   "cell_type": "markdown",
   "id": "12521a66",
   "metadata": {},
   "source": [
    "### Data Analysis and Preparation\n",
    "\t\n",
    "Data preparation is the process of cleaning and transforming raw data before building predictive models.\n",
    "\n",
    "Here, we analyze and perform the following tasks:\n",
    "1. Check data types. Ensure your data types are correct.\n",
    "2. We need to change the data types as per requirement If they are not as per business definition\n",
    "3. Go through the summary statistics\n",
    "4. Distribution of variables\n",
    "5. Study the correlation\n",
    "6. Detect outliers from the data\n",
    "7. Look for the missing values"
   ]
  },
  {
   "cell_type": "markdown",
   "id": "491cdf40",
   "metadata": {},
   "source": [
    "### Understanding the Dataset"
   ]
  },
  {
   "cell_type": "code",
   "execution_count": 3,
   "id": "7e2f1ccb",
   "metadata": {},
   "outputs": [
    {
     "data": {
      "text/plain": [
       "(700, 25)"
      ]
     },
     "execution_count": 3,
     "metadata": {},
     "output_type": "execute_result"
    }
   ],
   "source": [
    "df1=df.copy()\n",
    "df1.shape"
   ]
  },
  {
   "cell_type": "code",
   "execution_count": 4,
   "id": "44c55f20",
   "metadata": {},
   "outputs": [
    {
     "data": {
      "text/plain": [
       "Index(['serial number', 'account_info', 'duration_month', 'Loan', 'Regularity',\n",
       "       'Purpose', 'credit_amount', 'savings_account', 'Saving Account',\n",
       "       'employment_st', 'Salary', 'investment', 'Gender', 'Status',\n",
       "       'gurantors', 'resident_since', 'property_type', 'age',\n",
       "       'installment_type', 'housing_type', 'credits_no', 'job_type', 'liables',\n",
       "       'telephone', 'foreigner'],\n",
       "      dtype='object')"
      ]
     },
     "execution_count": 4,
     "metadata": {},
     "output_type": "execute_result"
    }
   ],
   "source": [
    "df1.columns"
   ]
  },
  {
   "cell_type": "markdown",
   "id": "fc5faa8d",
   "metadata": {},
   "source": [
    "### Checking for Data Types"
   ]
  },
  {
   "cell_type": "code",
   "execution_count": 5,
   "id": "1da1aee4",
   "metadata": {},
   "outputs": [
    {
     "name": "stdout",
     "output_type": "stream",
     "text": [
      "<class 'pandas.core.frame.DataFrame'>\n",
      "RangeIndex: 700 entries, 0 to 699\n",
      "Data columns (total 25 columns):\n",
      " #   Column            Non-Null Count  Dtype  \n",
      "---  ------            --------------  -----  \n",
      " 0   serial number     700 non-null    int64  \n",
      " 1   account_info      427 non-null    object \n",
      " 2   duration_month    700 non-null    int64  \n",
      " 3   Loan              700 non-null    object \n",
      " 4   Regularity        700 non-null    object \n",
      " 5   Purpose           700 non-null    object \n",
      " 6   credit_amount     700 non-null    int64  \n",
      " 7   savings_account   700 non-null    object \n",
      " 8   Saving Account    580 non-null    float64\n",
      " 9   employment_st     700 non-null    object \n",
      " 10  Salary            700 non-null    int64  \n",
      " 11  investment        700 non-null    float64\n",
      " 12  Gender            700 non-null    object \n",
      " 13  Status            700 non-null    object \n",
      " 14  gurantors         700 non-null    object \n",
      " 15  resident_since    700 non-null    int64  \n",
      " 16  property_type     700 non-null    object \n",
      " 17  age               700 non-null    int64  \n",
      " 18  installment_type  700 non-null    object \n",
      " 19  housing_type      700 non-null    object \n",
      " 20  credits_no        700 non-null    int64  \n",
      " 21  job_type          700 non-null    object \n",
      " 22  liables           700 non-null    int64  \n",
      " 23  telephone         700 non-null    object \n",
      " 24  foreigner         700 non-null    object \n",
      "dtypes: float64(2), int64(8), object(15)\n",
      "memory usage: 136.8+ KB\n"
     ]
    }
   ],
   "source": [
    "df1.info()"
   ]
  },
  {
   "cell_type": "markdown",
   "id": "85b709bc",
   "metadata": {},
   "source": [
    "#### 1. For getting the statistical summary of numerical variables we use the describe()"
   ]
  },
  {
   "cell_type": "code",
   "execution_count": 6,
   "id": "60d2dbef",
   "metadata": {},
   "outputs": [
    {
     "data": {
      "text/html": [
       "<div>\n",
       "<style scoped>\n",
       "    .dataframe tbody tr th:only-of-type {\n",
       "        vertical-align: middle;\n",
       "    }\n",
       "\n",
       "    .dataframe tbody tr th {\n",
       "        vertical-align: top;\n",
       "    }\n",
       "\n",
       "    .dataframe thead th {\n",
       "        text-align: right;\n",
       "    }\n",
       "</style>\n",
       "<table border=\"1\" class=\"dataframe\">\n",
       "  <thead>\n",
       "    <tr style=\"text-align: right;\">\n",
       "      <th></th>\n",
       "      <th>serial number</th>\n",
       "      <th>duration_month</th>\n",
       "      <th>credit_amount</th>\n",
       "      <th>Saving Account</th>\n",
       "      <th>Salary</th>\n",
       "      <th>investment</th>\n",
       "      <th>resident_since</th>\n",
       "      <th>age</th>\n",
       "      <th>credits_no</th>\n",
       "      <th>liables</th>\n",
       "    </tr>\n",
       "  </thead>\n",
       "  <tbody>\n",
       "    <tr>\n",
       "      <th>count</th>\n",
       "      <td>700.00000</td>\n",
       "      <td>700.000000</td>\n",
       "      <td>700.000000</td>\n",
       "      <td>580.000000</td>\n",
       "      <td>700.000000</td>\n",
       "      <td>700.000000</td>\n",
       "      <td>700.000000</td>\n",
       "      <td>700.000000</td>\n",
       "      <td>700.000000</td>\n",
       "      <td>700.000000</td>\n",
       "    </tr>\n",
       "    <tr>\n",
       "      <th>mean</th>\n",
       "      <td>350.50000</td>\n",
       "      <td>20.652857</td>\n",
       "      <td>3182.331429</td>\n",
       "      <td>265.208621</td>\n",
       "      <td>1610.258571</td>\n",
       "      <td>39.365286</td>\n",
       "      <td>2.808571</td>\n",
       "      <td>35.322857</td>\n",
       "      <td>1.392857</td>\n",
       "      <td>1.148571</td>\n",
       "    </tr>\n",
       "    <tr>\n",
       "      <th>std</th>\n",
       "      <td>202.21688</td>\n",
       "      <td>12.279683</td>\n",
       "      <td>2725.319217</td>\n",
       "      <td>569.396113</td>\n",
       "      <td>784.923838</td>\n",
       "      <td>6.784642</td>\n",
       "      <td>1.114573</td>\n",
       "      <td>11.319842</td>\n",
       "      <td>0.572328</td>\n",
       "      <td>0.355920</td>\n",
       "    </tr>\n",
       "    <tr>\n",
       "      <th>min</th>\n",
       "      <td>1.00000</td>\n",
       "      <td>4.000000</td>\n",
       "      <td>276.000000</td>\n",
       "      <td>1.000000</td>\n",
       "      <td>700.000000</td>\n",
       "      <td>26.010000</td>\n",
       "      <td>1.000000</td>\n",
       "      <td>19.000000</td>\n",
       "      <td>1.000000</td>\n",
       "      <td>1.000000</td>\n",
       "    </tr>\n",
       "    <tr>\n",
       "      <th>25%</th>\n",
       "      <td>175.75000</td>\n",
       "      <td>12.000000</td>\n",
       "      <td>1350.750000</td>\n",
       "      <td>34.000000</td>\n",
       "      <td>953.500000</td>\n",
       "      <td>33.742500</td>\n",
       "      <td>2.000000</td>\n",
       "      <td>27.000000</td>\n",
       "      <td>1.000000</td>\n",
       "      <td>1.000000</td>\n",
       "    </tr>\n",
       "    <tr>\n",
       "      <th>50%</th>\n",
       "      <td>350.50000</td>\n",
       "      <td>18.000000</td>\n",
       "      <td>2253.000000</td>\n",
       "      <td>70.000000</td>\n",
       "      <td>1265.500000</td>\n",
       "      <td>39.570000</td>\n",
       "      <td>3.000000</td>\n",
       "      <td>33.000000</td>\n",
       "      <td>1.000000</td>\n",
       "      <td>1.000000</td>\n",
       "    </tr>\n",
       "    <tr>\n",
       "      <th>75%</th>\n",
       "      <td>525.25000</td>\n",
       "      <td>24.000000</td>\n",
       "      <td>3913.250000</td>\n",
       "      <td>137.500000</td>\n",
       "      <td>2198.250000</td>\n",
       "      <td>44.765000</td>\n",
       "      <td>4.000000</td>\n",
       "      <td>41.000000</td>\n",
       "      <td>2.000000</td>\n",
       "      <td>1.000000</td>\n",
       "    </tr>\n",
       "    <tr>\n",
       "      <th>max</th>\n",
       "      <td>700.00000</td>\n",
       "      <td>72.000000</td>\n",
       "      <td>15945.000000</td>\n",
       "      <td>3791.000000</td>\n",
       "      <td>3499.000000</td>\n",
       "      <td>53.610000</td>\n",
       "      <td>4.000000</td>\n",
       "      <td>75.000000</td>\n",
       "      <td>4.000000</td>\n",
       "      <td>2.000000</td>\n",
       "    </tr>\n",
       "  </tbody>\n",
       "</table>\n",
       "</div>"
      ],
      "text/plain": [
       "       serial number  duration_month  credit_amount  Saving Account  \\\n",
       "count      700.00000      700.000000     700.000000      580.000000   \n",
       "mean       350.50000       20.652857    3182.331429      265.208621   \n",
       "std        202.21688       12.279683    2725.319217      569.396113   \n",
       "min          1.00000        4.000000     276.000000        1.000000   \n",
       "25%        175.75000       12.000000    1350.750000       34.000000   \n",
       "50%        350.50000       18.000000    2253.000000       70.000000   \n",
       "75%        525.25000       24.000000    3913.250000      137.500000   \n",
       "max        700.00000       72.000000   15945.000000     3791.000000   \n",
       "\n",
       "            Salary  investment  resident_since         age  credits_no  \\\n",
       "count   700.000000  700.000000      700.000000  700.000000  700.000000   \n",
       "mean   1610.258571   39.365286        2.808571   35.322857    1.392857   \n",
       "std     784.923838    6.784642        1.114573   11.319842    0.572328   \n",
       "min     700.000000   26.010000        1.000000   19.000000    1.000000   \n",
       "25%     953.500000   33.742500        2.000000   27.000000    1.000000   \n",
       "50%    1265.500000   39.570000        3.000000   33.000000    1.000000   \n",
       "75%    2198.250000   44.765000        4.000000   41.000000    2.000000   \n",
       "max    3499.000000   53.610000        4.000000   75.000000    4.000000   \n",
       "\n",
       "          liables  \n",
       "count  700.000000  \n",
       "mean     1.148571  \n",
       "std      0.355920  \n",
       "min      1.000000  \n",
       "25%      1.000000  \n",
       "50%      1.000000  \n",
       "75%      1.000000  \n",
       "max      2.000000  "
      ]
     },
     "execution_count": 6,
     "metadata": {},
     "output_type": "execute_result"
    }
   ],
   "source": [
    "df1.describe()"
   ]
  },
  {
   "cell_type": "markdown",
   "id": "a3a7f9f2",
   "metadata": {},
   "source": [
    "- The above output displays the summary statistics of all the numeric variables like mean, median, standard deviation, minimum, and the maximum values, the first and third quantiles.\n"
   ]
  },
  {
   "cell_type": "markdown",
   "id": "bbfccee0",
   "metadata": {},
   "source": [
    "#### 2. For getting the statistical summary of categorical features we use the describe(include = object)"
   ]
  },
  {
   "cell_type": "code",
   "execution_count": 7,
   "id": "2425b46b",
   "metadata": {},
   "outputs": [
    {
     "data": {
      "text/html": [
       "<div>\n",
       "<style scoped>\n",
       "    .dataframe tbody tr th:only-of-type {\n",
       "        vertical-align: middle;\n",
       "    }\n",
       "\n",
       "    .dataframe tbody tr th {\n",
       "        vertical-align: top;\n",
       "    }\n",
       "\n",
       "    .dataframe thead th {\n",
       "        text-align: right;\n",
       "    }\n",
       "</style>\n",
       "<table border=\"1\" class=\"dataframe\">\n",
       "  <thead>\n",
       "    <tr style=\"text-align: right;\">\n",
       "      <th></th>\n",
       "      <th>account_info</th>\n",
       "      <th>Loan</th>\n",
       "      <th>Regularity</th>\n",
       "      <th>Purpose</th>\n",
       "      <th>savings_account</th>\n",
       "      <th>employment_st</th>\n",
       "      <th>Gender</th>\n",
       "      <th>Status</th>\n",
       "      <th>gurantors</th>\n",
       "      <th>property_type</th>\n",
       "      <th>installment_type</th>\n",
       "      <th>housing_type</th>\n",
       "      <th>job_type</th>\n",
       "      <th>telephone</th>\n",
       "      <th>foreigner</th>\n",
       "    </tr>\n",
       "  </thead>\n",
       "  <tbody>\n",
       "    <tr>\n",
       "      <th>count</th>\n",
       "      <td>427</td>\n",
       "      <td>700</td>\n",
       "      <td>700</td>\n",
       "      <td>700</td>\n",
       "      <td>700</td>\n",
       "      <td>700</td>\n",
       "      <td>700</td>\n",
       "      <td>700</td>\n",
       "      <td>700</td>\n",
       "      <td>700</td>\n",
       "      <td>700</td>\n",
       "      <td>700</td>\n",
       "      <td>700</td>\n",
       "      <td>700</td>\n",
       "      <td>700</td>\n",
       "    </tr>\n",
       "    <tr>\n",
       "      <th>unique</th>\n",
       "      <td>3</td>\n",
       "      <td>2</td>\n",
       "      <td>2</td>\n",
       "      <td>5</td>\n",
       "      <td>5</td>\n",
       "      <td>5</td>\n",
       "      <td>2</td>\n",
       "      <td>3</td>\n",
       "      <td>3</td>\n",
       "      <td>4</td>\n",
       "      <td>3</td>\n",
       "      <td>3</td>\n",
       "      <td>4</td>\n",
       "      <td>2</td>\n",
       "      <td>2</td>\n",
       "    </tr>\n",
       "    <tr>\n",
       "      <th>top</th>\n",
       "      <td>SILVER</td>\n",
       "      <td>YES</td>\n",
       "      <td>YES</td>\n",
       "      <td>A40</td>\n",
       "      <td>A61</td>\n",
       "      <td>A73</td>\n",
       "      <td>M</td>\n",
       "      <td>Umarried</td>\n",
       "      <td>A101</td>\n",
       "      <td>A123</td>\n",
       "      <td>A143</td>\n",
       "      <td>A152</td>\n",
       "      <td>A173</td>\n",
       "      <td>A191</td>\n",
       "      <td>A201</td>\n",
       "    </tr>\n",
       "    <tr>\n",
       "      <th>freq</th>\n",
       "      <td>197</td>\n",
       "      <td>642</td>\n",
       "      <td>434</td>\n",
       "      <td>575</td>\n",
       "      <td>427</td>\n",
       "      <td>244</td>\n",
       "      <td>484</td>\n",
       "      <td>386</td>\n",
       "      <td>633</td>\n",
       "      <td>238</td>\n",
       "      <td>570</td>\n",
       "      <td>503</td>\n",
       "      <td>445</td>\n",
       "      <td>422</td>\n",
       "      <td>674</td>\n",
       "    </tr>\n",
       "  </tbody>\n",
       "</table>\n",
       "</div>"
      ],
      "text/plain": [
       "       account_info Loan Regularity Purpose savings_account employment_st  \\\n",
       "count           427  700        700     700             700           700   \n",
       "unique            3    2          2       5               5             5   \n",
       "top          SILVER  YES        YES     A40             A61           A73   \n",
       "freq            197  642        434     575             427           244   \n",
       "\n",
       "       Gender    Status gurantors property_type installment_type housing_type  \\\n",
       "count     700       700       700           700              700          700   \n",
       "unique      2         3         3             4                3            3   \n",
       "top         M  Umarried      A101          A123             A143         A152   \n",
       "freq      484       386       633           238              570          503   \n",
       "\n",
       "       job_type telephone foreigner  \n",
       "count       700       700       700  \n",
       "unique        4         2         2  \n",
       "top        A173      A191      A201  \n",
       "freq        445       422       674  "
      ]
     },
     "execution_count": 7,
     "metadata": {},
     "output_type": "execute_result"
    }
   ],
   "source": [
    "df1.describe(include = object)"
   ]
  },
  {
   "cell_type": "markdown",
   "id": "97630b81",
   "metadata": {},
   "source": [
    "- The summary statistics for categorical variables contains information about the total number of observations, number of unique classes, the most occurring class, and its frequency.\n",
    "\n",
    "- It is visible that some of the variables have count less than total number of observations which indicates the presence of missing values."
   ]
  },
  {
   "cell_type": "markdown",
   "id": "0fd4dff8",
   "metadata": {},
   "source": [
    "### Checking For Null Values & Duplicates"
   ]
  },
  {
   "cell_type": "code",
   "execution_count": 8,
   "id": "b7f1ff8a",
   "metadata": {},
   "outputs": [
    {
     "data": {
      "text/plain": [
       "account_info      273\n",
       "Saving Account    120\n",
       "dtype: int64"
      ]
     },
     "execution_count": 8,
     "metadata": {},
     "output_type": "execute_result"
    }
   ],
   "source": [
    "nv=df1.isnull().sum()\n",
    "nv[nv>1]"
   ]
  },
  {
   "cell_type": "code",
   "execution_count": 9,
   "id": "04ea5488",
   "metadata": {},
   "outputs": [
    {
     "data": {
      "text/plain": [
       "0"
      ]
     },
     "execution_count": 9,
     "metadata": {},
     "output_type": "execute_result"
    }
   ],
   "source": [
    "df1.duplicated().sum()"
   ]
  },
  {
   "cell_type": "markdown",
   "id": "99bf5ae5",
   "metadata": {},
   "source": [
    "###  Finding the percentage of missing values in each column. If the percentage is more than 0, depict the column name and their corresponding percentage on a bar chart."
   ]
  },
  {
   "cell_type": "code",
   "execution_count": 10,
   "id": "74a5723a",
   "metadata": {},
   "outputs": [
    {
     "data": {
      "text/plain": [
       "account_info      39.000000\n",
       "Saving Account    17.142857\n",
       "dtype: float64"
      ]
     },
     "execution_count": 10,
     "metadata": {},
     "output_type": "execute_result"
    }
   ],
   "source": [
    "percent_missing= df1.isnull().sum() * 100 / len(df)\n",
    "d3=percent_missing[(percent_missing.values>0)]\n",
    "d3"
   ]
  },
  {
   "cell_type": "code",
   "execution_count": 11,
   "id": "48a495ba",
   "metadata": {},
   "outputs": [
    {
     "data": {
      "image/png": "[encoded data removed]",
      "text/plain": [
       "<Figure size 720x720 with 1 Axes>"
      ]
     },
     "metadata": {
      "needs_background": "light"
     },
     "output_type": "display_data"
    }
   ],
   "source": [
    "plt.figure(figsize=(10,10))\n",
    "plt.bar(d3.index,d3.values,label='Column count')\n",
    "plt.xlabel('Columns')\n",
    "plt.ylabel('Percent')\n",
    "plt.legend()\n",
    "plt.xticks(rotation=90)\n",
    "plt.title('Percentage of missing values in each column')\n",
    "plt.show()"
   ]
  },
  {
   "cell_type": "markdown",
   "id": "02b24b44",
   "metadata": {},
   "source": [
    "### Handling Null Values"
   ]
  },
  {
   "cell_type": "code",
   "execution_count": 12,
   "id": "6e15f29a",
   "metadata": {},
   "outputs": [
    {
     "data": {
      "text/plain": [
       "SILVER    197\n",
       "BRONZE    183\n",
       "GOLD       47\n",
       "Name: account_info, dtype: int64"
      ]
     },
     "execution_count": 12,
     "metadata": {},
     "output_type": "execute_result"
    }
   ],
   "source": [
    "df1['account_info'].value_counts()"
   ]
  },
  {
   "cell_type": "code",
   "execution_count": 13,
   "id": "a82a95c9",
   "metadata": {},
   "outputs": [
    {
     "data": {
      "text/plain": [
       "90.0      9\n",
       "81.0      9\n",
       "87.0      8\n",
       "34.0      8\n",
       "98.0      8\n",
       "         ..\n",
       "972.0     1\n",
       "227.0     1\n",
       "2424.0    1\n",
       "202.0     1\n",
       "709.0     1\n",
       "Name: Saving Account, Length: 246, dtype: int64"
      ]
     },
     "execution_count": 13,
     "metadata": {},
     "output_type": "execute_result"
    }
   ],
   "source": [
    "df1['Saving Account'].value_counts()"
   ]
  },
  {
   "cell_type": "code",
   "execution_count": 14,
   "id": "0cece75a",
   "metadata": {},
   "outputs": [
    {
     "data": {
      "text/plain": [
       "265.20862068965516"
      ]
     },
     "execution_count": 14,
     "metadata": {},
     "output_type": "execute_result"
    }
   ],
   "source": [
    "df1['Saving Account'].mean()"
   ]
  },
  {
   "cell_type": "code",
   "execution_count": 15,
   "id": "ec104318",
   "metadata": {},
   "outputs": [
    {
     "data": {
      "text/plain": [
       "count     580.000000\n",
       "mean      265.208621\n",
       "std       569.396113\n",
       "min         1.000000\n",
       "25%        34.000000\n",
       "50%        70.000000\n",
       "75%       137.500000\n",
       "max      3791.000000\n",
       "Name: Saving Account, dtype: float64"
      ]
     },
     "execution_count": 15,
     "metadata": {},
     "output_type": "execute_result"
    }
   ],
   "source": [
    "df1['Saving Account'].describe()"
   ]
  },
  {
   "cell_type": "code",
   "execution_count": 16,
   "id": "1a9f868b",
   "metadata": {},
   "outputs": [],
   "source": [
    "df1['account_info'].fillna('SILVER',inplace=True)\n",
    "df1['Saving Account'].fillna(265.208621,inplace=True)"
   ]
  },
  {
   "cell_type": "markdown",
   "id": "9380905e",
   "metadata": {},
   "source": [
    "### Univariate Data Analysis"
   ]
  },
  {
   "cell_type": "code",
   "execution_count": 17,
   "id": "a38af673",
   "metadata": {},
   "outputs": [
    {
     "name": "stdout",
     "output_type": "stream",
     "text": [
      "\n",
      "serial number\n",
      "1      1\n",
      "471    1\n",
      "463    1\n",
      "464    1\n",
      "465    1\n",
      "      ..\n",
      "235    1\n",
      "236    1\n",
      "237    1\n",
      "238    1\n",
      "700    1\n",
      "Name: serial number, Length: 700, dtype: int64\n",
      "\n",
      "account_info\n",
      "SILVER    470\n",
      "BRONZE    183\n",
      "GOLD       47\n",
      "Name: account_info, dtype: int64\n",
      "\n",
      "duration_month\n",
      "12    137\n",
      "24    126\n",
      "18     81\n",
      "6      58\n",
      "36     58\n",
      "15     40\n",
      "48     34\n",
      "9      33\n",
      "30     24\n",
      "10     22\n",
      "21     17\n",
      "60     10\n",
      "42      8\n",
      "27      8\n",
      "11      6\n",
      "7       5\n",
      "14      4\n",
      "8       4\n",
      "20      3\n",
      "33      3\n",
      "4       3\n",
      "39      3\n",
      "54      2\n",
      "45      2\n",
      "13      2\n",
      "16      1\n",
      "47      1\n",
      "22      1\n",
      "28      1\n",
      "5       1\n",
      "26      1\n",
      "72      1\n",
      "Name: duration_month, dtype: int64\n",
      "\n",
      "Loan\n",
      "YES    642\n",
      "NO      58\n",
      "Name: Loan, dtype: int64\n",
      "\n",
      "Regularity\n",
      "YES    434\n",
      "NO     266\n",
      "Name: Regularity, dtype: int64\n",
      "\n",
      "Purpose\n",
      "A40     575\n",
      "A49      68\n",
      "A46      40\n",
      "A410     10\n",
      "A48       7\n",
      "Name: Purpose, dtype: int64\n",
      "\n",
      "credit_amount\n",
      "1262    3\n",
      "1478    3\n",
      "2333    2\n",
      "1424    2\n",
      "2978    2\n",
      "       ..\n",
      "915     1\n",
      "1595    1\n",
      "4605    1\n",
      "1185    1\n",
      "1905    1\n",
      "Name: credit_amount, Length: 662, dtype: int64\n",
      "\n",
      "savings_account\n",
      "A61    427\n",
      "A65    120\n",
      "A62     77\n",
      "A63     42\n",
      "A64     34\n",
      "Name: savings_account, dtype: int64\n",
      "\n",
      "Saving Account\n",
      "265.208621     120\n",
      "81.000000        9\n",
      "90.000000        9\n",
      "98.000000        8\n",
      "34.000000        8\n",
      "              ... \n",
      "309.000000       1\n",
      "216.000000       1\n",
      "926.000000       1\n",
      "2348.000000      1\n",
      "709.000000       1\n",
      "Name: Saving Account, Length: 247, dtype: int64\n",
      "\n",
      "employment_st\n",
      "A73    244\n",
      "A75    168\n",
      "A74    126\n",
      "A72    118\n",
      "A71     44\n",
      "Name: employment_st, dtype: int64\n",
      "\n",
      "Salary\n",
      "944     5\n",
      "941     4\n",
      "719     3\n",
      "1077    3\n",
      "1089    3\n",
      "       ..\n",
      "2711    1\n",
      "1818    1\n",
      "713     1\n",
      "1667    1\n",
      "976     1\n",
      "Name: Salary, Length: 577, dtype: int64\n",
      "\n",
      "investment\n",
      "37.76    6\n",
      "37.64    5\n",
      "31.24    4\n",
      "45.48    4\n",
      "37.20    4\n",
      "        ..\n",
      "43.04    1\n",
      "46.47    1\n",
      "46.20    1\n",
      "51.12    1\n",
      "39.04    1\n",
      "Name: investment, Length: 518, dtype: int64\n",
      "\n",
      "Gender\n",
      "M    484\n",
      "F    216\n",
      "Name: Gender, dtype: int64\n",
      "\n",
      "Status\n",
      "Umarried    386\n",
      "Divorced    250\n",
      "Married      64\n",
      "Name: Status, dtype: int64\n",
      "\n",
      "gurantors\n",
      "A101    633\n",
      "A103     37\n",
      "A102     30\n",
      "Name: gurantors, dtype: int64\n",
      "\n",
      "resident_since\n",
      "4    280\n",
      "2    214\n",
      "3    106\n",
      "1    100\n",
      "Name: resident_since, dtype: int64\n",
      "\n",
      "property_type\n",
      "A123    238\n",
      "A121    199\n",
      "A122    154\n",
      "A124    109\n",
      "Name: property_type, dtype: int64\n",
      "\n",
      "age\n",
      "27    41\n",
      "26    38\n",
      "23    34\n",
      "36    31\n",
      "24    28\n",
      "28    28\n",
      "35    27\n",
      "30    27\n",
      "31    26\n",
      "25    26\n",
      "34    26\n",
      "29    25\n",
      "32    24\n",
      "33    22\n",
      "37    21\n",
      "22    20\n",
      "39    17\n",
      "38    17\n",
      "40    14\n",
      "42    14\n",
      "44    14\n",
      "41    12\n",
      "20    12\n",
      "45    11\n",
      "49    11\n",
      "47    10\n",
      "21    10\n",
      "50     9\n",
      "43     9\n",
      "48     8\n",
      "52     8\n",
      "46     8\n",
      "61     7\n",
      "53     6\n",
      "51     6\n",
      "57     6\n",
      "54     5\n",
      "55     5\n",
      "63     5\n",
      "60     4\n",
      "58     4\n",
      "56     3\n",
      "66     3\n",
      "64     3\n",
      "65     3\n",
      "74     3\n",
      "19     2\n",
      "75     2\n",
      "67     2\n",
      "68     1\n",
      "70     1\n",
      "62     1\n",
      "Name: age, dtype: int64\n",
      "\n",
      "installment_type\n",
      "A143    570\n",
      "A141     98\n",
      "A142     32\n",
      "Name: installment_type, dtype: int64\n",
      "\n",
      "housing_type\n",
      "A152    503\n",
      "A151    119\n",
      "A153     78\n",
      "Name: housing_type, dtype: int64\n",
      "\n",
      "credits_no\n",
      "1    452\n",
      "2    225\n",
      "3     19\n",
      "4      4\n",
      "Name: credits_no, dtype: int64\n",
      "\n",
      "job_type\n",
      "A173    445\n",
      "A172    137\n",
      "A174    105\n",
      "A171     13\n",
      "Name: job_type, dtype: int64\n",
      "\n",
      "liables\n",
      "1    596\n",
      "2    104\n",
      "Name: liables, dtype: int64\n",
      "\n",
      "telephone\n",
      "A191    422\n",
      "A192    278\n",
      "Name: telephone, dtype: int64\n",
      "\n",
      "foreigner\n",
      "A201    674\n",
      "A202     26\n",
      "Name: foreigner, dtype: int64\n"
     ]
    }
   ],
   "source": [
    "for column in df1.columns:\n",
    "     print(\"\\n\" + column)\n",
    "     print(df1[column].value_counts())"
   ]
  },
  {
   "cell_type": "markdown",
   "id": "92313658",
   "metadata": {},
   "source": [
    "### Segregating numbers and categorical data"
   ]
  },
  {
   "cell_type": "markdown",
   "id": "d42bb9e7",
   "metadata": {},
   "source": [
    "#### Numerical Columns"
   ]
  },
  {
   "cell_type": "code",
   "execution_count": 18,
   "id": "5ce0f329",
   "metadata": {},
   "outputs": [],
   "source": [
    "df1_numerical= df1.select_dtypes(include='number')"
   ]
  },
  {
   "cell_type": "code",
   "execution_count": 19,
   "id": "4bb16a68",
   "metadata": {},
   "outputs": [
    {
     "data": {
      "text/plain": [
       "int64      8\n",
       "float64    2\n",
       "dtype: int64"
      ]
     },
     "execution_count": 19,
     "metadata": {},
     "output_type": "execute_result"
    }
   ],
   "source": [
    "df1_numerical.dtypes.value_counts()"
   ]
  },
  {
   "cell_type": "code",
   "execution_count": 20,
   "id": "c586aaba",
   "metadata": {},
   "outputs": [
    {
     "name": "stdout",
     "output_type": "stream",
     "text": [
      "Index(['serial number', 'duration_month', 'credit_amount', 'Saving Account',\n",
      "       'Salary', 'investment', 'resident_since', 'age', 'credits_no',\n",
      "       'liables'],\n",
      "      dtype='object')\n"
     ]
    }
   ],
   "source": [
    "print(df1_numerical.columns)"
   ]
  },
  {
   "cell_type": "markdown",
   "id": "43108676",
   "metadata": {},
   "source": [
    "#### Boxplots"
   ]
  },
  {
   "cell_type": "code",
   "execution_count": 21,
   "id": "b66a2e5b",
   "metadata": {},
   "outputs": [
    {
     "data": {
      "image/png": "[encoded data removed]",
      "text/plain": [
       "<Figure size 3600x3960 with 10 Axes>"
      ]
     },
     "metadata": {
      "needs_background": "light"
     },
     "output_type": "display_data"
    }
   ],
   "source": [
    "fig, ax = plt.subplots(nrows=5, ncols=2, figsize = (50, 55))\n",
    "\n",
    "# plot the count plot using boxplot() for each numerical variable\n",
    "for variable, subplot in zip(df1_numerical, ax.flatten()):\n",
    "    sns.boxplot(df1_numerical[variable], ax = subplot)"
   ]
  },
  {
   "cell_type": "markdown",
   "id": "b57c1a4c",
   "metadata": {},
   "source": [
    "#### Histogram"
   ]
  },
  {
   "cell_type": "code",
   "execution_count": 22,
   "id": "bdc32e32",
   "metadata": {},
   "outputs": [
    {
     "data": {
      "image/png": "[encoded data removed]",
      "text/plain": [
       "<Figure size 2880x1440 with 12 Axes>"
      ]
     },
     "metadata": {
      "needs_background": "light"
     },
     "output_type": "display_data"
    }
   ],
   "source": [
    "a=df1_numerical.hist(figsize=(40,20))"
   ]
  },
  {
   "cell_type": "markdown",
   "id": "3ff9c8f1",
   "metadata": {},
   "source": [
    "#### Categorical Columns"
   ]
  },
  {
   "cell_type": "code",
   "execution_count": 23,
   "id": "a74448ac",
   "metadata": {},
   "outputs": [],
   "source": [
    "df1_categorical= df1.select_dtypes(exclude='number')"
   ]
  },
  {
   "cell_type": "code",
   "execution_count": 24,
   "id": "7f4816f2",
   "metadata": {},
   "outputs": [
    {
     "data": {
      "text/plain": [
       "object    15\n",
       "dtype: int64"
      ]
     },
     "execution_count": 24,
     "metadata": {},
     "output_type": "execute_result"
    }
   ],
   "source": [
    "df1_categorical.dtypes.value_counts()"
   ]
  },
  {
   "cell_type": "code",
   "execution_count": 25,
   "id": "a4d1b769",
   "metadata": {},
   "outputs": [
    {
     "name": "stdout",
     "output_type": "stream",
     "text": [
      "Index(['account_info', 'Loan', 'Regularity', 'Purpose', 'savings_account',\n",
      "       'employment_st', 'Gender', 'Status', 'gurantors', 'property_type',\n",
      "       'installment_type', 'housing_type', 'job_type', 'telephone',\n",
      "       'foreigner'],\n",
      "      dtype='object')\n"
     ]
    }
   ],
   "source": [
    "print(df1_categorical.columns)"
   ]
  },
  {
   "cell_type": "markdown",
   "id": "52e2cb09",
   "metadata": {},
   "source": [
    "#### Countplots"
   ]
  },
  {
   "cell_type": "code",
   "execution_count": 26,
   "id": "63bdd575",
   "metadata": {},
   "outputs": [
    {
     "data": {
      "image/png": "[encoded data removed]",
      "text/plain": [
       "<Figure size 5760x3960 with 16 Axes>"
      ]
     },
     "metadata": {
      "needs_background": "light"
     },
     "output_type": "display_data"
    }
   ],
   "source": [
    "fig, ax = plt.subplots(nrows=4, ncols=4, figsize = (80, 55))\n",
    "\n",
    "# plot the count plot using countplot() for each categorical variable\n",
    "for variable, subplot in zip(df1_categorical, ax.flatten()):\n",
    "    sns.countplot(df1_categorical[variable], ax = subplot)"
   ]
  },
  {
   "cell_type": "markdown",
   "id": "9bd92452",
   "metadata": {},
   "source": [
    "### Understanding the target variable"
   ]
  },
  {
   "cell_type": "code",
   "execution_count": 27,
   "id": "af8f220c",
   "metadata": {},
   "outputs": [
    {
     "data": {
      "image/png": "[encoded data removed]",
      "text/plain": [
       "<Figure size 432x288 with 1 Axes>"
      ]
     },
     "metadata": {
      "needs_background": "light"
     },
     "output_type": "display_data"
    }
   ],
   "source": [
    "plt.hist(df1['credit_amount'])\n",
    "plt.show()"
   ]
  },
  {
   "cell_type": "code",
   "execution_count": 28,
   "id": "db5265b2",
   "metadata": {},
   "outputs": [
    {
     "data": {
      "image/png": "[encoded data removed]",
      "text/plain": [
       "<Figure size 432x288 with 1 Axes>"
      ]
     },
     "metadata": {
      "needs_background": "light"
     },
     "output_type": "display_data"
    }
   ],
   "source": [
    "sns.distplot(df1['credit_amount'])\n",
    "plt.xticks(rotation=60)\n",
    "plt.show()"
   ]
  },
  {
   "cell_type": "code",
   "execution_count": 29,
   "id": "06af093f",
   "metadata": {},
   "outputs": [
    {
     "data": {
      "image/png": "[encoded data removed]",
      "text/plain": [
       "<Figure size 432x288 with 1 Axes>"
      ]
     },
     "metadata": {
      "needs_background": "light"
     },
     "output_type": "display_data"
    }
   ],
   "source": [
    "sns.distplot(np.log(df1['credit_amount']))\n",
    "plt.xticks(rotation=60)\n",
    "plt.show()"
   ]
  },
  {
   "cell_type": "markdown",
   "id": "7587f674",
   "metadata": {},
   "source": [
    "### Checking for Normality"
   ]
  },
  {
   "cell_type": "code",
   "execution_count": 30,
   "id": "343dcb7f",
   "metadata": {},
   "outputs": [],
   "source": [
    "from scipy.stats import shapiro"
   ]
  },
  {
   "cell_type": "code",
   "execution_count": 31,
   "id": "028cb70d",
   "metadata": {},
   "outputs": [
    {
     "name": "stdout",
     "output_type": "stream",
     "text": [
      "Stat1 0.7955993413925171 p1-value 9.416215156233648e-29\n",
      "Stat2 0.992333710193634 p2-value 0.0011309187393635511\n"
     ]
    }
   ],
   "source": [
    "w1_stat, p1 = shapiro(df1['credit_amount'])\n",
    "print('Stat1',w1_stat,'p1-value',p1)\n",
    "\n",
    "w2_stat, p2 = shapiro(np.log(df1['credit_amount']))\n",
    "print('Stat2',w2_stat,'p2-value',p2)"
   ]
  },
  {
   "cell_type": "markdown",
   "id": "994a11ac",
   "metadata": {},
   "source": [
    "### Dropping Id column for further Analysis"
   ]
  },
  {
   "cell_type": "code",
   "execution_count": 32,
   "id": "d0c8973d",
   "metadata": {},
   "outputs": [
    {
     "data": {
      "text/plain": [
       "700"
      ]
     },
     "execution_count": 32,
     "metadata": {},
     "output_type": "execute_result"
    }
   ],
   "source": [
    "df1['serial number'].nunique()"
   ]
  },
  {
   "cell_type": "code",
   "execution_count": 33,
   "id": "629b4bd9",
   "metadata": {},
   "outputs": [
    {
     "data": {
      "text/html": [
       "<div>\n",
       "<style scoped>\n",
       "    .dataframe tbody tr th:only-of-type {\n",
       "        vertical-align: middle;\n",
       "    }\n",
       "\n",
       "    .dataframe tbody tr th {\n",
       "        vertical-align: top;\n",
       "    }\n",
       "\n",
       "    .dataframe thead th {\n",
       "        text-align: right;\n",
       "    }\n",
       "</style>\n",
       "<table border=\"1\" class=\"dataframe\">\n",
       "  <thead>\n",
       "    <tr style=\"text-align: right;\">\n",
       "      <th></th>\n",
       "      <th>account_info</th>\n",
       "      <th>duration_month</th>\n",
       "      <th>Loan</th>\n",
       "      <th>Regularity</th>\n",
       "      <th>Purpose</th>\n",
       "      <th>credit_amount</th>\n",
       "      <th>savings_account</th>\n",
       "      <th>Saving Account</th>\n",
       "      <th>employment_st</th>\n",
       "      <th>Salary</th>\n",
       "      <th>...</th>\n",
       "      <th>resident_since</th>\n",
       "      <th>property_type</th>\n",
       "      <th>age</th>\n",
       "      <th>installment_type</th>\n",
       "      <th>housing_type</th>\n",
       "      <th>credits_no</th>\n",
       "      <th>job_type</th>\n",
       "      <th>liables</th>\n",
       "      <th>telephone</th>\n",
       "      <th>foreigner</th>\n",
       "    </tr>\n",
       "  </thead>\n",
       "  <tbody>\n",
       "    <tr>\n",
       "      <th>0</th>\n",
       "      <td>BRONZE</td>\n",
       "      <td>6</td>\n",
       "      <td>YES</td>\n",
       "      <td>NO</td>\n",
       "      <td>A40</td>\n",
       "      <td>1169</td>\n",
       "      <td>A65</td>\n",
       "      <td>265.208621</td>\n",
       "      <td>A75</td>\n",
       "      <td>852</td>\n",
       "      <td>...</td>\n",
       "      <td>4</td>\n",
       "      <td>A121</td>\n",
       "      <td>67</td>\n",
       "      <td>A143</td>\n",
       "      <td>A152</td>\n",
       "      <td>2</td>\n",
       "      <td>A173</td>\n",
       "      <td>1</td>\n",
       "      <td>A192</td>\n",
       "      <td>A201</td>\n",
       "    </tr>\n",
       "    <tr>\n",
       "      <th>1</th>\n",
       "      <td>SILVER</td>\n",
       "      <td>48</td>\n",
       "      <td>YES</td>\n",
       "      <td>YES</td>\n",
       "      <td>A40</td>\n",
       "      <td>5951</td>\n",
       "      <td>A61</td>\n",
       "      <td>72.000000</td>\n",
       "      <td>A73</td>\n",
       "      <td>2400</td>\n",
       "      <td>...</td>\n",
       "      <td>2</td>\n",
       "      <td>A121</td>\n",
       "      <td>22</td>\n",
       "      <td>A143</td>\n",
       "      <td>A152</td>\n",
       "      <td>1</td>\n",
       "      <td>A173</td>\n",
       "      <td>1</td>\n",
       "      <td>A191</td>\n",
       "      <td>A201</td>\n",
       "    </tr>\n",
       "  </tbody>\n",
       "</table>\n",
       "<p>2 rows × 24 columns</p>\n",
       "</div>"
      ],
      "text/plain": [
       "  account_info  duration_month Loan Regularity Purpose  credit_amount  \\\n",
       "0       BRONZE               6  YES         NO     A40           1169   \n",
       "1       SILVER              48  YES        YES     A40           5951   \n",
       "\n",
       "  savings_account  Saving Account employment_st  Salary  ...  resident_since  \\\n",
       "0             A65      265.208621           A75     852  ...               4   \n",
       "1             A61       72.000000           A73    2400  ...               2   \n",
       "\n",
       "  property_type age installment_type  housing_type credits_no  job_type  \\\n",
       "0          A121  67             A143          A152          2      A173   \n",
       "1          A121  22             A143          A152          1      A173   \n",
       "\n",
       "  liables telephone  foreigner  \n",
       "0       1      A192       A201  \n",
       "1       1      A191       A201  \n",
       "\n",
       "[2 rows x 24 columns]"
      ]
     },
     "execution_count": 33,
     "metadata": {},
     "output_type": "execute_result"
    }
   ],
   "source": [
    "df1.drop('serial number',axis=1,inplace=True)\n",
    "df1.head(2)"
   ]
  },
  {
   "cell_type": "markdown",
   "id": "f365bfd7",
   "metadata": {},
   "source": [
    "### Studying correlation\n",
    "- To check the correlation between numerical variables, compute a correlation matrix and plot a heatmap for the correlation matrix\n"
   ]
  },
  {
   "cell_type": "code",
   "execution_count": 34,
   "id": "5152d41f",
   "metadata": {},
   "outputs": [
    {
     "data": {
      "text/html": [
       "<div>\n",
       "<style scoped>\n",
       "    .dataframe tbody tr th:only-of-type {\n",
       "        vertical-align: middle;\n",
       "    }\n",
       "\n",
       "    .dataframe tbody tr th {\n",
       "        vertical-align: top;\n",
       "    }\n",
       "\n",
       "    .dataframe thead th {\n",
       "        text-align: right;\n",
       "    }\n",
       "</style>\n",
       "<table border=\"1\" class=\"dataframe\">\n",
       "  <thead>\n",
       "    <tr style=\"text-align: right;\">\n",
       "      <th></th>\n",
       "      <th>duration_month</th>\n",
       "      <th>credit_amount</th>\n",
       "      <th>Saving Account</th>\n",
       "      <th>Salary</th>\n",
       "      <th>investment</th>\n",
       "      <th>resident_since</th>\n",
       "      <th>age</th>\n",
       "      <th>credits_no</th>\n",
       "      <th>liables</th>\n",
       "    </tr>\n",
       "  </thead>\n",
       "  <tbody>\n",
       "    <tr>\n",
       "      <th>duration_month</th>\n",
       "      <td>1.000000</td>\n",
       "      <td>0.634346</td>\n",
       "      <td>-0.039297</td>\n",
       "      <td>-0.050544</td>\n",
       "      <td>0.056986</td>\n",
       "      <td>0.026705</td>\n",
       "      <td>-0.047060</td>\n",
       "      <td>-0.014358</td>\n",
       "      <td>-0.015023</td>\n",
       "    </tr>\n",
       "    <tr>\n",
       "      <th>credit_amount</th>\n",
       "      <td>0.634346</td>\n",
       "      <td>1.000000</td>\n",
       "      <td>-0.045051</td>\n",
       "      <td>0.272107</td>\n",
       "      <td>0.042112</td>\n",
       "      <td>0.029258</td>\n",
       "      <td>0.023802</td>\n",
       "      <td>0.037022</td>\n",
       "      <td>0.012145</td>\n",
       "    </tr>\n",
       "    <tr>\n",
       "      <th>Saving Account</th>\n",
       "      <td>-0.039297</td>\n",
       "      <td>-0.045051</td>\n",
       "      <td>1.000000</td>\n",
       "      <td>-0.030011</td>\n",
       "      <td>0.030546</td>\n",
       "      <td>0.024807</td>\n",
       "      <td>0.065905</td>\n",
       "      <td>0.015343</td>\n",
       "      <td>-0.025628</td>\n",
       "    </tr>\n",
       "    <tr>\n",
       "      <th>Salary</th>\n",
       "      <td>-0.050544</td>\n",
       "      <td>0.272107</td>\n",
       "      <td>-0.030011</td>\n",
       "      <td>1.000000</td>\n",
       "      <td>0.012201</td>\n",
       "      <td>-0.044267</td>\n",
       "      <td>-0.088249</td>\n",
       "      <td>-0.019238</td>\n",
       "      <td>0.083307</td>\n",
       "    </tr>\n",
       "    <tr>\n",
       "      <th>investment</th>\n",
       "      <td>0.056986</td>\n",
       "      <td>0.042112</td>\n",
       "      <td>0.030546</td>\n",
       "      <td>0.012201</td>\n",
       "      <td>1.000000</td>\n",
       "      <td>0.050425</td>\n",
       "      <td>0.068886</td>\n",
       "      <td>0.052050</td>\n",
       "      <td>0.071413</td>\n",
       "    </tr>\n",
       "    <tr>\n",
       "      <th>resident_since</th>\n",
       "      <td>0.026705</td>\n",
       "      <td>0.029258</td>\n",
       "      <td>0.024807</td>\n",
       "      <td>-0.044267</td>\n",
       "      <td>0.050425</td>\n",
       "      <td>1.000000</td>\n",
       "      <td>0.273753</td>\n",
       "      <td>0.077693</td>\n",
       "      <td>0.071796</td>\n",
       "    </tr>\n",
       "    <tr>\n",
       "      <th>age</th>\n",
       "      <td>-0.047060</td>\n",
       "      <td>0.023802</td>\n",
       "      <td>0.065905</td>\n",
       "      <td>-0.088249</td>\n",
       "      <td>0.068886</td>\n",
       "      <td>0.273753</td>\n",
       "      <td>1.000000</td>\n",
       "      <td>0.132760</td>\n",
       "      <td>0.126560</td>\n",
       "    </tr>\n",
       "    <tr>\n",
       "      <th>credits_no</th>\n",
       "      <td>-0.014358</td>\n",
       "      <td>0.037022</td>\n",
       "      <td>0.015343</td>\n",
       "      <td>-0.019238</td>\n",
       "      <td>0.052050</td>\n",
       "      <td>0.077693</td>\n",
       "      <td>0.132760</td>\n",
       "      <td>1.000000</td>\n",
       "      <td>0.092303</td>\n",
       "    </tr>\n",
       "    <tr>\n",
       "      <th>liables</th>\n",
       "      <td>-0.015023</td>\n",
       "      <td>0.012145</td>\n",
       "      <td>-0.025628</td>\n",
       "      <td>0.083307</td>\n",
       "      <td>0.071413</td>\n",
       "      <td>0.071796</td>\n",
       "      <td>0.126560</td>\n",
       "      <td>0.092303</td>\n",
       "      <td>1.000000</td>\n",
       "    </tr>\n",
       "  </tbody>\n",
       "</table>\n",
       "</div>"
      ],
      "text/plain": [
       "                duration_month  credit_amount  Saving Account    Salary  \\\n",
       "duration_month        1.000000       0.634346       -0.039297 -0.050544   \n",
       "credit_amount         0.634346       1.000000       -0.045051  0.272107   \n",
       "Saving Account       -0.039297      -0.045051        1.000000 -0.030011   \n",
       "Salary               -0.050544       0.272107       -0.030011  1.000000   \n",
       "investment            0.056986       0.042112        0.030546  0.012201   \n",
       "resident_since        0.026705       0.029258        0.024807 -0.044267   \n",
       "age                  -0.047060       0.023802        0.065905 -0.088249   \n",
       "credits_no           -0.014358       0.037022        0.015343 -0.019238   \n",
       "liables              -0.015023       0.012145       -0.025628  0.083307   \n",
       "\n",
       "                investment  resident_since       age  credits_no   liables  \n",
       "duration_month    0.056986        0.026705 -0.047060   -0.014358 -0.015023  \n",
       "credit_amount     0.042112        0.029258  0.023802    0.037022  0.012145  \n",
       "Saving Account    0.030546        0.024807  0.065905    0.015343 -0.025628  \n",
       "Salary            0.012201       -0.044267 -0.088249   -0.019238  0.083307  \n",
       "investment        1.000000        0.050425  0.068886    0.052050  0.071413  \n",
       "resident_since    0.050425        1.000000  0.273753    0.077693  0.071796  \n",
       "age               0.068886        0.273753  1.000000    0.132760  0.126560  \n",
       "credits_no        0.052050        0.077693  0.132760    1.000000  0.092303  \n",
       "liables           0.071413        0.071796  0.126560    0.092303  1.000000  "
      ]
     },
     "execution_count": 34,
     "metadata": {},
     "output_type": "execute_result"
    }
   ],
   "source": [
    "corr=df1.corr()\n",
    "corr"
   ]
  },
  {
   "cell_type": "code",
   "execution_count": 35,
   "id": "50596aaa",
   "metadata": {},
   "outputs": [
    {
     "data": {
      "image/png": "[encoded data removed]",
      "text/plain": [
       "<Figure size 2160x2160 with 2 Axes>"
      ]
     },
     "metadata": {
      "needs_background": "light"
     },
     "output_type": "display_data"
    }
   ],
   "source": [
    "plt.figure(figsize=(30,30))\n",
    "sns.heatmap(corr,annot=True)\n",
    "plt.show()"
   ]
  },
  {
   "cell_type": "markdown",
   "id": "c688d3fc",
   "metadata": {},
   "source": [
    "## Handling Outliers\n",
    "1. 5 point summary\n",
    "2. 95% or 97% or 98% or 99% percentile as outliers\n"
   ]
  },
  {
   "cell_type": "code",
   "execution_count": 36,
   "id": "b15f8d12",
   "metadata": {},
   "outputs": [
    {
     "data": {
      "text/html": [
       "<div>\n",
       "<style scoped>\n",
       "    .dataframe tbody tr th:only-of-type {\n",
       "        vertical-align: middle;\n",
       "    }\n",
       "\n",
       "    .dataframe tbody tr th {\n",
       "        vertical-align: top;\n",
       "    }\n",
       "\n",
       "    .dataframe thead th {\n",
       "        text-align: right;\n",
       "    }\n",
       "</style>\n",
       "<table border=\"1\" class=\"dataframe\">\n",
       "  <thead>\n",
       "    <tr style=\"text-align: right;\">\n",
       "      <th></th>\n",
       "      <th>count</th>\n",
       "      <th>mean</th>\n",
       "      <th>std</th>\n",
       "      <th>min</th>\n",
       "      <th>25%</th>\n",
       "      <th>50%</th>\n",
       "      <th>75%</th>\n",
       "      <th>max</th>\n",
       "    </tr>\n",
       "  </thead>\n",
       "  <tbody>\n",
       "    <tr>\n",
       "      <th>duration_month</th>\n",
       "      <td>700.0</td>\n",
       "      <td>20.652857</td>\n",
       "      <td>12.279683</td>\n",
       "      <td>4.00</td>\n",
       "      <td>12.0000</td>\n",
       "      <td>18.00</td>\n",
       "      <td>24.000000</td>\n",
       "      <td>72.00</td>\n",
       "    </tr>\n",
       "    <tr>\n",
       "      <th>credit_amount</th>\n",
       "      <td>700.0</td>\n",
       "      <td>3182.331429</td>\n",
       "      <td>2725.319217</td>\n",
       "      <td>276.00</td>\n",
       "      <td>1350.7500</td>\n",
       "      <td>2253.00</td>\n",
       "      <td>3913.250000</td>\n",
       "      <td>15945.00</td>\n",
       "    </tr>\n",
       "    <tr>\n",
       "      <th>Saving Account</th>\n",
       "      <td>700.0</td>\n",
       "      <td>265.208621</td>\n",
       "      <td>518.221220</td>\n",
       "      <td>1.00</td>\n",
       "      <td>41.0000</td>\n",
       "      <td>83.00</td>\n",
       "      <td>265.208621</td>\n",
       "      <td>3791.00</td>\n",
       "    </tr>\n",
       "    <tr>\n",
       "      <th>Salary</th>\n",
       "      <td>700.0</td>\n",
       "      <td>1610.258571</td>\n",
       "      <td>784.923838</td>\n",
       "      <td>700.00</td>\n",
       "      <td>953.5000</td>\n",
       "      <td>1265.50</td>\n",
       "      <td>2198.250000</td>\n",
       "      <td>3499.00</td>\n",
       "    </tr>\n",
       "    <tr>\n",
       "      <th>investment</th>\n",
       "      <td>700.0</td>\n",
       "      <td>39.365286</td>\n",
       "      <td>6.784642</td>\n",
       "      <td>26.01</td>\n",
       "      <td>33.7425</td>\n",
       "      <td>39.57</td>\n",
       "      <td>44.765000</td>\n",
       "      <td>53.61</td>\n",
       "    </tr>\n",
       "    <tr>\n",
       "      <th>resident_since</th>\n",
       "      <td>700.0</td>\n",
       "      <td>2.808571</td>\n",
       "      <td>1.114573</td>\n",
       "      <td>1.00</td>\n",
       "      <td>2.0000</td>\n",
       "      <td>3.00</td>\n",
       "      <td>4.000000</td>\n",
       "      <td>4.00</td>\n",
       "    </tr>\n",
       "    <tr>\n",
       "      <th>age</th>\n",
       "      <td>700.0</td>\n",
       "      <td>35.322857</td>\n",
       "      <td>11.319842</td>\n",
       "      <td>19.00</td>\n",
       "      <td>27.0000</td>\n",
       "      <td>33.00</td>\n",
       "      <td>41.000000</td>\n",
       "      <td>75.00</td>\n",
       "    </tr>\n",
       "    <tr>\n",
       "      <th>credits_no</th>\n",
       "      <td>700.0</td>\n",
       "      <td>1.392857</td>\n",
       "      <td>0.572328</td>\n",
       "      <td>1.00</td>\n",
       "      <td>1.0000</td>\n",
       "      <td>1.00</td>\n",
       "      <td>2.000000</td>\n",
       "      <td>4.00</td>\n",
       "    </tr>\n",
       "    <tr>\n",
       "      <th>liables</th>\n",
       "      <td>700.0</td>\n",
       "      <td>1.148571</td>\n",
       "      <td>0.355920</td>\n",
       "      <td>1.00</td>\n",
       "      <td>1.0000</td>\n",
       "      <td>1.00</td>\n",
       "      <td>1.000000</td>\n",
       "      <td>2.00</td>\n",
       "    </tr>\n",
       "  </tbody>\n",
       "</table>\n",
       "</div>"
      ],
      "text/plain": [
       "                count         mean          std     min        25%      50%  \\\n",
       "duration_month  700.0    20.652857    12.279683    4.00    12.0000    18.00   \n",
       "credit_amount   700.0  3182.331429  2725.319217  276.00  1350.7500  2253.00   \n",
       "Saving Account  700.0   265.208621   518.221220    1.00    41.0000    83.00   \n",
       "Salary          700.0  1610.258571   784.923838  700.00   953.5000  1265.50   \n",
       "investment      700.0    39.365286     6.784642   26.01    33.7425    39.57   \n",
       "resident_since  700.0     2.808571     1.114573    1.00     2.0000     3.00   \n",
       "age             700.0    35.322857    11.319842   19.00    27.0000    33.00   \n",
       "credits_no      700.0     1.392857     0.572328    1.00     1.0000     1.00   \n",
       "liables         700.0     1.148571     0.355920    1.00     1.0000     1.00   \n",
       "\n",
       "                        75%       max  \n",
       "duration_month    24.000000     72.00  \n",
       "credit_amount   3913.250000  15945.00  \n",
       "Saving Account   265.208621   3791.00  \n",
       "Salary          2198.250000   3499.00  \n",
       "investment        44.765000     53.61  \n",
       "resident_since     4.000000      4.00  \n",
       "age               41.000000     75.00  \n",
       "credits_no         2.000000      4.00  \n",
       "liables            1.000000      2.00  "
      ]
     },
     "execution_count": 36,
     "metadata": {},
     "output_type": "execute_result"
    }
   ],
   "source": [
    "df1.describe().T #transpose"
   ]
  },
  {
   "cell_type": "code",
   "execution_count": 37,
   "id": "702d2f94",
   "metadata": {},
   "outputs": [
    {
     "name": "stdout",
     "output_type": "stream",
     "text": [
      "['duration_month', 'credit_amount', 'Saving Account', 'Salary', 'investment', 'resident_since', 'age', 'credits_no', 'liables']\n"
     ]
    }
   ],
   "source": [
    "out_cols_98 = ['duration_month', 'credit_amount', 'Saving Account',\n",
    "       'Salary', 'investment', 'resident_since', 'age', 'credits_no',\n",
    "       'liables']\n",
    "print(out_cols_98)"
   ]
  },
  {
   "cell_type": "code",
   "execution_count": 38,
   "id": "f803a8ed",
   "metadata": {},
   "outputs": [],
   "source": [
    "def oh1(x):\n",
    "    x = x.clip(upper=x.quantile(0.98))\n",
    "    return x"
   ]
  },
  {
   "cell_type": "code",
   "execution_count": 39,
   "id": "22e24a99",
   "metadata": {},
   "outputs": [],
   "source": [
    "df1[out_cols_98] = df1[out_cols_98].apply(oh1)"
   ]
  },
  {
   "cell_type": "code",
   "execution_count": 40,
   "id": "2a7e2c2d",
   "metadata": {},
   "outputs": [
    {
     "data": {
      "text/html": [
       "<div>\n",
       "<style scoped>\n",
       "    .dataframe tbody tr th:only-of-type {\n",
       "        vertical-align: middle;\n",
       "    }\n",
       "\n",
       "    .dataframe tbody tr th {\n",
       "        vertical-align: top;\n",
       "    }\n",
       "\n",
       "    .dataframe thead th {\n",
       "        text-align: right;\n",
       "    }\n",
       "</style>\n",
       "<table border=\"1\" class=\"dataframe\">\n",
       "  <thead>\n",
       "    <tr style=\"text-align: right;\">\n",
       "      <th></th>\n",
       "      <th>duration_month</th>\n",
       "      <th>credit_amount</th>\n",
       "      <th>Saving Account</th>\n",
       "      <th>Salary</th>\n",
       "      <th>investment</th>\n",
       "      <th>resident_since</th>\n",
       "      <th>age</th>\n",
       "      <th>credits_no</th>\n",
       "      <th>liables</th>\n",
       "    </tr>\n",
       "  </thead>\n",
       "  <tbody>\n",
       "    <tr>\n",
       "      <th>count</th>\n",
       "      <td>700.000000</td>\n",
       "      <td>700.000000</td>\n",
       "      <td>700.000000</td>\n",
       "      <td>700.000000</td>\n",
       "      <td>700.000000</td>\n",
       "      <td>700.000000</td>\n",
       "      <td>700.000000</td>\n",
       "      <td>700.000000</td>\n",
       "      <td>700.000000</td>\n",
       "    </tr>\n",
       "    <tr>\n",
       "      <th>mean</th>\n",
       "      <td>20.430000</td>\n",
       "      <td>3149.176857</td>\n",
       "      <td>253.404678</td>\n",
       "      <td>1608.840286</td>\n",
       "      <td>39.347275</td>\n",
       "      <td>2.808571</td>\n",
       "      <td>35.234286</td>\n",
       "      <td>1.387143</td>\n",
       "      <td>1.148571</td>\n",
       "    </tr>\n",
       "    <tr>\n",
       "      <th>std</th>\n",
       "      <td>11.642479</td>\n",
       "      <td>2599.204549</td>\n",
       "      <td>454.273031</td>\n",
       "      <td>781.650776</td>\n",
       "      <td>6.750628</td>\n",
       "      <td>1.114573</td>\n",
       "      <td>11.052973</td>\n",
       "      <td>0.550828</td>\n",
       "      <td>0.355920</td>\n",
       "    </tr>\n",
       "    <tr>\n",
       "      <th>min</th>\n",
       "      <td>4.000000</td>\n",
       "      <td>276.000000</td>\n",
       "      <td>1.000000</td>\n",
       "      <td>700.000000</td>\n",
       "      <td>26.010000</td>\n",
       "      <td>1.000000</td>\n",
       "      <td>19.000000</td>\n",
       "      <td>1.000000</td>\n",
       "      <td>1.000000</td>\n",
       "    </tr>\n",
       "    <tr>\n",
       "      <th>1%</th>\n",
       "      <td>6.000000</td>\n",
       "      <td>391.930000</td>\n",
       "      <td>2.000000</td>\n",
       "      <td>709.970000</td>\n",
       "      <td>26.698000</td>\n",
       "      <td>1.000000</td>\n",
       "      <td>20.000000</td>\n",
       "      <td>1.000000</td>\n",
       "      <td>1.000000</td>\n",
       "    </tr>\n",
       "    <tr>\n",
       "      <th>2%</th>\n",
       "      <td>6.000000</td>\n",
       "      <td>569.940000</td>\n",
       "      <td>3.980000</td>\n",
       "      <td>719.000000</td>\n",
       "      <td>27.485600</td>\n",
       "      <td>1.000000</td>\n",
       "      <td>20.980000</td>\n",
       "      <td>1.000000</td>\n",
       "      <td>1.000000</td>\n",
       "    </tr>\n",
       "    <tr>\n",
       "      <th>3%</th>\n",
       "      <td>6.000000</td>\n",
       "      <td>638.610000</td>\n",
       "      <td>5.000000</td>\n",
       "      <td>731.000000</td>\n",
       "      <td>27.995800</td>\n",
       "      <td>1.000000</td>\n",
       "      <td>21.000000</td>\n",
       "      <td>1.000000</td>\n",
       "      <td>1.000000</td>\n",
       "    </tr>\n",
       "    <tr>\n",
       "      <th>50%</th>\n",
       "      <td>18.000000</td>\n",
       "      <td>2253.000000</td>\n",
       "      <td>83.000000</td>\n",
       "      <td>1265.500000</td>\n",
       "      <td>39.570000</td>\n",
       "      <td>3.000000</td>\n",
       "      <td>33.000000</td>\n",
       "      <td>1.000000</td>\n",
       "      <td>1.000000</td>\n",
       "    </tr>\n",
       "    <tr>\n",
       "      <th>95%</th>\n",
       "      <td>48.000000</td>\n",
       "      <td>8980.800000</td>\n",
       "      <td>990.300000</td>\n",
       "      <td>3173.150000</td>\n",
       "      <td>50.018500</td>\n",
       "      <td>4.000000</td>\n",
       "      <td>58.100000</td>\n",
       "      <td>2.000000</td>\n",
       "      <td>2.000000</td>\n",
       "    </tr>\n",
       "    <tr>\n",
       "      <th>97%</th>\n",
       "      <td>48.000000</td>\n",
       "      <td>10625.970000</td>\n",
       "      <td>1955.160000</td>\n",
       "      <td>3325.090000</td>\n",
       "      <td>51.120600</td>\n",
       "      <td>4.000000</td>\n",
       "      <td>63.000000</td>\n",
       "      <td>3.000000</td>\n",
       "      <td>2.000000</td>\n",
       "    </tr>\n",
       "    <tr>\n",
       "      <th>98%</th>\n",
       "      <td>48.000000</td>\n",
       "      <td>11938.024000</td>\n",
       "      <td>2391.013200</td>\n",
       "      <td>3369.006000</td>\n",
       "      <td>51.380032</td>\n",
       "      <td>4.000000</td>\n",
       "      <td>65.000000</td>\n",
       "      <td>3.000000</td>\n",
       "      <td>2.000000</td>\n",
       "    </tr>\n",
       "    <tr>\n",
       "      <th>99%</th>\n",
       "      <td>48.000000</td>\n",
       "      <td>11939.200000</td>\n",
       "      <td>2391.660000</td>\n",
       "      <td>3369.300000</td>\n",
       "      <td>51.381600</td>\n",
       "      <td>4.000000</td>\n",
       "      <td>65.000000</td>\n",
       "      <td>3.000000</td>\n",
       "      <td>2.000000</td>\n",
       "    </tr>\n",
       "    <tr>\n",
       "      <th>max</th>\n",
       "      <td>48.000000</td>\n",
       "      <td>11939.200000</td>\n",
       "      <td>2391.660000</td>\n",
       "      <td>3369.300000</td>\n",
       "      <td>51.381600</td>\n",
       "      <td>4.000000</td>\n",
       "      <td>65.000000</td>\n",
       "      <td>3.000000</td>\n",
       "      <td>2.000000</td>\n",
       "    </tr>\n",
       "  </tbody>\n",
       "</table>\n",
       "</div>"
      ],
      "text/plain": [
       "       duration_month  credit_amount  Saving Account       Salary  investment  \\\n",
       "count      700.000000     700.000000      700.000000   700.000000  700.000000   \n",
       "mean        20.430000    3149.176857      253.404678  1608.840286   39.347275   \n",
       "std         11.642479    2599.204549      454.273031   781.650776    6.750628   \n",
       "min          4.000000     276.000000        1.000000   700.000000   26.010000   \n",
       "1%           6.000000     391.930000        2.000000   709.970000   26.698000   \n",
       "2%           6.000000     569.940000        3.980000   719.000000   27.485600   \n",
       "3%           6.000000     638.610000        5.000000   731.000000   27.995800   \n",
       "50%         18.000000    2253.000000       83.000000  1265.500000   39.570000   \n",
       "95%         48.000000    8980.800000      990.300000  3173.150000   50.018500   \n",
       "97%         48.000000   10625.970000     1955.160000  3325.090000   51.120600   \n",
       "98%         48.000000   11938.024000     2391.013200  3369.006000   51.380032   \n",
       "99%         48.000000   11939.200000     2391.660000  3369.300000   51.381600   \n",
       "max         48.000000   11939.200000     2391.660000  3369.300000   51.381600   \n",
       "\n",
       "       resident_since         age  credits_no     liables  \n",
       "count      700.000000  700.000000  700.000000  700.000000  \n",
       "mean         2.808571   35.234286    1.387143    1.148571  \n",
       "std          1.114573   11.052973    0.550828    0.355920  \n",
       "min          1.000000   19.000000    1.000000    1.000000  \n",
       "1%           1.000000   20.000000    1.000000    1.000000  \n",
       "2%           1.000000   20.980000    1.000000    1.000000  \n",
       "3%           1.000000   21.000000    1.000000    1.000000  \n",
       "50%          3.000000   33.000000    1.000000    1.000000  \n",
       "95%          4.000000   58.100000    2.000000    2.000000  \n",
       "97%          4.000000   63.000000    3.000000    2.000000  \n",
       "98%          4.000000   65.000000    3.000000    2.000000  \n",
       "99%          4.000000   65.000000    3.000000    2.000000  \n",
       "max          4.000000   65.000000    3.000000    2.000000  "
      ]
     },
     "execution_count": 40,
     "metadata": {},
     "output_type": "execute_result"
    }
   ],
   "source": [
    "df1.describe(percentiles=[0.01,0.02,0.03,0.95,0.97,0.98,0.99])"
   ]
  },
  {
   "cell_type": "code",
   "execution_count": 41,
   "id": "4c317d89",
   "metadata": {},
   "outputs": [],
   "source": [
    "def oh2(x):\n",
    "    x = x.clip(lower=x.quantile(0.02))\n",
    "    return x"
   ]
  },
  {
   "cell_type": "code",
   "execution_count": 42,
   "id": "035bea90",
   "metadata": {},
   "outputs": [],
   "source": [
    "df1[out_cols_98] = df1[out_cols_98].apply(oh2)"
   ]
  },
  {
   "cell_type": "markdown",
   "id": "8d40c51c",
   "metadata": {},
   "source": [
    "### Encode Categorical Variables\n",
    "- We need to perform label encoding on our categorical variables before we proceed further."
   ]
  },
  {
   "cell_type": "code",
   "execution_count": 43,
   "id": "d8b6a634",
   "metadata": {},
   "outputs": [
    {
     "data": {
      "text/plain": [
       "(700, 24)"
      ]
     },
     "execution_count": 43,
     "metadata": {},
     "output_type": "execute_result"
    }
   ],
   "source": [
    "df1.shape"
   ]
  },
  {
   "cell_type": "code",
   "execution_count": 44,
   "id": "98b20ef3",
   "metadata": {},
   "outputs": [
    {
     "name": "stdout",
     "output_type": "stream",
     "text": [
      "Index(['serial number', 'duration_month', 'credit_amount', 'Saving Account',\n",
      "       'Salary', 'investment', 'resident_since', 'age', 'credits_no',\n",
      "       'liables'],\n",
      "      dtype='object')\n",
      "Index(['account_info', 'Loan', 'Regularity', 'Purpose', 'savings_account',\n",
      "       'employment_st', 'Gender', 'Status', 'gurantors', 'property_type',\n",
      "       'installment_type', 'housing_type', 'job_type', 'telephone',\n",
      "       'foreigner'],\n",
      "      dtype='object')\n"
     ]
    }
   ],
   "source": [
    "print(df1_numerical.columns)\n",
    "print(df1_categorical.columns)"
   ]
  },
  {
   "cell_type": "code",
   "execution_count": 45,
   "id": "88b9b657",
   "metadata": {},
   "outputs": [
    {
     "data": {
      "text/plain": [
       "object     15\n",
       "float64     7\n",
       "int64       2\n",
       "dtype: int64"
      ]
     },
     "execution_count": 45,
     "metadata": {},
     "output_type": "execute_result"
    }
   ],
   "source": [
    "df1.dtypes.value_counts()"
   ]
  },
  {
   "cell_type": "code",
   "execution_count": 46,
   "id": "abe7e2a6",
   "metadata": {},
   "outputs": [],
   "source": [
    "from sklearn.preprocessing import LabelEncoder"
   ]
  },
  {
   "cell_type": "code",
   "execution_count": 47,
   "id": "08bffc22",
   "metadata": {},
   "outputs": [],
   "source": [
    "lb=LabelEncoder()\n",
    "c=df1_categorical.columns\n",
    "for i in c:\n",
    "    df1[i] =lb.fit_transform(df1[i])"
   ]
  },
  {
   "cell_type": "code",
   "execution_count": 48,
   "id": "b1e35715",
   "metadata": {},
   "outputs": [],
   "source": [
    "lb=LabelEncoder()\n",
    "c=df1_categorical.columns\n",
    "for i in c:\n",
    "    df1[i] =lb.fit_transform(df1[i])"
   ]
  },
  {
   "cell_type": "code",
   "execution_count": 49,
   "id": "dd8b2ac3",
   "metadata": {},
   "outputs": [
    {
     "data": {
      "text/plain": [
       "int64      17\n",
       "float64     7\n",
       "dtype: int64"
      ]
     },
     "execution_count": 49,
     "metadata": {},
     "output_type": "execute_result"
    }
   ],
   "source": [
    "df1.dtypes.value_counts()"
   ]
  },
  {
   "cell_type": "code",
   "execution_count": 50,
   "id": "7c2196db",
   "metadata": {},
   "outputs": [
    {
     "name": "stdout",
     "output_type": "stream",
     "text": [
      "(700, 23)\n",
      "(700,)\n"
     ]
    }
   ],
   "source": [
    "x=df1.drop('credit_amount',axis=1)\n",
    "y=df1['credit_amount']\n",
    "print(x.shape)\n",
    "print(y.shape)"
   ]
  },
  {
   "cell_type": "markdown",
   "id": "d29f4724",
   "metadata": {},
   "source": [
    "### Model Building"
   ]
  },
  {
   "cell_type": "code",
   "execution_count": 51,
   "id": "722674be",
   "metadata": {},
   "outputs": [],
   "source": [
    "from sklearn.model_selection import train_test_split"
   ]
  },
  {
   "cell_type": "code",
   "execution_count": 52,
   "id": "7a7036dd",
   "metadata": {},
   "outputs": [
    {
     "name": "stdout",
     "output_type": "stream",
     "text": [
      "(525, 23)\n",
      "(175, 23)\n",
      "(525,)\n",
      "(175,)\n"
     ]
    }
   ],
   "source": [
    "x_train,x_test,y_train,y_test = train_test_split(x,y,test_size=0.25, random_state=42)\n",
    "print(x_train.shape)\n",
    "print(x_test.shape)\n",
    "print(y_train.shape)\n",
    "print(y_test.shape)"
   ]
  },
  {
   "cell_type": "code",
   "execution_count": 53,
   "id": "a9400553",
   "metadata": {},
   "outputs": [],
   "source": [
    "from sklearn.linear_model import LinearRegression"
   ]
  },
  {
   "cell_type": "code",
   "execution_count": 54,
   "id": "08f2ec86",
   "metadata": {},
   "outputs": [
    {
     "data": {
      "text/html": [
       "<style>#sk-container-id-1 {color: black;background-color: white;}#sk-container-id-1 pre{padding: 0;}#sk-container-id-1 div.sk-toggleable {background-color: white;}#sk-container-id-1 label.sk-toggleable__label {cursor: pointer;display: block;width: 100%;margin-bottom: 0;padding: 0.3em;box-sizing: border-box;text-align: center;}#sk-container-id-1 label.sk-toggleable__label-arrow:before {content: \"▸\";float: left;margin-right: 0.25em;color: #696969;}#sk-container-id-1 label.sk-toggleable__label-arrow:hover:before {color: black;}#sk-container-id-1 div.sk-estimator:hover label.sk-toggleable__label-arrow:before {color: black;}#sk-container-id-1 div.sk-toggleable__content {max-height: 0;max-width: 0;overflow: hidden;text-align: left;background-color: #f0f8ff;}#sk-container-id-1 div.sk-toggleable__content pre {margin: 0.2em;color: black;border-radius: 0.25em;background-color: #f0f8ff;}#sk-container-id-1 input.sk-toggleable__control:checked~div.sk-toggleable__content {max-height: 200px;max-width: 100%;overflow: auto;}#sk-container-id-1 input.sk-toggleable__control:checked~label.sk-toggleable__label-arrow:before {content: \"▾\";}#sk-container-id-1 div.sk-estimator input.sk-toggleable__control:checked~label.sk-toggleable__label {background-color: #d4ebff;}#sk-container-id-1 div.sk-label input.sk-toggleable__control:checked~label.sk-toggleable__label {background-color: #d4ebff;}#sk-container-id-1 input.sk-hidden--visually {border: 0;clip: rect(1px 1px 1px 1px);clip: rect(1px, 1px, 1px, 1px);height: 1px;margin: -1px;overflow: hidden;padding: 0;position: absolute;width: 1px;}#sk-container-id-1 div.sk-estimator {font-family: monospace;background-color: #f0f8ff;border: 1px dotted black;border-radius: 0.25em;box-sizing: border-box;margin-bottom: 0.5em;}#sk-container-id-1 div.sk-estimator:hover {background-color: #d4ebff;}#sk-container-id-1 div.sk-parallel-item::after {content: \"\";width: 100%;border-bottom: 1px solid gray;flex-grow: 1;}#sk-container-id-1 div.sk-label:hover label.sk-toggleable__label {background-color: #d4ebff;}#sk-container-id-1 div.sk-serial::before {content: \"\";position: absolute;border-left: 1px solid gray;box-sizing: border-box;top: 0;bottom: 0;left: 50%;z-index: 0;}#sk-container-id-1 div.sk-serial {display: flex;flex-direction: column;align-items: center;background-color: white;padding-right: 0.2em;padding-left: 0.2em;position: relative;}#sk-container-id-1 div.sk-item {position: relative;z-index: 1;}#sk-container-id-1 div.sk-parallel {display: flex;align-items: stretch;justify-content: center;background-color: white;position: relative;}#sk-container-id-1 div.sk-item::before, #sk-container-id-1 div.sk-parallel-item::before {content: \"\";position: absolute;border-left: 1px solid gray;box-sizing: border-box;top: 0;bottom: 0;left: 50%;z-index: -1;}#sk-container-id-1 div.sk-parallel-item {display: flex;flex-direction: column;z-index: 1;position: relative;background-color: white;}#sk-container-id-1 div.sk-parallel-item:first-child::after {align-self: flex-end;width: 50%;}#sk-container-id-1 div.sk-parallel-item:last-child::after {align-self: flex-start;width: 50%;}#sk-container-id-1 div.sk-parallel-item:only-child::after {width: 0;}#sk-container-id-1 div.sk-dashed-wrapped {border: 1px dashed gray;margin: 0 0.4em 0.5em 0.4em;box-sizing: border-box;padding-bottom: 0.4em;background-color: white;}#sk-container-id-1 div.sk-label label {font-family: monospace;font-weight: bold;display: inline-block;line-height: 1.2em;}#sk-container-id-1 div.sk-label-container {text-align: center;}#sk-container-id-1 div.sk-container {/* jupyter's `normalize.less` sets `[hidden] { display: none; }` but bootstrap.min.css set `[hidden] { display: none !important; }` so we also need the `!important` here to be able to override the default hidden behavior on the sphinx rendered scikit-learn.org. See: https://github.com/scikit-learn/scikit-learn/issues/21755 */display: inline-block !important;position: relative;}#sk-container-id-1 div.sk-text-repr-fallback {display: none;}</style><div id=\"sk-container-id-1\" class=\"sk-top-container\"><div class=\"sk-text-repr-fallback\"><pre>LinearRegression()</pre><b>In a Jupyter environment, please rerun this cell to show the HTML representation or trust the notebook. <br />On GitHub, the HTML representation is unable to render, please try loading this page with nbviewer.org.</b></div><div class=\"sk-container\" hidden><div class=\"sk-item\"><div class=\"sk-estimator sk-toggleable\"><input class=\"sk-toggleable__control sk-hidden--visually\" id=\"sk-estimator-id-1\" type=\"checkbox\" checked><label for=\"sk-estimator-id-1\" class=\"sk-toggleable__label sk-toggleable__label-arrow\">LinearRegression</label><div class=\"sk-toggleable__content\"><pre>LinearRegression()</pre></div></div></div></div></div>"
      ],
      "text/plain": [
       "LinearRegression()"
      ]
     },
     "execution_count": 54,
     "metadata": {},
     "output_type": "execute_result"
    }
   ],
   "source": [
    "m1 = LinearRegression()\n",
    "m1.fit(x_train,y_train)"
   ]
  },
  {
   "cell_type": "code",
   "execution_count": 55,
   "id": "605944f6",
   "metadata": {},
   "outputs": [
    {
     "name": "stdout",
     "output_type": "stream",
     "text": [
      "Training Score 0.6087601850334332\n",
      "Testing Score 0.46361381325208895\n"
     ]
    }
   ],
   "source": [
    "# Model score - R2_Score\n",
    "print('Training Score',m1.score(x_train,y_train))\n",
    "print('Testing Score',m1.score(x_test,y_test))"
   ]
  },
  {
   "cell_type": "code",
   "execution_count": 56,
   "id": "24e14640",
   "metadata": {},
   "outputs": [],
   "source": [
    "ypred_m1 = m1.predict(x_test)"
   ]
  },
  {
   "cell_type": "code",
   "execution_count": 57,
   "id": "d0ad2e9d",
   "metadata": {},
   "outputs": [],
   "source": [
    "from sklearn.metrics import mean_squared_error,mean_absolute_error,r2_score"
   ]
  },
  {
   "cell_type": "code",
   "execution_count": 58,
   "id": "d05e3741",
   "metadata": {},
   "outputs": [
    {
     "name": "stdout",
     "output_type": "stream",
     "text": [
      "MAE 1337.0491540784913\n",
      "MSE 3161360.7558424883\n",
      "RMSE 1778.021584751571\n",
      "R2_score 0.46361381325208895\n",
      "Model_Score 0.46361381325208895\n"
     ]
    }
   ],
   "source": [
    "mae = mean_absolute_error(y_test,ypred_m1)\n",
    "mse = mean_squared_error(y_test,ypred_m1)\n",
    "rmse = np.sqrt(mean_squared_error(y_test,ypred_m1))\n",
    "r2s = r2_score(y_test,ypred_m1)\n",
    "print('MAE',mae)\n",
    "print('MSE',mse)\n",
    "print('RMSE',rmse)\n",
    "print('R2_score',r2s)\n",
    "print('Model_Score',m1.score(x_test,y_test))"
   ]
  },
  {
   "cell_type": "code",
   "execution_count": 59,
   "id": "9b33b46b",
   "metadata": {},
   "outputs": [
    {
     "data": {
      "text/html": [
       "<div>\n",
       "<style scoped>\n",
       "    .dataframe tbody tr th:only-of-type {\n",
       "        vertical-align: middle;\n",
       "    }\n",
       "\n",
       "    .dataframe tbody tr th {\n",
       "        vertical-align: top;\n",
       "    }\n",
       "\n",
       "    .dataframe thead th {\n",
       "        text-align: right;\n",
       "    }\n",
       "</style>\n",
       "<table border=\"1\" class=\"dataframe\">\n",
       "  <thead>\n",
       "    <tr style=\"text-align: right;\">\n",
       "      <th></th>\n",
       "      <th>Model</th>\n",
       "      <th>MAE</th>\n",
       "      <th>MSE</th>\n",
       "      <th>R2 Score</th>\n",
       "      <th>RMSE</th>\n",
       "    </tr>\n",
       "  </thead>\n",
       "  <tbody>\n",
       "  </tbody>\n",
       "</table>\n",
       "</div>"
      ],
      "text/plain": [
       "Empty DataFrame\n",
       "Columns: [Model, MAE, MSE, R2 Score, RMSE]\n",
       "Index: []"
      ]
     },
     "execution_count": 59,
     "metadata": {},
     "output_type": "execute_result"
    }
   ],
   "source": [
    "models = pd.DataFrame(columns=[\"Model\", \"MAE\", \"MSE\", \"R2 Score\",'RMSE'])\n",
    "models"
   ]
  },
  {
   "cell_type": "code",
   "execution_count": 60,
   "id": "0a2504e7",
   "metadata": {},
   "outputs": [
    {
     "data": {
      "text/html": [
       "<div>\n",
       "<style scoped>\n",
       "    .dataframe tbody tr th:only-of-type {\n",
       "        vertical-align: middle;\n",
       "    }\n",
       "\n",
       "    .dataframe tbody tr th {\n",
       "        vertical-align: top;\n",
       "    }\n",
       "\n",
       "    .dataframe thead th {\n",
       "        text-align: right;\n",
       "    }\n",
       "</style>\n",
       "<table border=\"1\" class=\"dataframe\">\n",
       "  <thead>\n",
       "    <tr style=\"text-align: right;\">\n",
       "      <th></th>\n",
       "      <th>Model</th>\n",
       "      <th>MAE</th>\n",
       "      <th>MSE</th>\n",
       "      <th>R2 Score</th>\n",
       "      <th>RMSE</th>\n",
       "    </tr>\n",
       "  </thead>\n",
       "  <tbody>\n",
       "    <tr>\n",
       "      <th>0</th>\n",
       "      <td>LinearRegression Model-1</td>\n",
       "      <td>1337.049154</td>\n",
       "      <td>3161360.755842</td>\n",
       "      <td>0.463614</td>\n",
       "      <td>1778.021585</td>\n",
       "    </tr>\n",
       "  </tbody>\n",
       "</table>\n",
       "</div>"
      ],
      "text/plain": [
       "                      Model          MAE             MSE  R2 Score  \\\n",
       "0  LinearRegression Model-1  1337.049154  3161360.755842  0.463614   \n",
       "\n",
       "          RMSE  \n",
       "0  1778.021585  "
      ]
     },
     "execution_count": 60,
     "metadata": {},
     "output_type": "execute_result"
    }
   ],
   "source": [
    "new_row = {\"Model\": \"LinearRegression Model-1\",\"MAE\": mae, \"MSE\": mse, \"R2 Score\": r2s, \"RMSE\": rmse}\n",
    "models = models.append(new_row,ignore_index=True)\n",
    "models"
   ]
  },
  {
   "cell_type": "code",
   "execution_count": 61,
   "id": "525961e0",
   "metadata": {},
   "outputs": [],
   "source": [
    "df3=df1.copy()"
   ]
  },
  {
   "cell_type": "code",
   "execution_count": 62,
   "id": "f98d407d",
   "metadata": {},
   "outputs": [
    {
     "data": {
      "text/plain": [
       "(700, 24)"
      ]
     },
     "execution_count": 62,
     "metadata": {},
     "output_type": "execute_result"
    }
   ],
   "source": [
    "df3.shape"
   ]
  },
  {
   "cell_type": "code",
   "execution_count": 63,
   "id": "a28d1dc9",
   "metadata": {},
   "outputs": [
    {
     "data": {
      "text/plain": [
       "<AxesSubplot:xlabel='credit_amount', ylabel='Density'>"
      ]
     },
     "execution_count": 63,
     "metadata": {},
     "output_type": "execute_result"
    },
    {
     "data": {
      "image/png": "[encoded data removed]",
      "text/plain": [
       "<Figure size 432x288 with 1 Axes>"
      ]
     },
     "metadata": {
      "needs_background": "light"
     },
     "output_type": "display_data"
    }
   ],
   "source": [
    "df3['credit_amount'] = np.log(df3['credit_amount'])\n",
    "sns.distplot(df3['credit_amount'],bins=100)"
   ]
  },
  {
   "cell_type": "code",
   "execution_count": 64,
   "id": "4d15eea1",
   "metadata": {},
   "outputs": [
    {
     "data": {
      "text/plain": [
       "int64      17\n",
       "float64     7\n",
       "dtype: int64"
      ]
     },
     "execution_count": 64,
     "metadata": {},
     "output_type": "execute_result"
    }
   ],
   "source": [
    "df3.dtypes.value_counts()"
   ]
  },
  {
   "cell_type": "code",
   "execution_count": 65,
   "id": "5b4150a4",
   "metadata": {},
   "outputs": [
    {
     "name": "stdout",
     "output_type": "stream",
     "text": [
      "(700, 23)\n",
      "(700,)\n"
     ]
    }
   ],
   "source": [
    "x=df3.drop('credit_amount',axis=1)\n",
    "y=df3['credit_amount']\n",
    "print(x.shape)\n",
    "print(y.shape)"
   ]
  },
  {
   "cell_type": "code",
   "execution_count": 66,
   "id": "ac8fcd8c",
   "metadata": {},
   "outputs": [
    {
     "name": "stdout",
     "output_type": "stream",
     "text": [
      "(525, 23)\n",
      "(175, 23)\n",
      "(525,)\n",
      "(175,)\n"
     ]
    }
   ],
   "source": [
    "x_train,x_test,y_train,y_test = train_test_split(x,y,test_size=0.25, random_state=42)\n",
    "print(x_train.shape)\n",
    "print(x_test.shape)\n",
    "print(y_train.shape)\n",
    "print(y_test.shape)"
   ]
  },
  {
   "cell_type": "code",
   "execution_count": 67,
   "id": "b3b24bdf",
   "metadata": {},
   "outputs": [
    {
     "data": {
      "text/html": [
       "<style>#sk-container-id-2 {color: black;background-color: white;}#sk-container-id-2 pre{padding: 0;}#sk-container-id-2 div.sk-toggleable {background-color: white;}#sk-container-id-2 label.sk-toggleable__label {cursor: pointer;display: block;width: 100%;margin-bottom: 0;padding: 0.3em;box-sizing: border-box;text-align: center;}#sk-container-id-2 label.sk-toggleable__label-arrow:before {content: \"▸\";float: left;margin-right: 0.25em;color: #696969;}#sk-container-id-2 label.sk-toggleable__label-arrow:hover:before {color: black;}#sk-container-id-2 div.sk-estimator:hover label.sk-toggleable__label-arrow:before {color: black;}#sk-container-id-2 div.sk-toggleable__content {max-height: 0;max-width: 0;overflow: hidden;text-align: left;background-color: #f0f8ff;}#sk-container-id-2 div.sk-toggleable__content pre {margin: 0.2em;color: black;border-radius: 0.25em;background-color: #f0f8ff;}#sk-container-id-2 input.sk-toggleable__control:checked~div.sk-toggleable__content {max-height: 200px;max-width: 100%;overflow: auto;}#sk-container-id-2 input.sk-toggleable__control:checked~label.sk-toggleable__label-arrow:before {content: \"▾\";}#sk-container-id-2 div.sk-estimator input.sk-toggleable__control:checked~label.sk-toggleable__label {background-color: #d4ebff;}#sk-container-id-2 div.sk-label input.sk-toggleable__control:checked~label.sk-toggleable__label {background-color: #d4ebff;}#sk-container-id-2 input.sk-hidden--visually {border: 0;clip: rect(1px 1px 1px 1px);clip: rect(1px, 1px, 1px, 1px);height: 1px;margin: -1px;overflow: hidden;padding: 0;position: absolute;width: 1px;}#sk-container-id-2 div.sk-estimator {font-family: monospace;background-color: #f0f8ff;border: 1px dotted black;border-radius: 0.25em;box-sizing: border-box;margin-bottom: 0.5em;}#sk-container-id-2 div.sk-estimator:hover {background-color: #d4ebff;}#sk-container-id-2 div.sk-parallel-item::after {content: \"\";width: 100%;border-bottom: 1px solid gray;flex-grow: 1;}#sk-container-id-2 div.sk-label:hover label.sk-toggleable__label {background-color: #d4ebff;}#sk-container-id-2 div.sk-serial::before {content: \"\";position: absolute;border-left: 1px solid gray;box-sizing: border-box;top: 0;bottom: 0;left: 50%;z-index: 0;}#sk-container-id-2 div.sk-serial {display: flex;flex-direction: column;align-items: center;background-color: white;padding-right: 0.2em;padding-left: 0.2em;position: relative;}#sk-container-id-2 div.sk-item {position: relative;z-index: 1;}#sk-container-id-2 div.sk-parallel {display: flex;align-items: stretch;justify-content: center;background-color: white;position: relative;}#sk-container-id-2 div.sk-item::before, #sk-container-id-2 div.sk-parallel-item::before {content: \"\";position: absolute;border-left: 1px solid gray;box-sizing: border-box;top: 0;bottom: 0;left: 50%;z-index: -1;}#sk-container-id-2 div.sk-parallel-item {display: flex;flex-direction: column;z-index: 1;position: relative;background-color: white;}#sk-container-id-2 div.sk-parallel-item:first-child::after {align-self: flex-end;width: 50%;}#sk-container-id-2 div.sk-parallel-item:last-child::after {align-self: flex-start;width: 50%;}#sk-container-id-2 div.sk-parallel-item:only-child::after {width: 0;}#sk-container-id-2 div.sk-dashed-wrapped {border: 1px dashed gray;margin: 0 0.4em 0.5em 0.4em;box-sizing: border-box;padding-bottom: 0.4em;background-color: white;}#sk-container-id-2 div.sk-label label {font-family: monospace;font-weight: bold;display: inline-block;line-height: 1.2em;}#sk-container-id-2 div.sk-label-container {text-align: center;}#sk-container-id-2 div.sk-container {/* jupyter's `normalize.less` sets `[hidden] { display: none; }` but bootstrap.min.css set `[hidden] { display: none !important; }` so we also need the `!important` here to be able to override the default hidden behavior on the sphinx rendered scikit-learn.org. See: https://github.com/scikit-learn/scikit-learn/issues/21755 */display: inline-block !important;position: relative;}#sk-container-id-2 div.sk-text-repr-fallback {display: none;}</style><div id=\"sk-container-id-2\" class=\"sk-top-container\"><div class=\"sk-text-repr-fallback\"><pre>LinearRegression()</pre><b>In a Jupyter environment, please rerun this cell to show the HTML representation or trust the notebook. <br />On GitHub, the HTML representation is unable to render, please try loading this page with nbviewer.org.</b></div><div class=\"sk-container\" hidden><div class=\"sk-item\"><div class=\"sk-estimator sk-toggleable\"><input class=\"sk-toggleable__control sk-hidden--visually\" id=\"sk-estimator-id-2\" type=\"checkbox\" checked><label for=\"sk-estimator-id-2\" class=\"sk-toggleable__label sk-toggleable__label-arrow\">LinearRegression</label><div class=\"sk-toggleable__content\"><pre>LinearRegression()</pre></div></div></div></div></div>"
      ],
      "text/plain": [
       "LinearRegression()"
      ]
     },
     "execution_count": 67,
     "metadata": {},
     "output_type": "execute_result"
    }
   ],
   "source": [
    "m2 = LinearRegression()\n",
    "m2.fit(x_train,y_train)"
   ]
  },
  {
   "cell_type": "code",
   "execution_count": 68,
   "id": "04ea0654",
   "metadata": {},
   "outputs": [
    {
     "name": "stdout",
     "output_type": "stream",
     "text": [
      "Training Score 0.6507992792386288\n",
      "Testing Score 0.5219775679760423\n"
     ]
    }
   ],
   "source": [
    "print('Training Score',m2.score(x_train,y_train))\n",
    "print('Testing Score',m2.score(x_test,y_test))"
   ]
  },
  {
   "cell_type": "code",
   "execution_count": 69,
   "id": "1905c911",
   "metadata": {},
   "outputs": [],
   "source": [
    "ypred_m2 = m2.predict(x_test)"
   ]
  },
  {
   "cell_type": "code",
   "execution_count": 70,
   "id": "806a5a5f",
   "metadata": {},
   "outputs": [
    {
     "name": "stdout",
     "output_type": "stream",
     "text": [
      "MAE 0.3997509036749836\n",
      "MSE 0.2495389601739226\n",
      "RMSE 0.49953874741998\n",
      "R2_score 0.5219775679760423\n",
      "Model_Score 0.5219775679760423\n"
     ]
    }
   ],
   "source": [
    "mae = mean_absolute_error(y_test,ypred_m2)\n",
    "mse = mean_squared_error(y_test,ypred_m2)\n",
    "rmse = np.sqrt(mean_squared_error(y_test,ypred_m2))\n",
    "r2s = r2_score(y_test,ypred_m2)\n",
    "print('MAE',mae)\n",
    "print('MSE',mse)\n",
    "print('RMSE',rmse)\n",
    "print('R2_score',r2s)\n",
    "print('Model_Score',m2.score(x_test,y_test))"
   ]
  },
  {
   "cell_type": "code",
   "execution_count": 71,
   "id": "e669cefe",
   "metadata": {},
   "outputs": [
    {
     "name": "stdout",
     "output_type": "stream",
     "text": [
      "Coefficients [1.02776508 1.03883425 0.94883501 0.89572386 1.00602285 1.02668461\n",
      " 0.99997425 0.95278963 1.00036858 1.0003948  0.96823432 1.13402299\n",
      " 1.04316279 1.00720709 1.05613617 1.00132139 1.00268576 0.94385296\n",
      " 1.00351751 1.21480706 0.97484375 1.15106823 1.0183566 ]\n",
      "Intercept 373.7884038237196\n"
     ]
    }
   ],
   "source": [
    "m = np.exp(m2.coef_)\n",
    "c = np.exp(m2.intercept_)\n",
    "print('Coefficients',m)\n",
    "print('Intercept',c)"
   ]
  },
  {
   "cell_type": "code",
   "execution_count": 72,
   "id": "481c24b5",
   "metadata": {},
   "outputs": [
    {
     "data": {
      "text/html": [
       "<div>\n",
       "<style scoped>\n",
       "    .dataframe tbody tr th:only-of-type {\n",
       "        vertical-align: middle;\n",
       "    }\n",
       "\n",
       "    .dataframe tbody tr th {\n",
       "        vertical-align: top;\n",
       "    }\n",
       "\n",
       "    .dataframe thead th {\n",
       "        text-align: right;\n",
       "    }\n",
       "</style>\n",
       "<table border=\"1\" class=\"dataframe\">\n",
       "  <thead>\n",
       "    <tr style=\"text-align: right;\">\n",
       "      <th></th>\n",
       "      <th>Model</th>\n",
       "      <th>MAE</th>\n",
       "      <th>MSE</th>\n",
       "      <th>R2 Score</th>\n",
       "      <th>RMSE</th>\n",
       "    </tr>\n",
       "  </thead>\n",
       "  <tbody>\n",
       "    <tr>\n",
       "      <th>0</th>\n",
       "      <td>LinearRegression Model-1</td>\n",
       "      <td>1337.049154</td>\n",
       "      <td>3161360.755842</td>\n",
       "      <td>0.463614</td>\n",
       "      <td>1778.021585</td>\n",
       "    </tr>\n",
       "    <tr>\n",
       "      <th>1</th>\n",
       "      <td>LinearReg Model-1 (Log Transformation)</td>\n",
       "      <td>0.399751</td>\n",
       "      <td>0.249539</td>\n",
       "      <td>0.521978</td>\n",
       "      <td>0.499539</td>\n",
       "    </tr>\n",
       "  </tbody>\n",
       "</table>\n",
       "</div>"
      ],
      "text/plain": [
       "                                    Model          MAE             MSE  \\\n",
       "0                LinearRegression Model-1  1337.049154  3161360.755842   \n",
       "1  LinearReg Model-1 (Log Transformation)     0.399751        0.249539   \n",
       "\n",
       "   R2 Score         RMSE  \n",
       "0  0.463614  1778.021585  \n",
       "1  0.521978     0.499539  "
      ]
     },
     "execution_count": 72,
     "metadata": {},
     "output_type": "execute_result"
    }
   ],
   "source": [
    "new_row = {\"Model\": \"LinearReg Model-1 (Log Transformation)\",\"MAE\": mae, \"MSE\": mse, \"R2 Score\": r2s, \"RMSE\": rmse}\n",
    "models = models.append(new_row,ignore_index=True)\n",
    "models"
   ]
  },
  {
   "cell_type": "code",
   "execution_count": 73,
   "id": "ff6bcfd5",
   "metadata": {},
   "outputs": [],
   "source": [
    "import statsmodels.api as sm"
   ]
  },
  {
   "cell_type": "code",
   "execution_count": 74,
   "id": "ebe6c920",
   "metadata": {},
   "outputs": [
    {
     "name": "stdout",
     "output_type": "stream",
     "text": [
      "(700, 23)\n",
      "(700,)\n"
     ]
    }
   ],
   "source": [
    "x=df1.drop('credit_amount',axis=1)\n",
    "y=df1['credit_amount']\n",
    "print(x.shape)\n",
    "print(y.shape)"
   ]
  },
  {
   "cell_type": "code",
   "execution_count": 75,
   "id": "fa7f4490",
   "metadata": {},
   "outputs": [
    {
     "name": "stdout",
     "output_type": "stream",
     "text": [
      "(525, 23)\n",
      "(175, 23)\n",
      "(525,)\n",
      "(175,)\n"
     ]
    }
   ],
   "source": [
    "x_train,x_test,y_train,y_test = train_test_split(x,y,test_size=0.25, random_state=42)\n",
    "print(x_train.shape)\n",
    "print(x_test.shape)\n",
    "print(y_train.shape)\n",
    "print(y_test.shape)"
   ]
  },
  {
   "cell_type": "code",
   "execution_count": 76,
   "id": "6b496dfd",
   "metadata": {},
   "outputs": [
    {
     "data": {
      "text/html": [
       "<table class=\"simpletable\">\n",
       "<caption>OLS Regression Results</caption>\n",
       "<tr>\n",
       "  <th>Dep. Variable:</th>      <td>credit_amount</td>  <th>  R-squared:         </th> <td>   0.608</td>\n",
       "</tr>\n",
       "<tr>\n",
       "  <th>Model:</th>                   <td>OLS</td>       <th>  Adj. R-squared:    </th> <td>   0.593</td>\n",
       "</tr>\n",
       "<tr>\n",
       "  <th>Method:</th>             <td>Least Squares</td>  <th>  F-statistic:       </th> <td>   41.24</td>\n",
       "</tr>\n",
       "<tr>\n",
       "  <th>Date:</th>             <td>Sun, 16 Oct 2022</td> <th>  Prob (F-statistic):</th> <td>7.41e-90</td>\n",
       "</tr>\n",
       "<tr>\n",
       "  <th>Time:</th>                 <td>22:05:36</td>     <th>  Log-Likelihood:    </th> <td> -4636.5</td>\n",
       "</tr>\n",
       "<tr>\n",
       "  <th>No. Observations:</th>      <td>   525</td>      <th>  AIC:               </th> <td>   9313.</td>\n",
       "</tr>\n",
       "<tr>\n",
       "  <th>Df Residuals:</th>          <td>   505</td>      <th>  BIC:               </th> <td>   9398.</td>\n",
       "</tr>\n",
       "<tr>\n",
       "  <th>Df Model:</th>              <td>    19</td>      <th>                     </th>     <td> </td>   \n",
       "</tr>\n",
       "<tr>\n",
       "  <th>Covariance Type:</th>      <td>nonrobust</td>    <th>                     </th>     <td> </td>   \n",
       "</tr>\n",
       "</table>\n",
       "<table class=\"simpletable\">\n",
       "<tr>\n",
       "          <td></td>            <th>coef</th>     <th>std err</th>      <th>t</th>      <th>P>|t|</th>  <th>[0.025</th>    <th>0.975]</th>  \n",
       "</tr>\n",
       "<tr>\n",
       "  <th>const</th>            <td>-2522.6559</td> <td>  701.679</td> <td>   -3.595</td> <td> 0.000</td> <td>-3901.226</td> <td>-1144.086</td>\n",
       "</tr>\n",
       "<tr>\n",
       "  <th>account_info</th>     <td>   86.7600</td> <td>   89.236</td> <td>    0.972</td> <td> 0.331</td> <td>  -88.560</td> <td>  262.080</td>\n",
       "</tr>\n",
       "<tr>\n",
       "  <th>duration_month</th>   <td>  129.6369</td> <td>    6.856</td> <td>   18.908</td> <td> 0.000</td> <td>  116.167</td> <td>  143.107</td>\n",
       "</tr>\n",
       "<tr>\n",
       "  <th>Loan</th>             <td> -400.4675</td> <td>  299.631</td> <td>   -1.337</td> <td> 0.182</td> <td> -989.144</td> <td>  188.209</td>\n",
       "</tr>\n",
       "<tr>\n",
       "  <th>Regularity</th>       <td> -303.1815</td> <td>  192.355</td> <td>   -1.576</td> <td> 0.116</td> <td> -681.096</td> <td>   74.733</td>\n",
       "</tr>\n",
       "<tr>\n",
       "  <th>Purpose</th>          <td>   34.8653</td> <td>   63.385</td> <td>    0.550</td> <td> 0.583</td> <td>  -89.665</td> <td>  159.396</td>\n",
       "</tr>\n",
       "<tr>\n",
       "  <th>savings_account</th>  <td>  143.1139</td> <td>   55.359</td> <td>    2.585</td> <td> 0.010</td> <td>   34.352</td> <td>  251.876</td>\n",
       "</tr>\n",
       "<tr>\n",
       "  <th>Saving Account</th>   <td>   -0.1470</td> <td>    0.188</td> <td>   -0.782</td> <td> 0.435</td> <td>   -0.516</td> <td>    0.222</td>\n",
       "</tr>\n",
       "<tr>\n",
       "  <th>employment_st</th>    <td> -216.9730</td> <td>   69.175</td> <td>   -3.137</td> <td> 0.002</td> <td> -352.879</td> <td>  -81.067</td>\n",
       "</tr>\n",
       "<tr>\n",
       "  <th>Salary</th>           <td>    1.1499</td> <td>    0.098</td> <td>   11.777</td> <td> 0.000</td> <td>    0.958</td> <td>    1.342</td>\n",
       "</tr>\n",
       "<tr>\n",
       "  <th>Status</th>           <td>  278.8390</td> <td>   86.307</td> <td>    3.231</td> <td> 0.001</td> <td>  109.274</td> <td>  448.404</td>\n",
       "</tr>\n",
       "<tr>\n",
       "  <th>resident_since</th>   <td>   60.7140</td> <td>   72.406</td> <td>    0.839</td> <td> 0.402</td> <td>  -81.540</td> <td>  202.968</td>\n",
       "</tr>\n",
       "<tr>\n",
       "  <th>property_type</th>    <td>  194.8430</td> <td>   80.353</td> <td>    2.425</td> <td> 0.016</td> <td>   36.976</td> <td>  352.710</td>\n",
       "</tr>\n",
       "<tr>\n",
       "  <th>age</th>              <td>    6.6206</td> <td>    7.753</td> <td>    0.854</td> <td> 0.394</td> <td>   -8.612</td> <td>   21.853</td>\n",
       "</tr>\n",
       "<tr>\n",
       "  <th>installment_type</th> <td>  -13.6992</td> <td>  109.134</td> <td>   -0.126</td> <td> 0.900</td> <td> -228.112</td> <td>  200.713</td>\n",
       "</tr>\n",
       "<tr>\n",
       "  <th>housing_type</th>     <td>   54.2986</td> <td>  159.463</td> <td>    0.341</td> <td> 0.734</td> <td> -258.995</td> <td>  367.592</td>\n",
       "</tr>\n",
       "<tr>\n",
       "  <th>credits_no</th>       <td>   50.1060</td> <td>  164.663</td> <td>    0.304</td> <td> 0.761</td> <td> -273.403</td> <td>  373.615</td>\n",
       "</tr>\n",
       "<tr>\n",
       "  <th>job_type</th>         <td>  440.1178</td> <td>  125.465</td> <td>    3.508</td> <td> 0.000</td> <td>  193.620</td> <td>  686.616</td>\n",
       "</tr>\n",
       "<tr>\n",
       "  <th>liables</th>          <td> -157.2201</td> <td>  225.578</td> <td>   -0.697</td> <td> 0.486</td> <td> -600.407</td> <td>  285.967</td>\n",
       "</tr>\n",
       "<tr>\n",
       "  <th>telephone</th>        <td>  676.6297</td> <td>  169.023</td> <td>    4.003</td> <td> 0.000</td> <td>  344.555</td> <td> 1008.705</td>\n",
       "</tr>\n",
       "</table>\n",
       "<table class=\"simpletable\">\n",
       "<tr>\n",
       "  <th>Omnibus:</th>       <td>134.503</td> <th>  Durbin-Watson:     </th> <td>   2.059</td>\n",
       "</tr>\n",
       "<tr>\n",
       "  <th>Prob(Omnibus):</th> <td> 0.000</td>  <th>  Jarque-Bera (JB):  </th> <td> 407.045</td>\n",
       "</tr>\n",
       "<tr>\n",
       "  <th>Skew:</th>          <td> 1.208</td>  <th>  Prob(JB):          </th> <td>4.09e-89</td>\n",
       "</tr>\n",
       "<tr>\n",
       "  <th>Kurtosis:</th>      <td> 6.574</td>  <th>  Cond. No.          </th> <td>1.78e+04</td>\n",
       "</tr>\n",
       "</table><br/><br/>Notes:<br/>[1] Standard Errors assume that the covariance matrix of the errors is correctly specified.<br/>[2] The condition number is large, 1.78e+04. This might indicate that there are<br/>strong multicollinearity or other numerical problems."
      ],
      "text/plain": [
       "<class 'statsmodels.iolib.summary.Summary'>\n",
       "\"\"\"\n",
       "                            OLS Regression Results                            \n",
       "==============================================================================\n",
       "Dep. Variable:          credit_amount   R-squared:                       0.608\n",
       "Model:                            OLS   Adj. R-squared:                  0.593\n",
       "Method:                 Least Squares   F-statistic:                     41.24\n",
       "Date:                Sun, 16 Oct 2022   Prob (F-statistic):           7.41e-90\n",
       "Time:                        22:05:36   Log-Likelihood:                -4636.5\n",
       "No. Observations:                 525   AIC:                             9313.\n",
       "Df Residuals:                     505   BIC:                             9398.\n",
       "Df Model:                          19                                         \n",
       "Covariance Type:            nonrobust                                         \n",
       "====================================================================================\n",
       "                       coef    std err          t      P>|t|      [0.025      0.975]\n",
       "------------------------------------------------------------------------------------\n",
       "const            -2522.6559    701.679     -3.595      0.000   -3901.226   -1144.086\n",
       "account_info        86.7600     89.236      0.972      0.331     -88.560     262.080\n",
       "duration_month     129.6369      6.856     18.908      0.000     116.167     143.107\n",
       "Loan              -400.4675    299.631     -1.337      0.182    -989.144     188.209\n",
       "Regularity        -303.1815    192.355     -1.576      0.116    -681.096      74.733\n",
       "Purpose             34.8653     63.385      0.550      0.583     -89.665     159.396\n",
       "savings_account    143.1139     55.359      2.585      0.010      34.352     251.876\n",
       "Saving Account      -0.1470      0.188     -0.782      0.435      -0.516       0.222\n",
       "employment_st     -216.9730     69.175     -3.137      0.002    -352.879     -81.067\n",
       "Salary               1.1499      0.098     11.777      0.000       0.958       1.342\n",
       "Status             278.8390     86.307      3.231      0.001     109.274     448.404\n",
       "resident_since      60.7140     72.406      0.839      0.402     -81.540     202.968\n",
       "property_type      194.8430     80.353      2.425      0.016      36.976     352.710\n",
       "age                  6.6206      7.753      0.854      0.394      -8.612      21.853\n",
       "installment_type   -13.6992    109.134     -0.126      0.900    -228.112     200.713\n",
       "housing_type        54.2986    159.463      0.341      0.734    -258.995     367.592\n",
       "credits_no          50.1060    164.663      0.304      0.761    -273.403     373.615\n",
       "job_type           440.1178    125.465      3.508      0.000     193.620     686.616\n",
       "liables           -157.2201    225.578     -0.697      0.486    -600.407     285.967\n",
       "telephone          676.6297    169.023      4.003      0.000     344.555    1008.705\n",
       "==============================================================================\n",
       "Omnibus:                      134.503   Durbin-Watson:                   2.059\n",
       "Prob(Omnibus):                  0.000   Jarque-Bera (JB):              407.045\n",
       "Skew:                           1.208   Prob(JB):                     4.09e-89\n",
       "Kurtosis:                       6.574   Cond. No.                     1.78e+04\n",
       "==============================================================================\n",
       "\n",
       "Notes:\n",
       "[1] Standard Errors assume that the covariance matrix of the errors is correctly specified.\n",
       "[2] The condition number is large, 1.78e+04. This might indicate that there are\n",
       "strong multicollinearity or other numerical problems.\n",
       "\"\"\""
      ]
     },
     "execution_count": 76,
     "metadata": {},
     "output_type": "execute_result"
    }
   ],
   "source": [
    "x1 = x_train.drop(['investment','Gender','gurantors','foreigner'],axis=1)\n",
    "y1 = y_train\n",
    "\n",
    "x1 = sm.add_constant(x1)\n",
    "\n",
    "m3 = sm.OLS(y1,x1).fit()\n",
    "m3.summary()"
   ]
  },
  {
   "cell_type": "code",
   "execution_count": 77,
   "id": "84d840a3",
   "metadata": {},
   "outputs": [
    {
     "name": "stdout",
     "output_type": "stream",
     "text": [
      "(700, 23)\n",
      "(700,)\n"
     ]
    }
   ],
   "source": [
    "x=df1.drop('credit_amount',axis=1)\n",
    "y=df1['credit_amount']\n",
    "print(x.shape)\n",
    "print(y.shape)"
   ]
  },
  {
   "cell_type": "code",
   "execution_count": 78,
   "id": "9efbfdf3",
   "metadata": {},
   "outputs": [
    {
     "name": "stdout",
     "output_type": "stream",
     "text": [
      "(525, 23)\n",
      "(175, 23)\n",
      "(525,)\n",
      "(175,)\n"
     ]
    }
   ],
   "source": [
    "x_train,x_test,y_train,y_test = train_test_split(x,y,test_size=0.25, random_state=42)\n",
    "print(x_train.shape)\n",
    "print(x_test.shape)\n",
    "print(y_train.shape)\n",
    "print(y_test.shape)"
   ]
  },
  {
   "cell_type": "code",
   "execution_count": 79,
   "id": "62b75e23",
   "metadata": {},
   "outputs": [],
   "source": [
    "from sklearn.model_selection import train_test_split, GridSearchCV\n",
    "from sklearn.linear_model import SGDRegressor\n",
    "from sklearn.tree import DecisionTreeRegressor\n",
    "from sklearn.ensemble import RandomForestRegressor\n",
    "from sklearn.metrics import mean_squared_error, mean_absolute_error\n",
    "from warnings import filterwarnings\n",
    "filterwarnings(\"ignore\")"
   ]
  },
  {
   "cell_type": "code",
   "execution_count": 80,
   "id": "fbe1b771",
   "metadata": {},
   "outputs": [],
   "source": [
    "from sklearn.linear_model import LogisticRegression\n",
    "from sklearn.tree import DecisionTreeClassifier\n",
    "from sklearn.ensemble import RandomForestClassifier, AdaBoostClassifier\n",
    "from sklearn.metrics import confusion_matrix,classification_report,mean_absolute_error,mean_squared_error,r2_score\n",
    "from sklearn.metrics import accuracy_score,roc_auc_score,roc_curve"
   ]
  },
  {
   "cell_type": "code",
   "execution_count": 81,
   "id": "83b89d93",
   "metadata": {},
   "outputs": [],
   "source": [
    "def gen_metrics(model,x_train,x_test,y_train,y_test):\n",
    "    model.fit(x_train,y_train)\n",
    "    train_score = model.score(x_train,y_train)\n",
    "    test_score = model.score(x_test,y_test)\n",
    "    print('Training Score',train_score)\n",
    "    print('Testing Score',test_score)\n",
    "    ypred = model.predict(x_test)\n",
    "    mae = mean_absolute_error(y_test,ypred)\n",
    "    mse = mean_squared_error(y_test,ypred)\n",
    "    rmse = np.sqrt(mean_squared_error(y_test,ypred))\n",
    "    r2s = r2_score(y_test,ypred)\n",
    "    print('MAE',mae)\n",
    "    print('MSE',mse)\n",
    "    print('RMSE',rmse)\n",
    "    print('R2_Score',r2s)"
   ]
  },
  {
   "cell_type": "code",
   "execution_count": 82,
   "id": "becb2284",
   "metadata": {},
   "outputs": [],
   "source": [
    "from sklearn.ensemble import RandomForestRegressor"
   ]
  },
  {
   "cell_type": "code",
   "execution_count": 83,
   "id": "c47cb4cc",
   "metadata": {},
   "outputs": [
    {
     "name": "stdout",
     "output_type": "stream",
     "text": [
      "Training Score 0.931661441603506\n",
      "Testing Score 0.36273347053488003\n",
      "MAE 1352.9327395918367\n",
      "MSE 3755930.795827521\n",
      "RMSE 1938.022393014983\n",
      "R2_Score 0.36273347053488003\n"
     ]
    }
   ],
   "source": [
    "m4= RandomForestRegressor(n_estimators=70,criterion='mse')\n",
    "gen_metrics(m4,x_train,x_test,y_train,y_test)"
   ]
  },
  {
   "cell_type": "code",
   "execution_count": 84,
   "id": "be348461",
   "metadata": {},
   "outputs": [
    {
     "name": "stdout",
     "output_type": "stream",
     "text": [
      "MAE 1352.9327395918367\n",
      "MSE 3755930.795827521\n",
      "RMSE 1938.022393014983\n",
      "R2_score 0.36273347053488003\n",
      "Model_Score 0.36273347053488003\n"
     ]
    }
   ],
   "source": [
    "ypred_m4 = m4.predict(x_test)\n",
    "mae = mean_absolute_error(y_test,ypred_m4)\n",
    "mse = mean_squared_error(y_test,ypred_m4)\n",
    "rmse = np.sqrt(mean_squared_error(y_test,ypred_m4))\n",
    "r2s = r2_score(y_test,ypred_m4)\n",
    "print('MAE',mae)\n",
    "print('MSE',mse)\n",
    "print('RMSE',rmse)\n",
    "print('R2_score',r2s)\n",
    "print('Model_Score',m4.score(x_test,y_test))"
   ]
  },
  {
   "cell_type": "code",
   "execution_count": 85,
   "id": "4d807eb9",
   "metadata": {},
   "outputs": [
    {
     "data": {
      "text/html": [
       "<div>\n",
       "<style scoped>\n",
       "    .dataframe tbody tr th:only-of-type {\n",
       "        vertical-align: middle;\n",
       "    }\n",
       "\n",
       "    .dataframe tbody tr th {\n",
       "        vertical-align: top;\n",
       "    }\n",
       "\n",
       "    .dataframe thead th {\n",
       "        text-align: right;\n",
       "    }\n",
       "</style>\n",
       "<table border=\"1\" class=\"dataframe\">\n",
       "  <thead>\n",
       "    <tr style=\"text-align: right;\">\n",
       "      <th></th>\n",
       "      <th>Model</th>\n",
       "      <th>MAE</th>\n",
       "      <th>MSE</th>\n",
       "      <th>R2 Score</th>\n",
       "      <th>RMSE</th>\n",
       "    </tr>\n",
       "  </thead>\n",
       "  <tbody>\n",
       "    <tr>\n",
       "      <th>0</th>\n",
       "      <td>LinearRegression Model-1</td>\n",
       "      <td>1337.049154</td>\n",
       "      <td>3161360.755842</td>\n",
       "      <td>0.463614</td>\n",
       "      <td>1778.021585</td>\n",
       "    </tr>\n",
       "    <tr>\n",
       "      <th>1</th>\n",
       "      <td>LinearReg Model-1 (Log Transformation)</td>\n",
       "      <td>0.399751</td>\n",
       "      <td>0.249539</td>\n",
       "      <td>0.521978</td>\n",
       "      <td>0.499539</td>\n",
       "    </tr>\n",
       "    <tr>\n",
       "      <th>2</th>\n",
       "      <td>Random Forest</td>\n",
       "      <td>1352.93274</td>\n",
       "      <td>3755930.795828</td>\n",
       "      <td>0.362733</td>\n",
       "      <td>1938.022393</td>\n",
       "    </tr>\n",
       "  </tbody>\n",
       "</table>\n",
       "</div>"
      ],
      "text/plain": [
       "                                    Model          MAE             MSE  \\\n",
       "0                LinearRegression Model-1  1337.049154  3161360.755842   \n",
       "1  LinearReg Model-1 (Log Transformation)     0.399751        0.249539   \n",
       "2                           Random Forest   1352.93274  3755930.795828   \n",
       "\n",
       "   R2 Score         RMSE  \n",
       "0  0.463614  1778.021585  \n",
       "1  0.521978     0.499539  \n",
       "2  0.362733  1938.022393  "
      ]
     },
     "execution_count": 85,
     "metadata": {},
     "output_type": "execute_result"
    }
   ],
   "source": [
    "new_row = {\"Model\": \"Random Forest\",\"MAE\": mae, \"MSE\": mse, \"R2 Score\": r2s, \"RMSE\": rmse}\n",
    "models = models.append(new_row,ignore_index=True)\n",
    "models"
   ]
  },
  {
   "cell_type": "code",
   "execution_count": 86,
   "id": "d2ddd78e",
   "metadata": {},
   "outputs": [
    {
     "name": "stdout",
     "output_type": "stream",
     "text": [
      "Training Score 0.8980469435172259\n",
      "Testing Score 0.39128865563620663\n",
      "MAE 1319.158089544559\n",
      "MSE 3587631.8280586544\n",
      "RMSE 1894.104492381203\n",
      "R2_Score 0.39128865563620663\n"
     ]
    }
   ],
   "source": [
    "m5= RandomForestRegressor(n_estimators=70,criterion='mse',max_depth=7)\n",
    "gen_metrics(m5,x_train,x_test,y_train,y_test)"
   ]
  },
  {
   "cell_type": "code",
   "execution_count": 87,
   "id": "4b417fc2",
   "metadata": {},
   "outputs": [
    {
     "name": "stdout",
     "output_type": "stream",
     "text": [
      "Training Score 0.9296868561244358\n",
      "Testing Score 0.3919179922282898\n",
      "MAE 1315.3253171428573\n",
      "MSE 3583922.634843799\n",
      "RMSE 1893.1250975156922\n",
      "R2_Score 0.3919179922282898\n"
     ]
    }
   ],
   "source": [
    "m6= RandomForestRegressor(n_estimators=40,criterion='mse')\n",
    "gen_metrics(m6,x_train,x_test,y_train,y_test)"
   ]
  },
  {
   "cell_type": "code",
   "execution_count": 88,
   "id": "3caba7fb",
   "metadata": {},
   "outputs": [],
   "source": [
    "from sklearn.linear_model import SGDRegressor"
   ]
  },
  {
   "cell_type": "code",
   "execution_count": 89,
   "id": "178786ec",
   "metadata": {},
   "outputs": [],
   "source": [
    "sgd = SGDRegressor(random_state = 10)\n",
    "sgd_model = sgd.fit(x_train,y_train)\n",
    "y_pred_sgd = sgd_model.predict(x_test)"
   ]
  },
  {
   "cell_type": "code",
   "execution_count": 90,
   "id": "f08ecab8",
   "metadata": {
    "scrolled": true
   },
   "outputs": [
    {
     "name": "stdout",
     "output_type": "stream",
     "text": [
      "Training Score -8.639579777731063e+23\n",
      "Testing Score -1.0375264630069868e+24\n",
      "MAE 2195005969682555.0\n",
      "MSE 6.114988648728705e+30\n",
      "RMSE 2472850308597086.0\n",
      "R2_Score -1.0375264630069868e+24\n"
     ]
    }
   ],
   "source": [
    "gen_metrics(sgd_model,x_train,x_test,y_train,y_test)"
   ]
  },
  {
   "cell_type": "code",
   "execution_count": 91,
   "id": "c86181ea",
   "metadata": {},
   "outputs": [
    {
     "name": "stdout",
     "output_type": "stream",
     "text": [
      "MAE 2195005969682555.0\n",
      "MSE 6.114988648728705e+30\n",
      "RMSE 2472850308597086.0\n",
      "R2_score -1.0375264630069868e+24\n",
      "Model_Score -1.0375264630069868e+24\n"
     ]
    }
   ],
   "source": [
    "ypred_sgd = sgd.predict(x_test)\n",
    "mae = mean_absolute_error(y_test,ypred_sgd)\n",
    "mse = mean_squared_error(y_test,ypred_sgd)\n",
    "rmse = np.sqrt(mean_squared_error(y_test,ypred_sgd))\n",
    "r2s = r2_score(y_test,ypred_sgd)\n",
    "print('MAE',mae)\n",
    "print('MSE',mse)\n",
    "print('RMSE',rmse)\n",
    "print('R2_score',r2s)\n",
    "print('Model_Score',sgd_model.score(x_test,y_test))"
   ]
  },
  {
   "cell_type": "code",
   "execution_count": 92,
   "id": "f738b663",
   "metadata": {},
   "outputs": [],
   "source": [
    "from sklearn.tree import DecisionTreeRegressor\n",
    "from sklearn import tree"
   ]
  },
  {
   "cell_type": "code",
   "execution_count": 93,
   "id": "0429e184",
   "metadata": {},
   "outputs": [
    {
     "name": "stdout",
     "output_type": "stream",
     "text": [
      "Training Score 0.803879818916054\n",
      "Testing Score -0.07395319176836779\n",
      "MAE 1636.9652171748048\n",
      "MSE 6329681.035697405\n",
      "RMSE 2515.885735818979\n",
      "R2_Score -0.07395319176836779\n"
     ]
    }
   ],
   "source": [
    "dt = DecisionTreeRegressor(max_depth = 7, max_leaf_nodes= 30)\n",
    "dt_model = dt.fit(x_train,y_train)\n",
    "y_pred_dt = dt_model.predict(x_test)\n",
    "gen_metrics(dt_model,x_train,x_test,y_train,y_test)"
   ]
  },
  {
   "cell_type": "code",
   "execution_count": 94,
   "id": "b88f629f",
   "metadata": {},
   "outputs": [
    {
     "name": "stdout",
     "output_type": "stream",
     "text": [
      "MAE 1636.9652171748048\n",
      "MSE 6329681.035697405\n",
      "RMSE 2515.885735818979\n",
      "R2_score -0.07395319176836779\n",
      "Model_Score -0.07395319176836779\n"
     ]
    }
   ],
   "source": [
    "ypred_dt = dt.predict(x_test)\n",
    "mae = mean_absolute_error(y_test,ypred_dt)\n",
    "mse = mean_squared_error(y_test,ypred_dt)\n",
    "rmse = np.sqrt(mean_squared_error(y_test,ypred_dt))\n",
    "r2s = r2_score(y_test,ypred_dt)\n",
    "print('MAE',mae)\n",
    "print('MSE',mse)\n",
    "print('RMSE',rmse)\n",
    "print('R2_score',r2s)\n",
    "print('Model_Score',dt_model.score(x_test,y_test))"
   ]
  },
  {
   "cell_type": "code",
   "execution_count": 95,
   "id": "4f442c95",
   "metadata": {},
   "outputs": [],
   "source": [
    "from sklearn.tree import plot_tree,export_text\n"
   ]
  },
  {
   "cell_type": "code",
   "execution_count": 96,
   "id": "7183bb26",
   "metadata": {},
   "outputs": [
    {
     "data": {
      "image/png": "[encoded data removed]",
      "text/plain": [
       "<Figure size 1440x1296 with 1 Axes>"
      ]
     },
     "metadata": {
      "needs_background": "light"
     },
     "output_type": "display_data"
    }
   ],
   "source": [
    "plt.figure(figsize=(20,18))\n",
    "plot_tree(dt_model,feature_names=x_train.columns,filled=True)\n",
    "plt.show()"
   ]
  },
  {
   "cell_type": "code",
   "execution_count": 97,
   "id": "9c0e37ea",
   "metadata": {},
   "outputs": [],
   "source": [
    "from sklearn.model_selection import GridSearchCV"
   ]
  },
  {
   "cell_type": "code",
   "execution_count": 98,
   "id": "2a0790f5",
   "metadata": {},
   "outputs": [],
   "source": [
    "tuned_parameters_dt = {\"max_depth\":[3,5,7,9,10],\n",
    "                   \"max_leaf_nodes\":[15,20,25,30,35]}\n",
    "dt_est = DecisionTreeRegressor(random_state = 10)\n",
    "grid_tree = GridSearchCV(dt_est,param_grid = tuned_parameters_dt, cv= 10)\n",
    "dt_grid = grid_tree.fit(x_train, y_train)"
   ]
  },
  {
   "cell_type": "code",
   "execution_count": 99,
   "id": "74218344",
   "metadata": {},
   "outputs": [
    {
     "name": "stdout",
     "output_type": "stream",
     "text": [
      "Hyper Parameters: {'max_depth': 3, 'max_leaf_nodes': 15}\n"
     ]
    }
   ],
   "source": [
    "print(\"Hyper Parameters:\", dt_grid.best_params_)"
   ]
  },
  {
   "cell_type": "code",
   "execution_count": 100,
   "id": "4073aa58",
   "metadata": {},
   "outputs": [],
   "source": [
    "dt_gscv = DecisionTreeRegressor(max_depth = dt_grid.best_params_.get(\"max_depth\"),\n",
    "                                max_leaf_nodes= dt_grid.best_params_.get(\"max_leaf_nodes\"))\n",
    "dt_gscv_model = dt_gscv.fit(x_train,y_train)\n",
    "y_pred_dt_gscv = dt_gscv_model.predict(x_test)\n"
   ]
  },
  {
   "cell_type": "code",
   "execution_count": 101,
   "id": "7148237e",
   "metadata": {},
   "outputs": [
    {
     "name": "stdout",
     "output_type": "stream",
     "text": [
      "Training Score 0.5837010575712875\n",
      "Testing Score 0.2798590717046866\n",
      "MAE 1437.6575059107658\n",
      "MSE 4244377.140268796\n",
      "RMSE 2060.1886176437333\n",
      "R2_Score 0.2798590717046866\n"
     ]
    }
   ],
   "source": [
    "gen_metrics(dt_gscv_model,x_train,x_test,y_train,y_test)"
   ]
  },
  {
   "cell_type": "code",
   "execution_count": 102,
   "id": "606a2335",
   "metadata": {},
   "outputs": [],
   "source": [
    "from xgboost import XGBClassifier, XGBRegressor"
   ]
  },
  {
   "cell_type": "code",
   "execution_count": 103,
   "id": "d562ca1f",
   "metadata": {
    "scrolled": true
   },
   "outputs": [
    {
     "data": {
      "text/html": [
       "<style>#sk-container-id-3 {color: black;background-color: white;}#sk-container-id-3 pre{padding: 0;}#sk-container-id-3 div.sk-toggleable {background-color: white;}#sk-container-id-3 label.sk-toggleable__label {cursor: pointer;display: block;width: 100%;margin-bottom: 0;padding: 0.3em;box-sizing: border-box;text-align: center;}#sk-container-id-3 label.sk-toggleable__label-arrow:before {content: \"▸\";float: left;margin-right: 0.25em;color: #696969;}#sk-container-id-3 label.sk-toggleable__label-arrow:hover:before {color: black;}#sk-container-id-3 div.sk-estimator:hover label.sk-toggleable__label-arrow:before {color: black;}#sk-container-id-3 div.sk-toggleable__content {max-height: 0;max-width: 0;overflow: hidden;text-align: left;background-color: #f0f8ff;}#sk-container-id-3 div.sk-toggleable__content pre {margin: 0.2em;color: black;border-radius: 0.25em;background-color: #f0f8ff;}#sk-container-id-3 input.sk-toggleable__control:checked~div.sk-toggleable__content {max-height: 200px;max-width: 100%;overflow: auto;}#sk-container-id-3 input.sk-toggleable__control:checked~label.sk-toggleable__label-arrow:before {content: \"▾\";}#sk-container-id-3 div.sk-estimator input.sk-toggleable__control:checked~label.sk-toggleable__label {background-color: #d4ebff;}#sk-container-id-3 div.sk-label input.sk-toggleable__control:checked~label.sk-toggleable__label {background-color: #d4ebff;}#sk-container-id-3 input.sk-hidden--visually {border: 0;clip: rect(1px 1px 1px 1px);clip: rect(1px, 1px, 1px, 1px);height: 1px;margin: -1px;overflow: hidden;padding: 0;position: absolute;width: 1px;}#sk-container-id-3 div.sk-estimator {font-family: monospace;background-color: #f0f8ff;border: 1px dotted black;border-radius: 0.25em;box-sizing: border-box;margin-bottom: 0.5em;}#sk-container-id-3 div.sk-estimator:hover {background-color: #d4ebff;}#sk-container-id-3 div.sk-parallel-item::after {content: \"\";width: 100%;border-bottom: 1px solid gray;flex-grow: 1;}#sk-container-id-3 div.sk-label:hover label.sk-toggleable__label {background-color: #d4ebff;}#sk-container-id-3 div.sk-serial::before {content: \"\";position: absolute;border-left: 1px solid gray;box-sizing: border-box;top: 0;bottom: 0;left: 50%;z-index: 0;}#sk-container-id-3 div.sk-serial {display: flex;flex-direction: column;align-items: center;background-color: white;padding-right: 0.2em;padding-left: 0.2em;position: relative;}#sk-container-id-3 div.sk-item {position: relative;z-index: 1;}#sk-container-id-3 div.sk-parallel {display: flex;align-items: stretch;justify-content: center;background-color: white;position: relative;}#sk-container-id-3 div.sk-item::before, #sk-container-id-3 div.sk-parallel-item::before {content: \"\";position: absolute;border-left: 1px solid gray;box-sizing: border-box;top: 0;bottom: 0;left: 50%;z-index: -1;}#sk-container-id-3 div.sk-parallel-item {display: flex;flex-direction: column;z-index: 1;position: relative;background-color: white;}#sk-container-id-3 div.sk-parallel-item:first-child::after {align-self: flex-end;width: 50%;}#sk-container-id-3 div.sk-parallel-item:last-child::after {align-self: flex-start;width: 50%;}#sk-container-id-3 div.sk-parallel-item:only-child::after {width: 0;}#sk-container-id-3 div.sk-dashed-wrapped {border: 1px dashed gray;margin: 0 0.4em 0.5em 0.4em;box-sizing: border-box;padding-bottom: 0.4em;background-color: white;}#sk-container-id-3 div.sk-label label {font-family: monospace;font-weight: bold;display: inline-block;line-height: 1.2em;}#sk-container-id-3 div.sk-label-container {text-align: center;}#sk-container-id-3 div.sk-container {/* jupyter's `normalize.less` sets `[hidden] { display: none; }` but bootstrap.min.css set `[hidden] { display: none !important; }` so we also need the `!important` here to be able to override the default hidden behavior on the sphinx rendered scikit-learn.org. See: https://github.com/scikit-learn/scikit-learn/issues/21755 */display: inline-block !important;position: relative;}#sk-container-id-3 div.sk-text-repr-fallback {display: none;}</style><div id=\"sk-container-id-3\" class=\"sk-top-container\"><div class=\"sk-text-repr-fallback\"><pre>XGBRegressor(base_score=0.5, booster=&#x27;gbtree&#x27;, callbacks=None,\n",
       "             colsample_bylevel=1, colsample_bynode=1, colsample_bytree=1,\n",
       "             early_stopping_rounds=None, enable_categorical=False,\n",
       "             eval_metric=None, gamma=0, gpu_id=-1, grow_policy=&#x27;depthwise&#x27;,\n",
       "             importance_type=None, interaction_constraints=&#x27;&#x27;,\n",
       "             learning_rate=0.05, max_bin=256, max_cat_to_onehot=4,\n",
       "             max_delta_step=0, max_depth=6, max_leaves=0, min_child_weight=1,\n",
       "             missing=nan, monotone_constraints=&#x27;()&#x27;, n_estimators=1500,\n",
       "             n_jobs=0, num_parallel_tree=1, predictor=&#x27;auto&#x27;, random_state=0,\n",
       "             reg_alpha=0, reg_lambda=1, ...)</pre><b>In a Jupyter environment, please rerun this cell to show the HTML representation or trust the notebook. <br />On GitHub, the HTML representation is unable to render, please try loading this page with nbviewer.org.</b></div><div class=\"sk-container\" hidden><div class=\"sk-item\"><div class=\"sk-estimator sk-toggleable\"><input class=\"sk-toggleable__control sk-hidden--visually\" id=\"sk-estimator-id-3\" type=\"checkbox\" checked><label for=\"sk-estimator-id-3\" class=\"sk-toggleable__label sk-toggleable__label-arrow\">XGBRegressor</label><div class=\"sk-toggleable__content\"><pre>XGBRegressor(base_score=0.5, booster=&#x27;gbtree&#x27;, callbacks=None,\n",
       "             colsample_bylevel=1, colsample_bynode=1, colsample_bytree=1,\n",
       "             early_stopping_rounds=None, enable_categorical=False,\n",
       "             eval_metric=None, gamma=0, gpu_id=-1, grow_policy=&#x27;depthwise&#x27;,\n",
       "             importance_type=None, interaction_constraints=&#x27;&#x27;,\n",
       "             learning_rate=0.05, max_bin=256, max_cat_to_onehot=4,\n",
       "             max_delta_step=0, max_depth=6, max_leaves=0, min_child_weight=1,\n",
       "             missing=nan, monotone_constraints=&#x27;()&#x27;, n_estimators=1500,\n",
       "             n_jobs=0, num_parallel_tree=1, predictor=&#x27;auto&#x27;, random_state=0,\n",
       "             reg_alpha=0, reg_lambda=1, ...)</pre></div></div></div></div></div>"
      ],
      "text/plain": [
       "XGBRegressor(base_score=0.5, booster='gbtree', callbacks=None,\n",
       "             colsample_bylevel=1, colsample_bynode=1, colsample_bytree=1,\n",
       "             early_stopping_rounds=None, enable_categorical=False,\n",
       "             eval_metric=None, gamma=0, gpu_id=-1, grow_policy='depthwise',\n",
       "             importance_type=None, interaction_constraints='',\n",
       "             learning_rate=0.05, max_bin=256, max_cat_to_onehot=4,\n",
       "             max_delta_step=0, max_depth=6, max_leaves=0, min_child_weight=1,\n",
       "             missing=nan, monotone_constraints='()', n_estimators=1500,\n",
       "             n_jobs=0, num_parallel_tree=1, predictor='auto', random_state=0,\n",
       "             reg_alpha=0, reg_lambda=1, ...)"
      ]
     },
     "execution_count": 103,
     "metadata": {},
     "output_type": "execute_result"
    }
   ],
   "source": [
    "XGB_model = XGBRegressor(n_estimators=1500,learning_rate=0.05,\n",
    " objective= 'reg:squarederror')\n",
    "XGB_model.fit(x_train, y_train, \n",
    "             eval_set=[(x_train, y_train)], verbose=False)"
   ]
  },
  {
   "cell_type": "code",
   "execution_count": 104,
   "id": "daeee2f2",
   "metadata": {},
   "outputs": [
    {
     "data": {
      "text/html": [
       "<style>#sk-container-id-4 {color: black;background-color: white;}#sk-container-id-4 pre{padding: 0;}#sk-container-id-4 div.sk-toggleable {background-color: white;}#sk-container-id-4 label.sk-toggleable__label {cursor: pointer;display: block;width: 100%;margin-bottom: 0;padding: 0.3em;box-sizing: border-box;text-align: center;}#sk-container-id-4 label.sk-toggleable__label-arrow:before {content: \"▸\";float: left;margin-right: 0.25em;color: #696969;}#sk-container-id-4 label.sk-toggleable__label-arrow:hover:before {color: black;}#sk-container-id-4 div.sk-estimator:hover label.sk-toggleable__label-arrow:before {color: black;}#sk-container-id-4 div.sk-toggleable__content {max-height: 0;max-width: 0;overflow: hidden;text-align: left;background-color: #f0f8ff;}#sk-container-id-4 div.sk-toggleable__content pre {margin: 0.2em;color: black;border-radius: 0.25em;background-color: #f0f8ff;}#sk-container-id-4 input.sk-toggleable__control:checked~div.sk-toggleable__content {max-height: 200px;max-width: 100%;overflow: auto;}#sk-container-id-4 input.sk-toggleable__control:checked~label.sk-toggleable__label-arrow:before {content: \"▾\";}#sk-container-id-4 div.sk-estimator input.sk-toggleable__control:checked~label.sk-toggleable__label {background-color: #d4ebff;}#sk-container-id-4 div.sk-label input.sk-toggleable__control:checked~label.sk-toggleable__label {background-color: #d4ebff;}#sk-container-id-4 input.sk-hidden--visually {border: 0;clip: rect(1px 1px 1px 1px);clip: rect(1px, 1px, 1px, 1px);height: 1px;margin: -1px;overflow: hidden;padding: 0;position: absolute;width: 1px;}#sk-container-id-4 div.sk-estimator {font-family: monospace;background-color: #f0f8ff;border: 1px dotted black;border-radius: 0.25em;box-sizing: border-box;margin-bottom: 0.5em;}#sk-container-id-4 div.sk-estimator:hover {background-color: #d4ebff;}#sk-container-id-4 div.sk-parallel-item::after {content: \"\";width: 100%;border-bottom: 1px solid gray;flex-grow: 1;}#sk-container-id-4 div.sk-label:hover label.sk-toggleable__label {background-color: #d4ebff;}#sk-container-id-4 div.sk-serial::before {content: \"\";position: absolute;border-left: 1px solid gray;box-sizing: border-box;top: 0;bottom: 0;left: 50%;z-index: 0;}#sk-container-id-4 div.sk-serial {display: flex;flex-direction: column;align-items: center;background-color: white;padding-right: 0.2em;padding-left: 0.2em;position: relative;}#sk-container-id-4 div.sk-item {position: relative;z-index: 1;}#sk-container-id-4 div.sk-parallel {display: flex;align-items: stretch;justify-content: center;background-color: white;position: relative;}#sk-container-id-4 div.sk-item::before, #sk-container-id-4 div.sk-parallel-item::before {content: \"\";position: absolute;border-left: 1px solid gray;box-sizing: border-box;top: 0;bottom: 0;left: 50%;z-index: -1;}#sk-container-id-4 div.sk-parallel-item {display: flex;flex-direction: column;z-index: 1;position: relative;background-color: white;}#sk-container-id-4 div.sk-parallel-item:first-child::after {align-self: flex-end;width: 50%;}#sk-container-id-4 div.sk-parallel-item:last-child::after {align-self: flex-start;width: 50%;}#sk-container-id-4 div.sk-parallel-item:only-child::after {width: 0;}#sk-container-id-4 div.sk-dashed-wrapped {border: 1px dashed gray;margin: 0 0.4em 0.5em 0.4em;box-sizing: border-box;padding-bottom: 0.4em;background-color: white;}#sk-container-id-4 div.sk-label label {font-family: monospace;font-weight: bold;display: inline-block;line-height: 1.2em;}#sk-container-id-4 div.sk-label-container {text-align: center;}#sk-container-id-4 div.sk-container {/* jupyter's `normalize.less` sets `[hidden] { display: none; }` but bootstrap.min.css set `[hidden] { display: none !important; }` so we also need the `!important` here to be able to override the default hidden behavior on the sphinx rendered scikit-learn.org. See: https://github.com/scikit-learn/scikit-learn/issues/21755 */display: inline-block !important;position: relative;}#sk-container-id-4 div.sk-text-repr-fallback {display: none;}</style><div id=\"sk-container-id-4\" class=\"sk-top-container\"><div class=\"sk-text-repr-fallback\"><pre>XGBRegressor(base_score=0.5, booster=&#x27;gbtree&#x27;, callbacks=None,\n",
       "             colsample_bylevel=1, colsample_bynode=1, colsample_bytree=1,\n",
       "             early_stopping_rounds=None, enable_categorical=False,\n",
       "             eval_metric=None, gamma=0, gpu_id=-1, grow_policy=&#x27;depthwise&#x27;,\n",
       "             importance_type=None, interaction_constraints=&#x27;&#x27;,\n",
       "             learning_rate=0.05, max_bin=256, max_cat_to_onehot=4,\n",
       "             max_delta_step=0, max_depth=6, max_leaves=0, min_child_weight=1,\n",
       "             missing=nan, monotone_constraints=&#x27;()&#x27;, n_estimators=1500,\n",
       "             n_jobs=0, num_parallel_tree=1, predictor=&#x27;auto&#x27;, random_state=0,\n",
       "             reg_alpha=0, reg_lambda=1, ...)</pre><b>In a Jupyter environment, please rerun this cell to show the HTML representation or trust the notebook. <br />On GitHub, the HTML representation is unable to render, please try loading this page with nbviewer.org.</b></div><div class=\"sk-container\" hidden><div class=\"sk-item\"><div class=\"sk-estimator sk-toggleable\"><input class=\"sk-toggleable__control sk-hidden--visually\" id=\"sk-estimator-id-4\" type=\"checkbox\" checked><label for=\"sk-estimator-id-4\" class=\"sk-toggleable__label sk-toggleable__label-arrow\">XGBRegressor</label><div class=\"sk-toggleable__content\"><pre>XGBRegressor(base_score=0.5, booster=&#x27;gbtree&#x27;, callbacks=None,\n",
       "             colsample_bylevel=1, colsample_bynode=1, colsample_bytree=1,\n",
       "             early_stopping_rounds=None, enable_categorical=False,\n",
       "             eval_metric=None, gamma=0, gpu_id=-1, grow_policy=&#x27;depthwise&#x27;,\n",
       "             importance_type=None, interaction_constraints=&#x27;&#x27;,\n",
       "             learning_rate=0.05, max_bin=256, max_cat_to_onehot=4,\n",
       "             max_delta_step=0, max_depth=6, max_leaves=0, min_child_weight=1,\n",
       "             missing=nan, monotone_constraints=&#x27;()&#x27;, n_estimators=1500,\n",
       "             n_jobs=0, num_parallel_tree=1, predictor=&#x27;auto&#x27;, random_state=0,\n",
       "             reg_alpha=0, reg_lambda=1, ...)</pre></div></div></div></div></div>"
      ],
      "text/plain": [
       "XGBRegressor(base_score=0.5, booster='gbtree', callbacks=None,\n",
       "             colsample_bylevel=1, colsample_bynode=1, colsample_bytree=1,\n",
       "             early_stopping_rounds=None, enable_categorical=False,\n",
       "             eval_metric=None, gamma=0, gpu_id=-1, grow_policy='depthwise',\n",
       "             importance_type=None, interaction_constraints='',\n",
       "             learning_rate=0.05, max_bin=256, max_cat_to_onehot=4,\n",
       "             max_delta_step=0, max_depth=6, max_leaves=0, min_child_weight=1,\n",
       "             missing=nan, monotone_constraints='()', n_estimators=1500,\n",
       "             n_jobs=0, num_parallel_tree=1, predictor='auto', random_state=0,\n",
       "             reg_alpha=0, reg_lambda=1, ...)"
      ]
     },
     "execution_count": 104,
     "metadata": {},
     "output_type": "execute_result"
    }
   ],
   "source": [
    "XGB_model.fit(x_train, y_train)"
   ]
  },
  {
   "cell_type": "code",
   "execution_count": 105,
   "id": "bcfedbb2",
   "metadata": {},
   "outputs": [],
   "source": [
    "XGB_model = XGBRegressor()"
   ]
  },
  {
   "cell_type": "code",
   "execution_count": 106,
   "id": "bed51b02",
   "metadata": {},
   "outputs": [
    {
     "name": "stdout",
     "output_type": "stream",
     "text": [
      "Training Score 0.999979751974868\n",
      "Testing Score 0.3742165997061414\n",
      "MAE 1378.3502740234374\n",
      "MSE 3688251.3610971165\n",
      "RMSE 1920.482064768405\n",
      "R2_Score 0.3742165997061414\n"
     ]
    }
   ],
   "source": [
    "gen_metrics(XGB_model,x_train,x_test,y_train,y_test)"
   ]
  },
  {
   "cell_type": "code",
   "execution_count": 107,
   "id": "77c4338c",
   "metadata": {},
   "outputs": [
    {
     "name": "stdout",
     "output_type": "stream",
     "text": [
      "MAE 1378.3502740234374\n",
      "MSE 3688251.3610971165\n",
      "RMSE 1920.482064768405\n",
      "R2_score 0.3742165997061414\n",
      "Model_Score 0.3742165997061414\n"
     ]
    }
   ],
   "source": [
    "ypred_XGB_model = XGB_model.predict(x_test)\n",
    "mae = mean_absolute_error(y_test,ypred_XGB_model)\n",
    "mse = mean_squared_error(y_test,ypred_XGB_model)\n",
    "rmse = np.sqrt(mean_squared_error(y_test,ypred_XGB_model))\n",
    "r2s = r2_score(y_test,ypred_XGB_model)\n",
    "print('MAE',mae)\n",
    "print('MSE',mse)\n",
    "print('RMSE',rmse)\n",
    "print('R2_score',r2s)\n",
    "print('Model_Score',XGB_model.score(x_test,y_test))"
   ]
  },
  {
   "cell_type": "code",
   "execution_count": 108,
   "id": "1dc4854c",
   "metadata": {},
   "outputs": [
    {
     "data": {
      "text/html": [
       "<div>\n",
       "<style scoped>\n",
       "    .dataframe tbody tr th:only-of-type {\n",
       "        vertical-align: middle;\n",
       "    }\n",
       "\n",
       "    .dataframe tbody tr th {\n",
       "        vertical-align: top;\n",
       "    }\n",
       "\n",
       "    .dataframe thead th {\n",
       "        text-align: right;\n",
       "    }\n",
       "</style>\n",
       "<table border=\"1\" class=\"dataframe\">\n",
       "  <thead>\n",
       "    <tr style=\"text-align: right;\">\n",
       "      <th></th>\n",
       "      <th>Model</th>\n",
       "      <th>MAE</th>\n",
       "      <th>MSE</th>\n",
       "      <th>R2 Score</th>\n",
       "      <th>RMSE</th>\n",
       "    </tr>\n",
       "  </thead>\n",
       "  <tbody>\n",
       "    <tr>\n",
       "      <th>0</th>\n",
       "      <td>LinearRegression Model-1</td>\n",
       "      <td>1337.049154</td>\n",
       "      <td>3161360.755842</td>\n",
       "      <td>0.463614</td>\n",
       "      <td>1778.021585</td>\n",
       "    </tr>\n",
       "    <tr>\n",
       "      <th>1</th>\n",
       "      <td>LinearReg Model-1 (Log Transformation)</td>\n",
       "      <td>0.399751</td>\n",
       "      <td>0.249539</td>\n",
       "      <td>0.521978</td>\n",
       "      <td>0.499539</td>\n",
       "    </tr>\n",
       "    <tr>\n",
       "      <th>2</th>\n",
       "      <td>Random Forest</td>\n",
       "      <td>1352.93274</td>\n",
       "      <td>3755930.795828</td>\n",
       "      <td>0.362733</td>\n",
       "      <td>1938.022393</td>\n",
       "    </tr>\n",
       "    <tr>\n",
       "      <th>3</th>\n",
       "      <td>XGB</td>\n",
       "      <td>1378.350274</td>\n",
       "      <td>3688251.361097</td>\n",
       "      <td>0.374217</td>\n",
       "      <td>1920.482065</td>\n",
       "    </tr>\n",
       "  </tbody>\n",
       "</table>\n",
       "</div>"
      ],
      "text/plain": [
       "                                    Model          MAE             MSE  \\\n",
       "0                LinearRegression Model-1  1337.049154  3161360.755842   \n",
       "1  LinearReg Model-1 (Log Transformation)     0.399751        0.249539   \n",
       "2                           Random Forest   1352.93274  3755930.795828   \n",
       "3                                     XGB  1378.350274  3688251.361097   \n",
       "\n",
       "   R2 Score         RMSE  \n",
       "0  0.463614  1778.021585  \n",
       "1  0.521978     0.499539  \n",
       "2  0.362733  1938.022393  \n",
       "3  0.374217  1920.482065  "
      ]
     },
     "execution_count": 108,
     "metadata": {},
     "output_type": "execute_result"
    }
   ],
   "source": [
    "new_row = {\"Model\": \"XGB\",\"MAE\": mae, \"MSE\": mse, \"R2 Score\": r2s, \"RMSE\": rmse}\n",
    "models = models.append(new_row,ignore_index=True)\n",
    "models"
   ]
  },
  {
   "cell_type": "code",
   "execution_count": 109,
   "id": "1213a045",
   "metadata": {},
   "outputs": [],
   "source": [
    "from sklearn.ensemble import AdaBoostRegressor"
   ]
  },
  {
   "cell_type": "code",
   "execution_count": 110,
   "id": "7bbf7430",
   "metadata": {},
   "outputs": [],
   "source": [
    "AdaBoost= AdaBoostRegressor(n_estimators=10)"
   ]
  },
  {
   "cell_type": "code",
   "execution_count": 111,
   "id": "e6cd73b0",
   "metadata": {},
   "outputs": [
    {
     "name": "stdout",
     "output_type": "stream",
     "text": [
      "Training Score 0.6825143525631727\n",
      "Testing Score 0.3788284170906505\n",
      "MAE 1425.1282908121207\n",
      "MSE 3661070.1643163143\n",
      "RMSE 1913.3923184533573\n",
      "R2_Score 0.3788284170906505\n"
     ]
    }
   ],
   "source": [
    "gen_metrics(AdaBoost,x_train,x_test,y_train,y_test)"
   ]
  },
  {
   "cell_type": "code",
   "execution_count": 112,
   "id": "43480d11",
   "metadata": {},
   "outputs": [
    {
     "name": "stdout",
     "output_type": "stream",
     "text": [
      "MAE 1425.1282908121207\n",
      "MSE 3661070.1643163143\n",
      "RMSE 1913.3923184533573\n",
      "R2_score 0.3788284170906505\n",
      "Model_Score 0.3788284170906505\n"
     ]
    }
   ],
   "source": [
    "ypred_AdaBoost = AdaBoost.predict(x_test)\n",
    "mae = mean_absolute_error(y_test,ypred_AdaBoost)\n",
    "mse = mean_squared_error(y_test,ypred_AdaBoost)\n",
    "rmse = np.sqrt(mean_squared_error(y_test,ypred_AdaBoost))\n",
    "r2s = r2_score(y_test,ypred_AdaBoost)\n",
    "print('MAE',mae)\n",
    "print('MSE',mse)\n",
    "print('RMSE',rmse)\n",
    "print('R2_score',r2s)\n",
    "print('Model_Score',AdaBoost.score(x_test,y_test))"
   ]
  },
  {
   "cell_type": "code",
   "execution_count": 113,
   "id": "4ac1147a",
   "metadata": {},
   "outputs": [
    {
     "data": {
      "text/html": [
       "<div>\n",
       "<style scoped>\n",
       "    .dataframe tbody tr th:only-of-type {\n",
       "        vertical-align: middle;\n",
       "    }\n",
       "\n",
       "    .dataframe tbody tr th {\n",
       "        vertical-align: top;\n",
       "    }\n",
       "\n",
       "    .dataframe thead th {\n",
       "        text-align: right;\n",
       "    }\n",
       "</style>\n",
       "<table border=\"1\" class=\"dataframe\">\n",
       "  <thead>\n",
       "    <tr style=\"text-align: right;\">\n",
       "      <th></th>\n",
       "      <th>Model</th>\n",
       "      <th>MAE</th>\n",
       "      <th>MSE</th>\n",
       "      <th>R2 Score</th>\n",
       "      <th>RMSE</th>\n",
       "    </tr>\n",
       "  </thead>\n",
       "  <tbody>\n",
       "    <tr>\n",
       "      <th>0</th>\n",
       "      <td>LinearRegression Model-1</td>\n",
       "      <td>1337.049154</td>\n",
       "      <td>3161360.755842</td>\n",
       "      <td>0.463614</td>\n",
       "      <td>1778.021585</td>\n",
       "    </tr>\n",
       "    <tr>\n",
       "      <th>1</th>\n",
       "      <td>LinearReg Model-1 (Log Transformation)</td>\n",
       "      <td>0.399751</td>\n",
       "      <td>0.249539</td>\n",
       "      <td>0.521978</td>\n",
       "      <td>0.499539</td>\n",
       "    </tr>\n",
       "    <tr>\n",
       "      <th>2</th>\n",
       "      <td>Random Forest</td>\n",
       "      <td>1352.93274</td>\n",
       "      <td>3755930.795828</td>\n",
       "      <td>0.362733</td>\n",
       "      <td>1938.022393</td>\n",
       "    </tr>\n",
       "    <tr>\n",
       "      <th>3</th>\n",
       "      <td>XGB</td>\n",
       "      <td>1378.350274</td>\n",
       "      <td>3688251.361097</td>\n",
       "      <td>0.374217</td>\n",
       "      <td>1920.482065</td>\n",
       "    </tr>\n",
       "    <tr>\n",
       "      <th>4</th>\n",
       "      <td>ADABoost</td>\n",
       "      <td>1425.128291</td>\n",
       "      <td>3661070.164316</td>\n",
       "      <td>0.378828</td>\n",
       "      <td>1913.392318</td>\n",
       "    </tr>\n",
       "  </tbody>\n",
       "</table>\n",
       "</div>"
      ],
      "text/plain": [
       "                                    Model          MAE             MSE  \\\n",
       "0                LinearRegression Model-1  1337.049154  3161360.755842   \n",
       "1  LinearReg Model-1 (Log Transformation)     0.399751        0.249539   \n",
       "2                           Random Forest   1352.93274  3755930.795828   \n",
       "3                                     XGB  1378.350274  3688251.361097   \n",
       "4                                ADABoost  1425.128291  3661070.164316   \n",
       "\n",
       "   R2 Score         RMSE  \n",
       "0  0.463614  1778.021585  \n",
       "1  0.521978     0.499539  \n",
       "2  0.362733  1938.022393  \n",
       "3  0.374217  1920.482065  \n",
       "4  0.378828  1913.392318  "
      ]
     },
     "execution_count": 113,
     "metadata": {},
     "output_type": "execute_result"
    }
   ],
   "source": [
    "new_row = {\"Model\": \"ADABoost\",\"MAE\": mae, \"MSE\": mse, \"R2 Score\": r2s, \"RMSE\": rmse}\n",
    "models = models.append(new_row,ignore_index=True)\n",
    "models"
   ]
  },
  {
   "cell_type": "code",
   "execution_count": 114,
   "id": "f417e79d",
   "metadata": {},
   "outputs": [],
   "source": [
    "from sklearn.linear_model import LinearRegression, Ridge, Lasso\n",
    "from sklearn.metrics import mean_squared_error,mean_absolute_error,r2_score"
   ]
  },
  {
   "cell_type": "code",
   "execution_count": 115,
   "id": "61ca9c1e",
   "metadata": {
    "scrolled": true
   },
   "outputs": [
    {
     "name": "stdout",
     "output_type": "stream",
     "text": [
      "Training Score 0.6087601850195519\n",
      "Testing Score 0.4636148204594963\n",
      "MAE 1337.0462674231358\n",
      "MSE 3161354.8195487335\n",
      "RMSE 1778.0199153971064\n",
      "R2_Score 0.4636148204594963\n"
     ]
    }
   ],
   "source": [
    "m7 = Lasso(alpha=0.001)\n",
    "m7.fit(x_train, y_train)\n",
    "ypred_m7 = m7.predict(x_test)\n",
    "gen_metrics(m7,x_train,x_test,y_train,y_test)"
   ]
  },
  {
   "cell_type": "code",
   "execution_count": 116,
   "id": "74903c93",
   "metadata": {},
   "outputs": [
    {
     "name": "stdout",
     "output_type": "stream",
     "text": [
      "MAE 1337.0462674231358\n",
      "MSE 3161354.8195487335\n",
      "RMSE 1778.0199153971064\n",
      "R2_score 0.4636148204594963\n",
      "Model_Score 0.4636148204594963\n"
     ]
    }
   ],
   "source": [
    "ypred_m7 = m7.predict(x_test)\n",
    "mae = mean_absolute_error(y_test,ypred_m7)\n",
    "mse = mean_squared_error(y_test,ypred_m7)\n",
    "rmse = np.sqrt(mean_squared_error(y_test,ypred_m7))\n",
    "r2s = r2_score(y_test,ypred_m7)\n",
    "print('MAE',mae)\n",
    "print('MSE',mse)\n",
    "print('RMSE',rmse)\n",
    "print('R2_score',r2s)\n",
    "print('Model_Score',m7.score(x_test,y_test))"
   ]
  },
  {
   "cell_type": "code",
   "execution_count": 117,
   "id": "48ce6ad2",
   "metadata": {},
   "outputs": [
    {
     "data": {
      "text/html": [
       "<div>\n",
       "<style scoped>\n",
       "    .dataframe tbody tr th:only-of-type {\n",
       "        vertical-align: middle;\n",
       "    }\n",
       "\n",
       "    .dataframe tbody tr th {\n",
       "        vertical-align: top;\n",
       "    }\n",
       "\n",
       "    .dataframe thead th {\n",
       "        text-align: right;\n",
       "    }\n",
       "</style>\n",
       "<table border=\"1\" class=\"dataframe\">\n",
       "  <thead>\n",
       "    <tr style=\"text-align: right;\">\n",
       "      <th></th>\n",
       "      <th>Model</th>\n",
       "      <th>MAE</th>\n",
       "      <th>MSE</th>\n",
       "      <th>R2 Score</th>\n",
       "      <th>RMSE</th>\n",
       "    </tr>\n",
       "  </thead>\n",
       "  <tbody>\n",
       "    <tr>\n",
       "      <th>0</th>\n",
       "      <td>LinearRegression Model-1</td>\n",
       "      <td>1337.049154</td>\n",
       "      <td>3161360.755842</td>\n",
       "      <td>0.463614</td>\n",
       "      <td>1778.021585</td>\n",
       "    </tr>\n",
       "    <tr>\n",
       "      <th>1</th>\n",
       "      <td>LinearReg Model-1 (Log Transformation)</td>\n",
       "      <td>0.399751</td>\n",
       "      <td>0.249539</td>\n",
       "      <td>0.521978</td>\n",
       "      <td>0.499539</td>\n",
       "    </tr>\n",
       "    <tr>\n",
       "      <th>2</th>\n",
       "      <td>Random Forest</td>\n",
       "      <td>1352.93274</td>\n",
       "      <td>3755930.795828</td>\n",
       "      <td>0.362733</td>\n",
       "      <td>1938.022393</td>\n",
       "    </tr>\n",
       "    <tr>\n",
       "      <th>3</th>\n",
       "      <td>XGB</td>\n",
       "      <td>1378.350274</td>\n",
       "      <td>3688251.361097</td>\n",
       "      <td>0.374217</td>\n",
       "      <td>1920.482065</td>\n",
       "    </tr>\n",
       "    <tr>\n",
       "      <th>4</th>\n",
       "      <td>ADABoost</td>\n",
       "      <td>1425.128291</td>\n",
       "      <td>3661070.164316</td>\n",
       "      <td>0.378828</td>\n",
       "      <td>1913.392318</td>\n",
       "    </tr>\n",
       "    <tr>\n",
       "      <th>5</th>\n",
       "      <td>Lasso</td>\n",
       "      <td>1337.046267</td>\n",
       "      <td>3161354.819549</td>\n",
       "      <td>0.463615</td>\n",
       "      <td>1778.019915</td>\n",
       "    </tr>\n",
       "  </tbody>\n",
       "</table>\n",
       "</div>"
      ],
      "text/plain": [
       "                                    Model          MAE             MSE  \\\n",
       "0                LinearRegression Model-1  1337.049154  3161360.755842   \n",
       "1  LinearReg Model-1 (Log Transformation)     0.399751        0.249539   \n",
       "2                           Random Forest   1352.93274  3755930.795828   \n",
       "3                                     XGB  1378.350274  3688251.361097   \n",
       "4                                ADABoost  1425.128291  3661070.164316   \n",
       "5                                   Lasso  1337.046267  3161354.819549   \n",
       "\n",
       "   R2 Score         RMSE  \n",
       "0  0.463614  1778.021585  \n",
       "1  0.521978     0.499539  \n",
       "2  0.362733  1938.022393  \n",
       "3  0.374217  1920.482065  \n",
       "4  0.378828  1913.392318  \n",
       "5  0.463615  1778.019915  "
      ]
     },
     "execution_count": 117,
     "metadata": {},
     "output_type": "execute_result"
    }
   ],
   "source": [
    "new_row = {\"Model\": \"Lasso\",\"MAE\": mae, \"MSE\": mse, \"R2 Score\": r2s, \"RMSE\": rmse}\n",
    "models = models.append(new_row,ignore_index=True)\n",
    "models"
   ]
  },
  {
   "cell_type": "code",
   "execution_count": 118,
   "id": "b4483f9e",
   "metadata": {},
   "outputs": [
    {
     "name": "stdout",
     "output_type": "stream",
     "text": [
      "Training Score 0.6087601846269717\n",
      "Testing Score 0.4636164273680239\n",
      "MAE 1337.0370654563344\n",
      "MSE 3161345.3487277413\n",
      "RMSE 1778.0172520894564\n",
      "R2_Score 0.4636164273680239\n"
     ]
    }
   ],
   "source": [
    "m9 = Ridge(alpha=0.01)\n",
    "m9.fit(x_train, y_train)\n",
    "ypred_m9 = m9.predict(x_test)\n",
    "\n",
    "gen_metrics(m9,x_train,x_test,y_train,y_test)"
   ]
  },
  {
   "cell_type": "code",
   "execution_count": 119,
   "id": "1cf78f41",
   "metadata": {},
   "outputs": [
    {
     "name": "stdout",
     "output_type": "stream",
     "text": [
      "MAE 1337.0370654563344\n",
      "MSE 3161345.3487277413\n",
      "RMSE 1778.0172520894564\n",
      "R2_score 0.4636164273680239\n",
      "Model_Score 0.4636164273680239\n"
     ]
    }
   ],
   "source": [
    "ypred_m9 = m9.predict(x_test)\n",
    "mae = mean_absolute_error(y_test,ypred_m9)\n",
    "mse = mean_squared_error(y_test,ypred_m9)\n",
    "rmse = np.sqrt(mean_squared_error(y_test,ypred_m9))\n",
    "r2s = r2_score(y_test,ypred_m9)\n",
    "print('MAE',mae)\n",
    "print('MSE',mse)\n",
    "print('RMSE',rmse)\n",
    "print('R2_score',r2s)\n",
    "print('Model_Score',m9.score(x_test,y_test))"
   ]
  },
  {
   "cell_type": "code",
   "execution_count": 120,
   "id": "80ce2871",
   "metadata": {},
   "outputs": [
    {
     "data": {
      "text/html": [
       "<div>\n",
       "<style scoped>\n",
       "    .dataframe tbody tr th:only-of-type {\n",
       "        vertical-align: middle;\n",
       "    }\n",
       "\n",
       "    .dataframe tbody tr th {\n",
       "        vertical-align: top;\n",
       "    }\n",
       "\n",
       "    .dataframe thead th {\n",
       "        text-align: right;\n",
       "    }\n",
       "</style>\n",
       "<table border=\"1\" class=\"dataframe\">\n",
       "  <thead>\n",
       "    <tr style=\"text-align: right;\">\n",
       "      <th></th>\n",
       "      <th>Model</th>\n",
       "      <th>MAE</th>\n",
       "      <th>MSE</th>\n",
       "      <th>R2 Score</th>\n",
       "      <th>RMSE</th>\n",
       "    </tr>\n",
       "  </thead>\n",
       "  <tbody>\n",
       "    <tr>\n",
       "      <th>0</th>\n",
       "      <td>LinearRegression Model-1</td>\n",
       "      <td>1337.049154</td>\n",
       "      <td>3161360.755842</td>\n",
       "      <td>0.463614</td>\n",
       "      <td>1778.021585</td>\n",
       "    </tr>\n",
       "    <tr>\n",
       "      <th>1</th>\n",
       "      <td>LinearReg Model-1 (Log Transformation)</td>\n",
       "      <td>0.399751</td>\n",
       "      <td>0.249539</td>\n",
       "      <td>0.521978</td>\n",
       "      <td>0.499539</td>\n",
       "    </tr>\n",
       "    <tr>\n",
       "      <th>2</th>\n",
       "      <td>Random Forest</td>\n",
       "      <td>1352.93274</td>\n",
       "      <td>3755930.795828</td>\n",
       "      <td>0.362733</td>\n",
       "      <td>1938.022393</td>\n",
       "    </tr>\n",
       "    <tr>\n",
       "      <th>3</th>\n",
       "      <td>XGB</td>\n",
       "      <td>1378.350274</td>\n",
       "      <td>3688251.361097</td>\n",
       "      <td>0.374217</td>\n",
       "      <td>1920.482065</td>\n",
       "    </tr>\n",
       "    <tr>\n",
       "      <th>4</th>\n",
       "      <td>ADABoost</td>\n",
       "      <td>1425.128291</td>\n",
       "      <td>3661070.164316</td>\n",
       "      <td>0.378828</td>\n",
       "      <td>1913.392318</td>\n",
       "    </tr>\n",
       "    <tr>\n",
       "      <th>5</th>\n",
       "      <td>Lasso</td>\n",
       "      <td>1337.046267</td>\n",
       "      <td>3161354.819549</td>\n",
       "      <td>0.463615</td>\n",
       "      <td>1778.019915</td>\n",
       "    </tr>\n",
       "    <tr>\n",
       "      <th>6</th>\n",
       "      <td>Ridge</td>\n",
       "      <td>1337.037065</td>\n",
       "      <td>3161345.348728</td>\n",
       "      <td>0.463616</td>\n",
       "      <td>1778.017252</td>\n",
       "    </tr>\n",
       "  </tbody>\n",
       "</table>\n",
       "</div>"
      ],
      "text/plain": [
       "                                    Model          MAE             MSE  \\\n",
       "0                LinearRegression Model-1  1337.049154  3161360.755842   \n",
       "1  LinearReg Model-1 (Log Transformation)     0.399751        0.249539   \n",
       "2                           Random Forest   1352.93274  3755930.795828   \n",
       "3                                     XGB  1378.350274  3688251.361097   \n",
       "4                                ADABoost  1425.128291  3661070.164316   \n",
       "5                                   Lasso  1337.046267  3161354.819549   \n",
       "6                                   Ridge  1337.037065  3161345.348728   \n",
       "\n",
       "   R2 Score         RMSE  \n",
       "0  0.463614  1778.021585  \n",
       "1  0.521978     0.499539  \n",
       "2  0.362733  1938.022393  \n",
       "3  0.374217  1920.482065  \n",
       "4  0.378828  1913.392318  \n",
       "5  0.463615  1778.019915  \n",
       "6  0.463616  1778.017252  "
      ]
     },
     "execution_count": 120,
     "metadata": {},
     "output_type": "execute_result"
    }
   ],
   "source": [
    "new_row = {\"Model\": \"Ridge\",\"MAE\": mae, \"MSE\": mse, \"R2 Score\": r2s, \"RMSE\": rmse}\n",
    "models = models.append(new_row,ignore_index=True)\n",
    "models"
   ]
  },
  {
   "cell_type": "code",
   "execution_count": 121,
   "id": "48ee4039",
   "metadata": {},
   "outputs": [
    {
     "data": {
      "text/html": [
       "<div>\n",
       "<style scoped>\n",
       "    .dataframe tbody tr th:only-of-type {\n",
       "        vertical-align: middle;\n",
       "    }\n",
       "\n",
       "    .dataframe tbody tr th {\n",
       "        vertical-align: top;\n",
       "    }\n",
       "\n",
       "    .dataframe thead th {\n",
       "        text-align: right;\n",
       "    }\n",
       "</style>\n",
       "<table border=\"1\" class=\"dataframe\">\n",
       "  <thead>\n",
       "    <tr style=\"text-align: right;\">\n",
       "      <th></th>\n",
       "      <th>account_info</th>\n",
       "      <th>duration_month</th>\n",
       "      <th>Loan</th>\n",
       "      <th>Regularity</th>\n",
       "      <th>Purpose</th>\n",
       "      <th>credit_amount</th>\n",
       "      <th>savings_account</th>\n",
       "      <th>Saving Account</th>\n",
       "      <th>employment_st</th>\n",
       "      <th>Salary</th>\n",
       "      <th>...</th>\n",
       "      <th>resident_since</th>\n",
       "      <th>property_type</th>\n",
       "      <th>age</th>\n",
       "      <th>installment_type</th>\n",
       "      <th>housing_type</th>\n",
       "      <th>credits_no</th>\n",
       "      <th>job_type</th>\n",
       "      <th>liables</th>\n",
       "      <th>telephone</th>\n",
       "      <th>foreigner</th>\n",
       "    </tr>\n",
       "  </thead>\n",
       "  <tbody>\n",
       "    <tr>\n",
       "      <th>0</th>\n",
       "      <td>0</td>\n",
       "      <td>6.0</td>\n",
       "      <td>1</td>\n",
       "      <td>0</td>\n",
       "      <td>0</td>\n",
       "      <td>7.063904</td>\n",
       "      <td>4</td>\n",
       "      <td>265.208621</td>\n",
       "      <td>4</td>\n",
       "      <td>852.0</td>\n",
       "      <td>...</td>\n",
       "      <td>4</td>\n",
       "      <td>0</td>\n",
       "      <td>65.0</td>\n",
       "      <td>2</td>\n",
       "      <td>1</td>\n",
       "      <td>2.0</td>\n",
       "      <td>2</td>\n",
       "      <td>1</td>\n",
       "      <td>1</td>\n",
       "      <td>0</td>\n",
       "    </tr>\n",
       "    <tr>\n",
       "      <th>1</th>\n",
       "      <td>2</td>\n",
       "      <td>48.0</td>\n",
       "      <td>1</td>\n",
       "      <td>1</td>\n",
       "      <td>0</td>\n",
       "      <td>8.691315</td>\n",
       "      <td>0</td>\n",
       "      <td>72.000000</td>\n",
       "      <td>2</td>\n",
       "      <td>2400.0</td>\n",
       "      <td>...</td>\n",
       "      <td>2</td>\n",
       "      <td>0</td>\n",
       "      <td>22.0</td>\n",
       "      <td>2</td>\n",
       "      <td>1</td>\n",
       "      <td>1.0</td>\n",
       "      <td>2</td>\n",
       "      <td>1</td>\n",
       "      <td>0</td>\n",
       "      <td>0</td>\n",
       "    </tr>\n",
       "    <tr>\n",
       "      <th>2</th>\n",
       "      <td>2</td>\n",
       "      <td>12.0</td>\n",
       "      <td>1</td>\n",
       "      <td>0</td>\n",
       "      <td>2</td>\n",
       "      <td>7.647786</td>\n",
       "      <td>0</td>\n",
       "      <td>68.000000</td>\n",
       "      <td>3</td>\n",
       "      <td>2078.0</td>\n",
       "      <td>...</td>\n",
       "      <td>3</td>\n",
       "      <td>0</td>\n",
       "      <td>49.0</td>\n",
       "      <td>2</td>\n",
       "      <td>1</td>\n",
       "      <td>1.0</td>\n",
       "      <td>1</td>\n",
       "      <td>2</td>\n",
       "      <td>0</td>\n",
       "      <td>0</td>\n",
       "    </tr>\n",
       "    <tr>\n",
       "      <th>3</th>\n",
       "      <td>0</td>\n",
       "      <td>42.0</td>\n",
       "      <td>1</td>\n",
       "      <td>1</td>\n",
       "      <td>0</td>\n",
       "      <td>8.972337</td>\n",
       "      <td>0</td>\n",
       "      <td>73.000000</td>\n",
       "      <td>3</td>\n",
       "      <td>2380.0</td>\n",
       "      <td>...</td>\n",
       "      <td>4</td>\n",
       "      <td>1</td>\n",
       "      <td>45.0</td>\n",
       "      <td>2</td>\n",
       "      <td>2</td>\n",
       "      <td>1.0</td>\n",
       "      <td>2</td>\n",
       "      <td>2</td>\n",
       "      <td>0</td>\n",
       "      <td>0</td>\n",
       "    </tr>\n",
       "    <tr>\n",
       "      <th>4</th>\n",
       "      <td>0</td>\n",
       "      <td>24.0</td>\n",
       "      <td>1</td>\n",
       "      <td>0</td>\n",
       "      <td>0</td>\n",
       "      <td>8.490849</td>\n",
       "      <td>0</td>\n",
       "      <td>52.000000</td>\n",
       "      <td>2</td>\n",
       "      <td>1756.0</td>\n",
       "      <td>...</td>\n",
       "      <td>4</td>\n",
       "      <td>3</td>\n",
       "      <td>53.0</td>\n",
       "      <td>2</td>\n",
       "      <td>2</td>\n",
       "      <td>2.0</td>\n",
       "      <td>2</td>\n",
       "      <td>2</td>\n",
       "      <td>0</td>\n",
       "      <td>0</td>\n",
       "    </tr>\n",
       "    <tr>\n",
       "      <th>...</th>\n",
       "      <td>...</td>\n",
       "      <td>...</td>\n",
       "      <td>...</td>\n",
       "      <td>...</td>\n",
       "      <td>...</td>\n",
       "      <td>...</td>\n",
       "      <td>...</td>\n",
       "      <td>...</td>\n",
       "      <td>...</td>\n",
       "      <td>...</td>\n",
       "      <td>...</td>\n",
       "      <td>...</td>\n",
       "      <td>...</td>\n",
       "      <td>...</td>\n",
       "      <td>...</td>\n",
       "      <td>...</td>\n",
       "      <td>...</td>\n",
       "      <td>...</td>\n",
       "      <td>...</td>\n",
       "      <td>...</td>\n",
       "      <td>...</td>\n",
       "    </tr>\n",
       "    <tr>\n",
       "      <th>695</th>\n",
       "      <td>2</td>\n",
       "      <td>6.0</td>\n",
       "      <td>1</td>\n",
       "      <td>1</td>\n",
       "      <td>0</td>\n",
       "      <td>7.119636</td>\n",
       "      <td>2</td>\n",
       "      <td>709.000000</td>\n",
       "      <td>2</td>\n",
       "      <td>2198.0</td>\n",
       "      <td>...</td>\n",
       "      <td>4</td>\n",
       "      <td>1</td>\n",
       "      <td>50.0</td>\n",
       "      <td>2</td>\n",
       "      <td>0</td>\n",
       "      <td>1.0</td>\n",
       "      <td>2</td>\n",
       "      <td>1</td>\n",
       "      <td>0</td>\n",
       "      <td>0</td>\n",
       "    </tr>\n",
       "    <tr>\n",
       "      <th>696</th>\n",
       "      <td>2</td>\n",
       "      <td>12.0</td>\n",
       "      <td>1</td>\n",
       "      <td>1</td>\n",
       "      <td>0</td>\n",
       "      <td>7.005789</td>\n",
       "      <td>0</td>\n",
       "      <td>36.000000</td>\n",
       "      <td>3</td>\n",
       "      <td>1089.0</td>\n",
       "      <td>...</td>\n",
       "      <td>3</td>\n",
       "      <td>0</td>\n",
       "      <td>29.0</td>\n",
       "      <td>2</td>\n",
       "      <td>1</td>\n",
       "      <td>2.0</td>\n",
       "      <td>2</td>\n",
       "      <td>1</td>\n",
       "      <td>0</td>\n",
       "      <td>1</td>\n",
       "    </tr>\n",
       "    <tr>\n",
       "      <th>697</th>\n",
       "      <td>2</td>\n",
       "      <td>12.0</td>\n",
       "      <td>1</td>\n",
       "      <td>0</td>\n",
       "      <td>0</td>\n",
       "      <td>6.830874</td>\n",
       "      <td>0</td>\n",
       "      <td>86.000000</td>\n",
       "      <td>0</td>\n",
       "      <td>3369.3</td>\n",
       "      <td>...</td>\n",
       "      <td>2</td>\n",
       "      <td>1</td>\n",
       "      <td>38.0</td>\n",
       "      <td>2</td>\n",
       "      <td>1</td>\n",
       "      <td>1.0</td>\n",
       "      <td>0</td>\n",
       "      <td>1</td>\n",
       "      <td>0</td>\n",
       "      <td>0</td>\n",
       "    </tr>\n",
       "    <tr>\n",
       "      <th>698</th>\n",
       "      <td>2</td>\n",
       "      <td>18.0</td>\n",
       "      <td>1</td>\n",
       "      <td>0</td>\n",
       "      <td>0</td>\n",
       "      <td>7.495542</td>\n",
       "      <td>0</td>\n",
       "      <td>9.000000</td>\n",
       "      <td>2</td>\n",
       "      <td>1138.0</td>\n",
       "      <td>...</td>\n",
       "      <td>2</td>\n",
       "      <td>2</td>\n",
       "      <td>24.0</td>\n",
       "      <td>2</td>\n",
       "      <td>1</td>\n",
       "      <td>2.0</td>\n",
       "      <td>2</td>\n",
       "      <td>1</td>\n",
       "      <td>0</td>\n",
       "      <td>0</td>\n",
       "    </tr>\n",
       "    <tr>\n",
       "      <th>699</th>\n",
       "      <td>1</td>\n",
       "      <td>15.0</td>\n",
       "      <td>1</td>\n",
       "      <td>1</td>\n",
       "      <td>2</td>\n",
       "      <td>7.552237</td>\n",
       "      <td>0</td>\n",
       "      <td>38.000000</td>\n",
       "      <td>4</td>\n",
       "      <td>976.0</td>\n",
       "      <td>...</td>\n",
       "      <td>4</td>\n",
       "      <td>2</td>\n",
       "      <td>40.0</td>\n",
       "      <td>2</td>\n",
       "      <td>0</td>\n",
       "      <td>1.0</td>\n",
       "      <td>3</td>\n",
       "      <td>1</td>\n",
       "      <td>1</td>\n",
       "      <td>0</td>\n",
       "    </tr>\n",
       "  </tbody>\n",
       "</table>\n",
       "<p>700 rows × 24 columns</p>\n",
       "</div>"
      ],
      "text/plain": [
       "     account_info  duration_month  Loan  Regularity  Purpose  credit_amount  \\\n",
       "0               0             6.0     1           0        0       7.063904   \n",
       "1               2            48.0     1           1        0       8.691315   \n",
       "2               2            12.0     1           0        2       7.647786   \n",
       "3               0            42.0     1           1        0       8.972337   \n",
       "4               0            24.0     1           0        0       8.490849   \n",
       "..            ...             ...   ...         ...      ...            ...   \n",
       "695             2             6.0     1           1        0       7.119636   \n",
       "696             2            12.0     1           1        0       7.005789   \n",
       "697             2            12.0     1           0        0       6.830874   \n",
       "698             2            18.0     1           0        0       7.495542   \n",
       "699             1            15.0     1           1        2       7.552237   \n",
       "\n",
       "     savings_account  Saving Account  employment_st  Salary  ...  \\\n",
       "0                  4      265.208621              4   852.0  ...   \n",
       "1                  0       72.000000              2  2400.0  ...   \n",
       "2                  0       68.000000              3  2078.0  ...   \n",
       "3                  0       73.000000              3  2380.0  ...   \n",
       "4                  0       52.000000              2  1756.0  ...   \n",
       "..               ...             ...            ...     ...  ...   \n",
       "695                2      709.000000              2  2198.0  ...   \n",
       "696                0       36.000000              3  1089.0  ...   \n",
       "697                0       86.000000              0  3369.3  ...   \n",
       "698                0        9.000000              2  1138.0  ...   \n",
       "699                0       38.000000              4   976.0  ...   \n",
       "\n",
       "     resident_since  property_type   age  installment_type  housing_type  \\\n",
       "0                 4              0  65.0                 2             1   \n",
       "1                 2              0  22.0                 2             1   \n",
       "2                 3              0  49.0                 2             1   \n",
       "3                 4              1  45.0                 2             2   \n",
       "4                 4              3  53.0                 2             2   \n",
       "..              ...            ...   ...               ...           ...   \n",
       "695               4              1  50.0                 2             0   \n",
       "696               3              0  29.0                 2             1   \n",
       "697               2              1  38.0                 2             1   \n",
       "698               2              2  24.0                 2             1   \n",
       "699               4              2  40.0                 2             0   \n",
       "\n",
       "     credits_no  job_type  liables  telephone  foreigner  \n",
       "0           2.0         2        1          1          0  \n",
       "1           1.0         2        1          0          0  \n",
       "2           1.0         1        2          0          0  \n",
       "3           1.0         2        2          0          0  \n",
       "4           2.0         2        2          0          0  \n",
       "..          ...       ...      ...        ...        ...  \n",
       "695         1.0         2        1          0          0  \n",
       "696         2.0         2        1          0          1  \n",
       "697         1.0         0        1          0          0  \n",
       "698         2.0         2        1          0          0  \n",
       "699         1.0         3        1          1          0  \n",
       "\n",
       "[700 rows x 24 columns]"
      ]
     },
     "execution_count": 121,
     "metadata": {},
     "output_type": "execute_result"
    }
   ],
   "source": [
    "train=df3.copy()\n",
    "train"
   ]
  },
  {
   "cell_type": "code",
   "execution_count": 122,
   "id": "a4313b01",
   "metadata": {},
   "outputs": [
    {
     "data": {
      "text/html": [
       "<div>\n",
       "<style scoped>\n",
       "    .dataframe tbody tr th:only-of-type {\n",
       "        vertical-align: middle;\n",
       "    }\n",
       "\n",
       "    .dataframe tbody tr th {\n",
       "        vertical-align: top;\n",
       "    }\n",
       "\n",
       "    .dataframe thead th {\n",
       "        text-align: right;\n",
       "    }\n",
       "</style>\n",
       "<table border=\"1\" class=\"dataframe\">\n",
       "  <thead>\n",
       "    <tr style=\"text-align: right;\">\n",
       "      <th></th>\n",
       "      <th>serial number</th>\n",
       "      <th>account_info</th>\n",
       "      <th>duration_month</th>\n",
       "      <th>Loan</th>\n",
       "      <th>Regularity</th>\n",
       "      <th>Purpose</th>\n",
       "      <th>savings_account</th>\n",
       "      <th>Saving Account</th>\n",
       "      <th>employment_st</th>\n",
       "      <th>Salary</th>\n",
       "      <th>...</th>\n",
       "      <th>resident_since</th>\n",
       "      <th>property_type</th>\n",
       "      <th>age</th>\n",
       "      <th>installment_type</th>\n",
       "      <th>housing_type</th>\n",
       "      <th>credits_no</th>\n",
       "      <th>job_type</th>\n",
       "      <th>liables</th>\n",
       "      <th>telephone</th>\n",
       "      <th>foreigner</th>\n",
       "    </tr>\n",
       "  </thead>\n",
       "  <tbody>\n",
       "    <tr>\n",
       "      <th>0</th>\n",
       "      <td>1</td>\n",
       "      <td>NaN</td>\n",
       "      <td>12</td>\n",
       "      <td>YES</td>\n",
       "      <td>YES</td>\n",
       "      <td>A40</td>\n",
       "      <td>A63</td>\n",
       "      <td>517.0</td>\n",
       "      <td>A73</td>\n",
       "      <td>1134</td>\n",
       "      <td>...</td>\n",
       "      <td>4</td>\n",
       "      <td>A123</td>\n",
       "      <td>29</td>\n",
       "      <td>A143</td>\n",
       "      <td>A151</td>\n",
       "      <td>1</td>\n",
       "      <td>A172</td>\n",
       "      <td>1</td>\n",
       "      <td>A191</td>\n",
       "      <td>A201</td>\n",
       "    </tr>\n",
       "    <tr>\n",
       "      <th>1</th>\n",
       "      <td>2</td>\n",
       "      <td>BRONZE</td>\n",
       "      <td>48</td>\n",
       "      <td>YES</td>\n",
       "      <td>NO</td>\n",
       "      <td>A40</td>\n",
       "      <td>A61</td>\n",
       "      <td>18.0</td>\n",
       "      <td>A75</td>\n",
       "      <td>783</td>\n",
       "      <td>...</td>\n",
       "      <td>4</td>\n",
       "      <td>A124</td>\n",
       "      <td>46</td>\n",
       "      <td>A143</td>\n",
       "      <td>A153</td>\n",
       "      <td>2</td>\n",
       "      <td>A173</td>\n",
       "      <td>1</td>\n",
       "      <td>A192</td>\n",
       "      <td>A201</td>\n",
       "    </tr>\n",
       "    <tr>\n",
       "      <th>2</th>\n",
       "      <td>3</td>\n",
       "      <td>GOLD</td>\n",
       "      <td>24</td>\n",
       "      <td>YES</td>\n",
       "      <td>YES</td>\n",
       "      <td>A40</td>\n",
       "      <td>A62</td>\n",
       "      <td>389.0</td>\n",
       "      <td>A75</td>\n",
       "      <td>1181</td>\n",
       "      <td>...</td>\n",
       "      <td>2</td>\n",
       "      <td>A124</td>\n",
       "      <td>47</td>\n",
       "      <td>A143</td>\n",
       "      <td>A153</td>\n",
       "      <td>1</td>\n",
       "      <td>A173</td>\n",
       "      <td>1</td>\n",
       "      <td>A192</td>\n",
       "      <td>A201</td>\n",
       "    </tr>\n",
       "    <tr>\n",
       "      <th>3</th>\n",
       "      <td>4</td>\n",
       "      <td>SILVER</td>\n",
       "      <td>30</td>\n",
       "      <td>YES</td>\n",
       "      <td>NO</td>\n",
       "      <td>A49</td>\n",
       "      <td>A62</td>\n",
       "      <td>326.0</td>\n",
       "      <td>A75</td>\n",
       "      <td>853</td>\n",
       "      <td>...</td>\n",
       "      <td>2</td>\n",
       "      <td>A122</td>\n",
       "      <td>41</td>\n",
       "      <td>A142</td>\n",
       "      <td>A152</td>\n",
       "      <td>2</td>\n",
       "      <td>A173</td>\n",
       "      <td>1</td>\n",
       "      <td>A191</td>\n",
       "      <td>A201</td>\n",
       "    </tr>\n",
       "    <tr>\n",
       "      <th>4</th>\n",
       "      <td>5</td>\n",
       "      <td>SILVER</td>\n",
       "      <td>27</td>\n",
       "      <td>YES</td>\n",
       "      <td>YES</td>\n",
       "      <td>A49</td>\n",
       "      <td>A61</td>\n",
       "      <td>16.0</td>\n",
       "      <td>A72</td>\n",
       "      <td>888</td>\n",
       "      <td>...</td>\n",
       "      <td>1</td>\n",
       "      <td>A122</td>\n",
       "      <td>32</td>\n",
       "      <td>A143</td>\n",
       "      <td>A152</td>\n",
       "      <td>1</td>\n",
       "      <td>A173</td>\n",
       "      <td>2</td>\n",
       "      <td>A192</td>\n",
       "      <td>A201</td>\n",
       "    </tr>\n",
       "    <tr>\n",
       "      <th>...</th>\n",
       "      <td>...</td>\n",
       "      <td>...</td>\n",
       "      <td>...</td>\n",
       "      <td>...</td>\n",
       "      <td>...</td>\n",
       "      <td>...</td>\n",
       "      <td>...</td>\n",
       "      <td>...</td>\n",
       "      <td>...</td>\n",
       "      <td>...</td>\n",
       "      <td>...</td>\n",
       "      <td>...</td>\n",
       "      <td>...</td>\n",
       "      <td>...</td>\n",
       "      <td>...</td>\n",
       "      <td>...</td>\n",
       "      <td>...</td>\n",
       "      <td>...</td>\n",
       "      <td>...</td>\n",
       "      <td>...</td>\n",
       "      <td>...</td>\n",
       "    </tr>\n",
       "    <tr>\n",
       "      <th>295</th>\n",
       "      <td>296</td>\n",
       "      <td>NaN</td>\n",
       "      <td>12</td>\n",
       "      <td>YES</td>\n",
       "      <td>YES</td>\n",
       "      <td>A40</td>\n",
       "      <td>A61</td>\n",
       "      <td>77.0</td>\n",
       "      <td>A74</td>\n",
       "      <td>1411</td>\n",
       "      <td>...</td>\n",
       "      <td>4</td>\n",
       "      <td>A121</td>\n",
       "      <td>31</td>\n",
       "      <td>A143</td>\n",
       "      <td>A152</td>\n",
       "      <td>1</td>\n",
       "      <td>A172</td>\n",
       "      <td>1</td>\n",
       "      <td>A191</td>\n",
       "      <td>A201</td>\n",
       "    </tr>\n",
       "    <tr>\n",
       "      <th>296</th>\n",
       "      <td>297</td>\n",
       "      <td>BRONZE</td>\n",
       "      <td>30</td>\n",
       "      <td>YES</td>\n",
       "      <td>YES</td>\n",
       "      <td>A40</td>\n",
       "      <td>A61</td>\n",
       "      <td>47.0</td>\n",
       "      <td>A73</td>\n",
       "      <td>1020</td>\n",
       "      <td>...</td>\n",
       "      <td>4</td>\n",
       "      <td>A122</td>\n",
       "      <td>40</td>\n",
       "      <td>A143</td>\n",
       "      <td>A152</td>\n",
       "      <td>1</td>\n",
       "      <td>A174</td>\n",
       "      <td>1</td>\n",
       "      <td>A192</td>\n",
       "      <td>A201</td>\n",
       "    </tr>\n",
       "    <tr>\n",
       "      <th>297</th>\n",
       "      <td>298</td>\n",
       "      <td>NaN</td>\n",
       "      <td>12</td>\n",
       "      <td>YES</td>\n",
       "      <td>YES</td>\n",
       "      <td>A40</td>\n",
       "      <td>A61</td>\n",
       "      <td>39.0</td>\n",
       "      <td>A75</td>\n",
       "      <td>1102</td>\n",
       "      <td>...</td>\n",
       "      <td>4</td>\n",
       "      <td>A123</td>\n",
       "      <td>38</td>\n",
       "      <td>A143</td>\n",
       "      <td>A152</td>\n",
       "      <td>1</td>\n",
       "      <td>A173</td>\n",
       "      <td>1</td>\n",
       "      <td>A191</td>\n",
       "      <td>A201</td>\n",
       "    </tr>\n",
       "    <tr>\n",
       "      <th>298</th>\n",
       "      <td>299</td>\n",
       "      <td>BRONZE</td>\n",
       "      <td>45</td>\n",
       "      <td>YES</td>\n",
       "      <td>YES</td>\n",
       "      <td>A40</td>\n",
       "      <td>A61</td>\n",
       "      <td>89.0</td>\n",
       "      <td>A73</td>\n",
       "      <td>1167</td>\n",
       "      <td>...</td>\n",
       "      <td>4</td>\n",
       "      <td>A124</td>\n",
       "      <td>23</td>\n",
       "      <td>A143</td>\n",
       "      <td>A153</td>\n",
       "      <td>1</td>\n",
       "      <td>A173</td>\n",
       "      <td>1</td>\n",
       "      <td>A192</td>\n",
       "      <td>A201</td>\n",
       "    </tr>\n",
       "    <tr>\n",
       "      <th>299</th>\n",
       "      <td>300</td>\n",
       "      <td>SILVER</td>\n",
       "      <td>45</td>\n",
       "      <td>YES</td>\n",
       "      <td>NO</td>\n",
       "      <td>A40</td>\n",
       "      <td>A62</td>\n",
       "      <td>230.0</td>\n",
       "      <td>A71</td>\n",
       "      <td>1583</td>\n",
       "      <td>...</td>\n",
       "      <td>4</td>\n",
       "      <td>A123</td>\n",
       "      <td>27</td>\n",
       "      <td>A143</td>\n",
       "      <td>A152</td>\n",
       "      <td>1</td>\n",
       "      <td>A173</td>\n",
       "      <td>1</td>\n",
       "      <td>A191</td>\n",
       "      <td>A201</td>\n",
       "    </tr>\n",
       "  </tbody>\n",
       "</table>\n",
       "<p>300 rows × 24 columns</p>\n",
       "</div>"
      ],
      "text/plain": [
       "     serial number account_info  duration_month Loan Regularity Purpose  \\\n",
       "0                1          NaN              12  YES        YES     A40   \n",
       "1                2       BRONZE              48  YES         NO     A40   \n",
       "2                3         GOLD              24  YES        YES     A40   \n",
       "3                4       SILVER              30  YES         NO     A49   \n",
       "4                5       SILVER              27  YES        YES     A49   \n",
       "..             ...          ...             ...  ...        ...     ...   \n",
       "295            296          NaN              12  YES        YES     A40   \n",
       "296            297       BRONZE              30  YES        YES     A40   \n",
       "297            298          NaN              12  YES        YES     A40   \n",
       "298            299       BRONZE              45  YES        YES     A40   \n",
       "299            300       SILVER              45  YES         NO     A40   \n",
       "\n",
       "    savings_account  Saving Account employment_st  Salary  ...  \\\n",
       "0               A63           517.0           A73    1134  ...   \n",
       "1               A61            18.0           A75     783  ...   \n",
       "2               A62           389.0           A75    1181  ...   \n",
       "3               A62           326.0           A75     853  ...   \n",
       "4               A61            16.0           A72     888  ...   \n",
       "..              ...             ...           ...     ...  ...   \n",
       "295             A61            77.0           A74    1411  ...   \n",
       "296             A61            47.0           A73    1020  ...   \n",
       "297             A61            39.0           A75    1102  ...   \n",
       "298             A61            89.0           A73    1167  ...   \n",
       "299             A62           230.0           A71    1583  ...   \n",
       "\n",
       "     resident_since property_type age installment_type  housing_type  \\\n",
       "0                 4          A123  29             A143          A151   \n",
       "1                 4          A124  46             A143          A153   \n",
       "2                 2          A124  47             A143          A153   \n",
       "3                 2          A122  41             A142          A152   \n",
       "4                 1          A122  32             A143          A152   \n",
       "..              ...           ...  ..              ...           ...   \n",
       "295               4          A121  31             A143          A152   \n",
       "296               4          A122  40             A143          A152   \n",
       "297               4          A123  38             A143          A152   \n",
       "298               4          A124  23             A143          A153   \n",
       "299               4          A123  27             A143          A152   \n",
       "\n",
       "    credits_no  job_type liables telephone  foreigner  \n",
       "0            1      A172       1      A191       A201  \n",
       "1            2      A173       1      A192       A201  \n",
       "2            1      A173       1      A192       A201  \n",
       "3            2      A173       1      A191       A201  \n",
       "4            1      A173       2      A192       A201  \n",
       "..         ...       ...     ...       ...        ...  \n",
       "295          1      A172       1      A191       A201  \n",
       "296          1      A174       1      A192       A201  \n",
       "297          1      A173       1      A191       A201  \n",
       "298          1      A173       1      A192       A201  \n",
       "299          1      A173       1      A191       A201  \n",
       "\n",
       "[300 rows x 24 columns]"
      ]
     },
     "execution_count": 122,
     "metadata": {},
     "output_type": "execute_result"
    }
   ],
   "source": [
    "test=pd.read_csv(\"test.csv\")\n",
    "test"
   ]
  },
  {
   "cell_type": "code",
   "execution_count": 123,
   "id": "0b74a4ee",
   "metadata": {},
   "outputs": [
    {
     "data": {
      "text/html": [
       "<div>\n",
       "<style scoped>\n",
       "    .dataframe tbody tr th:only-of-type {\n",
       "        vertical-align: middle;\n",
       "    }\n",
       "\n",
       "    .dataframe tbody tr th {\n",
       "        vertical-align: top;\n",
       "    }\n",
       "\n",
       "    .dataframe thead th {\n",
       "        text-align: right;\n",
       "    }\n",
       "</style>\n",
       "<table border=\"1\" class=\"dataframe\">\n",
       "  <thead>\n",
       "    <tr style=\"text-align: right;\">\n",
       "      <th></th>\n",
       "      <th>account_info</th>\n",
       "      <th>duration_month</th>\n",
       "      <th>Loan</th>\n",
       "      <th>Regularity</th>\n",
       "      <th>Purpose</th>\n",
       "      <th>savings_account</th>\n",
       "      <th>Saving Account</th>\n",
       "      <th>employment_st</th>\n",
       "      <th>Salary</th>\n",
       "      <th>investment</th>\n",
       "      <th>...</th>\n",
       "      <th>resident_since</th>\n",
       "      <th>property_type</th>\n",
       "      <th>age</th>\n",
       "      <th>installment_type</th>\n",
       "      <th>housing_type</th>\n",
       "      <th>credits_no</th>\n",
       "      <th>job_type</th>\n",
       "      <th>liables</th>\n",
       "      <th>telephone</th>\n",
       "      <th>foreigner</th>\n",
       "    </tr>\n",
       "  </thead>\n",
       "  <tbody>\n",
       "    <tr>\n",
       "      <th>0</th>\n",
       "      <td>NaN</td>\n",
       "      <td>12</td>\n",
       "      <td>YES</td>\n",
       "      <td>YES</td>\n",
       "      <td>A40</td>\n",
       "      <td>A63</td>\n",
       "      <td>517.0</td>\n",
       "      <td>A73</td>\n",
       "      <td>1134</td>\n",
       "      <td>45.36</td>\n",
       "      <td>...</td>\n",
       "      <td>4</td>\n",
       "      <td>A123</td>\n",
       "      <td>29</td>\n",
       "      <td>A143</td>\n",
       "      <td>A151</td>\n",
       "      <td>1</td>\n",
       "      <td>A172</td>\n",
       "      <td>1</td>\n",
       "      <td>A191</td>\n",
       "      <td>A201</td>\n",
       "    </tr>\n",
       "    <tr>\n",
       "      <th>1</th>\n",
       "      <td>BRONZE</td>\n",
       "      <td>48</td>\n",
       "      <td>YES</td>\n",
       "      <td>NO</td>\n",
       "      <td>A40</td>\n",
       "      <td>A61</td>\n",
       "      <td>18.0</td>\n",
       "      <td>A75</td>\n",
       "      <td>783</td>\n",
       "      <td>31.32</td>\n",
       "      <td>...</td>\n",
       "      <td>4</td>\n",
       "      <td>A124</td>\n",
       "      <td>46</td>\n",
       "      <td>A143</td>\n",
       "      <td>A153</td>\n",
       "      <td>2</td>\n",
       "      <td>A173</td>\n",
       "      <td>1</td>\n",
       "      <td>A192</td>\n",
       "      <td>A201</td>\n",
       "    </tr>\n",
       "  </tbody>\n",
       "</table>\n",
       "<p>2 rows × 23 columns</p>\n",
       "</div>"
      ],
      "text/plain": [
       "  account_info  duration_month Loan Regularity Purpose savings_account  \\\n",
       "0          NaN              12  YES        YES     A40             A63   \n",
       "1       BRONZE              48  YES         NO     A40             A61   \n",
       "\n",
       "   Saving Account employment_st  Salary  investment  ... resident_since  \\\n",
       "0           517.0           A73    1134       45.36  ...              4   \n",
       "1            18.0           A75     783       31.32  ...              4   \n",
       "\n",
       "  property_type age  installment_type housing_type  credits_no job_type  \\\n",
       "0          A123  29              A143         A151           1     A172   \n",
       "1          A124  46              A143         A153           2     A173   \n",
       "\n",
       "  liables  telephone foreigner  \n",
       "0       1       A191      A201  \n",
       "1       1       A192      A201  \n",
       "\n",
       "[2 rows x 23 columns]"
      ]
     },
     "execution_count": 123,
     "metadata": {},
     "output_type": "execute_result"
    }
   ],
   "source": [
    "test.drop('serial number',axis=1,inplace=True)\n",
    "test.head(2)"
   ]
  },
  {
   "cell_type": "code",
   "execution_count": 124,
   "id": "9d15691f",
   "metadata": {
    "scrolled": true
   },
   "outputs": [
    {
     "data": {
      "text/plain": [
       "Index(['account_info', 'duration_month', 'Loan', 'Regularity', 'Purpose',\n",
       "       'savings_account', 'Saving Account', 'employment_st', 'Salary',\n",
       "       'investment', 'Gender', 'Status', 'gurantors', 'resident_since',\n",
       "       'property_type', 'age', 'installment_type', 'housing_type',\n",
       "       'credits_no', 'job_type', 'liables', 'telephone', 'foreigner'],\n",
       "      dtype='object')"
      ]
     },
     "execution_count": 124,
     "metadata": {},
     "output_type": "execute_result"
    }
   ],
   "source": [
    "test.columns"
   ]
  },
  {
   "cell_type": "code",
   "execution_count": 125,
   "id": "032c7fb6",
   "metadata": {},
   "outputs": [
    {
     "data": {
      "text/plain": [
       "(300, 23)"
      ]
     },
     "execution_count": 125,
     "metadata": {},
     "output_type": "execute_result"
    }
   ],
   "source": [
    "test.shape"
   ]
  },
  {
   "cell_type": "code",
   "execution_count": 126,
   "id": "09f62cb2",
   "metadata": {},
   "outputs": [],
   "source": [
    "x=train.drop('credit_amount',axis=1)"
   ]
  },
  {
   "cell_type": "code",
   "execution_count": 127,
   "id": "c452b76f",
   "metadata": {},
   "outputs": [
    {
     "data": {
      "text/plain": [
       "Index(['account_info', 'Loan', 'Regularity', 'Purpose', 'savings_account',\n",
       "       'employment_st', 'Gender', 'Status', 'gurantors', 'property_type',\n",
       "       'installment_type', 'housing_type', 'job_type', 'telephone',\n",
       "       'foreigner'],\n",
       "      dtype='object')"
      ]
     },
     "execution_count": 127,
     "metadata": {},
     "output_type": "execute_result"
    }
   ],
   "source": [
    "test_categorical= test.select_dtypes(exclude='number')\n",
    "test_categorical.columns"
   ]
  },
  {
   "cell_type": "code",
   "execution_count": 128,
   "id": "2afab793",
   "metadata": {},
   "outputs": [],
   "source": [
    "lb=LabelEncoder()\n",
    "c=test_categorical.columns\n",
    "for i in c:\n",
    "    test[i] =lb.fit_transform(test[i])"
   ]
  },
  {
   "cell_type": "code",
   "execution_count": 129,
   "id": "9340d2c1",
   "metadata": {},
   "outputs": [
    {
     "data": {
      "text/plain": [
       "account_info         0\n",
       "duration_month       0\n",
       "Loan                 0\n",
       "Regularity           0\n",
       "Purpose              0\n",
       "savings_account      0\n",
       "Saving Account      63\n",
       "employment_st        0\n",
       "Salary               0\n",
       "investment           0\n",
       "Gender               0\n",
       "Status               0\n",
       "gurantors            0\n",
       "resident_since       0\n",
       "property_type        0\n",
       "age                  0\n",
       "installment_type     0\n",
       "housing_type         0\n",
       "credits_no           0\n",
       "job_type             0\n",
       "liables              0\n",
       "telephone            0\n",
       "foreigner            0\n",
       "dtype: int64"
      ]
     },
     "execution_count": 129,
     "metadata": {},
     "output_type": "execute_result"
    }
   ],
   "source": [
    "test.isnull().sum()"
   ]
  },
  {
   "cell_type": "code",
   "execution_count": 130,
   "id": "7dbed7e1",
   "metadata": {},
   "outputs": [
    {
     "data": {
      "text/plain": [
       "count     237.000000\n",
       "mean      293.164557\n",
       "std       657.347574\n",
       "min         1.000000\n",
       "25%        39.000000\n",
       "50%        70.000000\n",
       "75%       109.000000\n",
       "max      3774.000000\n",
       "Name: Saving Account, dtype: float64"
      ]
     },
     "execution_count": 130,
     "metadata": {},
     "output_type": "execute_result"
    }
   ],
   "source": [
    "test['Saving Account'].describe()"
   ]
  },
  {
   "cell_type": "code",
   "execution_count": 131,
   "id": "c4419e09",
   "metadata": {},
   "outputs": [],
   "source": [
    "test['Saving Account'].fillna(293.164557,inplace=True)"
   ]
  },
  {
   "cell_type": "code",
   "execution_count": 132,
   "id": "77df6c13",
   "metadata": {},
   "outputs": [
    {
     "data": {
      "text/plain": [
       "array([ 1133.49197242,  5888.21595334,  2033.48546444,  2706.01316809,\n",
       "        2197.44285161,  2369.82411362,  6249.91882368,  1331.45726461,\n",
       "         794.6424221 ,  1420.20520626,  2546.39318712,   909.41082275,\n",
       "        2650.88648435,  1046.91432854, 12115.07392499,  7763.38659828,\n",
       "        4563.49118112,  2381.35085478,  3420.50886173,  2241.10406391,\n",
       "        1935.69869555,   888.52061313,   816.18588252,   830.49331621,\n",
       "        2583.53392902,  1182.68571218,  2360.50368286,  1291.40037514,\n",
       "        5197.34828989,  3545.45574505,  6396.0912187 ,  2248.91937939,\n",
       "         731.11676742,  3229.69911154,  1809.74020457,  3157.3110805 ,\n",
       "        4407.42655203,  1874.19454805,  4146.26260818,  2096.53636651,\n",
       "        3156.58002988,   919.5770756 ,  2140.00352924,  2404.22708719,\n",
       "        6377.55484954,  1722.59817555,  3107.26909987,   917.86318243,\n",
       "        5551.25503362,  2228.33183378,  1440.2742439 ,  2482.63580899,\n",
       "        1559.77292369,  2583.07585908,  1519.67837578,  2050.7867152 ,\n",
       "        1473.13270512,  2543.08614405,  4504.52499676,  1321.52283884,\n",
       "        3798.848213  ,  1399.42778046,  1051.47960251,  3286.88035429,\n",
       "        2257.83817459,  1205.57158384,  2376.96764671,  2178.67874092,\n",
       "        4457.30433591,  1984.70600967,  2432.82738548,  5692.23059377,\n",
       "        5627.3029113 ,  2310.37528169,  2249.3216775 ,  1622.4947511 ,\n",
       "        4887.79640558,  1125.85845456,  4749.1810494 ,  3148.41612214,\n",
       "        7161.06223756,  2362.72608756,  1940.84023053,   988.31652026,\n",
       "        5111.13770596,  1612.25607369,  2369.67276177,  7163.74303303,\n",
       "        6071.75220959,  4912.38086718,  1914.63432876,  4195.66068116,\n",
       "        2363.70204032,  1764.81083764,  2863.31548539,  2000.6706247 ,\n",
       "        3640.59374572,  1988.52233758,  2808.43442852,   897.67986286,\n",
       "        2463.37901538,  1835.05215543,  3121.03484664,  1597.69290386,\n",
       "        1755.16086484,  5481.50483799,   923.08868865,  1482.97669258,\n",
       "       15889.23999569,  1354.10844562,  1312.93461062,   907.57739747,\n",
       "        4271.13404776,  6760.39820812,  5266.86731587,  5869.48796572,\n",
       "        1687.5888762 ,  2179.15606728,  6412.45453752,  1380.54808478,\n",
       "        1480.13370988,  1443.69825809,  3919.63087738,   871.98378078,\n",
       "        3049.27091   ,  1891.74710368,  3036.43153778,  2879.09412674,\n",
       "        4071.48058388,  8725.63743955,  3184.13508011,  1804.57726222,\n",
       "        7912.63612609,  2915.8060967 ,  1335.65947124,  1366.28369035,\n",
       "        1161.79085651,  1407.56661865,  2516.14199514,  2006.52636632,\n",
       "        2991.98727094,  2091.72491167,  1405.86046967,  2688.4103836 ,\n",
       "        1792.98332954,  3599.59682636,  3332.92301829,  2044.83640629,\n",
       "        1387.18447269,   929.51921467,  1851.5288395 ,  3528.44802093,\n",
       "        1987.3410887 ,  1339.87320388,  5963.48168563,  2293.77899351,\n",
       "        1252.05548844,  1976.20254318,  1650.9313409 ,  2909.47965004,\n",
       "        2236.64728281,  2090.73238277,  1715.45570105,  2624.21182665,\n",
       "        1634.85385594,  2163.32924694,  1320.95474169,  2560.60218066,\n",
       "        4293.57925562,  1006.68381204,  6492.40005222,  2314.30052607,\n",
       "        2277.12314754,  1333.47345498,  1432.84352741,  1185.17697799,\n",
       "        3230.48643282,  3366.32730443,  1984.25680992,  4394.75497269,\n",
       "        3683.76887563,  3901.37735974,  2750.39290699,  1368.76676767,\n",
       "        2323.28655846,  1103.62968684,  3157.40276339, 11502.07485083,\n",
       "        5417.31214831,  4253.83033527,  3329.21804078,  1987.62019837,\n",
       "        1283.94651954,  5630.02985365,  2374.64259387,  6572.73279189,\n",
       "        2407.07624508,  1364.88630475,  2674.99987279,  3193.58849971,\n",
       "        3548.29234519,  2877.94155769,  5949.35839235,  1900.89539293,\n",
       "        2697.58740392,  2806.93199208,  2525.46391277,  5359.71547694,\n",
       "        2419.20137974,  1522.1864555 ,  2970.15929286,  3063.31651485,\n",
       "        4097.49674496,  2221.39574385,  2389.39350182, 12324.80889567,\n",
       "        2677.18242124,  2929.70909764,  3199.01962673,  2728.91600737,\n",
       "        1796.28034327,  8334.23602398,  1254.84181666,  1751.39073586,\n",
       "        2929.02670946,  1747.17949931,  1691.11973373,  5522.68699206,\n",
       "        3154.24400488,  1001.4092075 ,  1616.01093572,  1209.42079456,\n",
       "        1480.22866738,  1647.78302961,  1064.36038562,  4532.16598828,\n",
       "         848.02572587,  1578.03228545,  9801.13996635,  5500.77856693,\n",
       "        3990.66258643,  1260.57877345,  2749.74013903,  1128.45196925,\n",
       "        1357.32645777,  9741.51367846,  2687.03342695,  2804.93987528,\n",
       "        1240.45040493,  3310.55217539,  1712.57392524,  7445.20737867,\n",
       "        2722.50635344,  4485.2504806 ,  1173.4336485 ,  2444.94510326,\n",
       "        2553.00272553,  1401.94840398,  2422.01804679,  1893.85446601,\n",
       "        1584.19991168,  3864.16499504,  2273.85550964,  2822.56317506,\n",
       "        1019.47564448,  2558.94855549,  2312.56216855,  1758.44072154,\n",
       "        7264.96534954,  2575.88894819,  1623.47555639,  4189.80064476,\n",
       "        2991.26273326,  8882.57414695,  2674.40742437,  1672.59060808,\n",
       "        1276.96164167,  1905.6297775 ,  1984.79124135,  2293.99424182,\n",
       "        4112.69319287, 12541.47974588,  4819.58682641,  4158.48710599,\n",
       "        2568.88694691,  1461.64089166,  5275.56326053,  2047.66578478,\n",
       "        3037.0267466 ,  1710.66445686,  2420.68370336,  1271.67367253,\n",
       "        2108.27218402,  5149.27441461,  1766.4326806 ,   972.49270554,\n",
       "        2841.28723741,  1410.39729029,  5795.68148041,  7868.07686182])"
      ]
     },
     "execution_count": 132,
     "metadata": {},
     "output_type": "execute_result"
    }
   ],
   "source": [
    "ypred_m2 = np.exp(m2.predict(test))\n",
    "ypred_m2"
   ]
  },
  {
   "cell_type": "markdown",
   "id": "f165ebe9",
   "metadata": {},
   "source": [
    "## Inference\n",
    "- The log linear regression model has the lowest RMSE score. Thus we use it to make further predictions."
   ]
  },
  {
   "cell_type": "code",
   "execution_count": 133,
   "id": "9b5f0758",
   "metadata": {},
   "outputs": [],
   "source": [
    "test1=pd.read_csv('test.csv')"
   ]
  },
  {
   "cell_type": "code",
   "execution_count": 134,
   "id": "915ec5ba",
   "metadata": {},
   "outputs": [],
   "source": [
    "test_ID=test1['serial number']"
   ]
  },
  {
   "cell_type": "code",
   "execution_count": 135,
   "id": "322d0f1f",
   "metadata": {},
   "outputs": [],
   "source": [
    "y_test_pred = np.exp(m2.predict(test))\n",
    "\n",
    "submission = pd.DataFrame()\n",
    "submission['S.no'] = test_ID\n",
    "submission['credit_amount'] = y_test_pred \n",
    "\n",
    "submission.to_csv('Final.csv',index=False)"
   ]
  },
  {
   "cell_type": "code",
   "execution_count": null,
   "id": "2fa52951",
   "metadata": {},
   "outputs": [],
   "source": []
  }
 ],
 "metadata": {
  "kernelspec": {
   "display_name": "Python 3 (ipykernel)",
   "language": "python",
   "name": "python3"
  },
  "language_info": {
   "codemirror_mode": {
    "name": "ipython",
    "version": 3
   },
   "file_extension": ".py",
   "mimetype": "text/x-python",
   "name": "python",
   "nbconvert_exporter": "python",
   "pygments_lexer": "ipython3",
   "version": "3.9.12"
  }
 },
 "nbformat": 4,
 "nbformat_minor": 5
}
